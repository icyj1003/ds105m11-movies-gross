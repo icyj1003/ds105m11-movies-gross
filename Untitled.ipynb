{
 "cells": [
  {
   "cell_type": "code",
   "execution_count": 1,
   "id": "f96a2806",
   "metadata": {
    "ExecuteTime": {
     "end_time": "2021-12-06T06:34:13.030451Z",
     "start_time": "2021-12-06T06:34:10.397084Z"
    }
   },
   "outputs": [],
   "source": [
    "import pandas as pd\n",
    "import seaborn as sns\n",
    "import matplotlib.pyplot as plt\n",
    "import numpy as np\n",
    "import matplotlib as mpl\n",
    "import warnings\n",
    "from ipywidgets import *\n",
    "warnings.filterwarnings(\"ignore\")\n",
    "plt.style.use('ggplot')\n"
   ]
  },
  {
   "cell_type": "code",
   "execution_count": 3,
   "id": "b0c8739b",
   "metadata": {
    "ExecuteTime": {
     "end_time": "2021-12-06T06:34:50.815864Z",
     "start_time": "2021-12-06T06:34:50.659332Z"
    }
   },
   "outputs": [],
   "source": [
    "df = pd.read_csv('./data/data_preprocessed.csv')"
   ]
  },
  {
   "cell_type": "code",
   "execution_count": 16,
   "id": "ead9b12b",
   "metadata": {
    "ExecuteTime": {
     "end_time": "2021-12-06T07:34:37.046596Z",
     "start_time": "2021-12-06T07:34:37.024103Z"
    }
   },
   "outputs": [
    {
     "data": {
      "text/html": [
       "<div>\n",
       "<style scoped>\n",
       "    .dataframe tbody tr th:only-of-type {\n",
       "        vertical-align: middle;\n",
       "    }\n",
       "\n",
       "    .dataframe tbody tr th {\n",
       "        vertical-align: top;\n",
       "    }\n",
       "\n",
       "    .dataframe thead th {\n",
       "        text-align: right;\n",
       "    }\n",
       "</style>\n",
       "<table border=\"1\" class=\"dataframe\">\n",
       "  <thead>\n",
       "    <tr style=\"text-align: right;\">\n",
       "      <th></th>\n",
       "      <th>genres</th>\n",
       "      <th>gross_worldwide</th>\n",
       "    </tr>\n",
       "  </thead>\n",
       "  <tbody>\n",
       "    <tr>\n",
       "      <th>0</th>\n",
       "      <td>Comedy,</td>\n",
       "      <td>6.342749e+06</td>\n",
       "    </tr>\n",
       "    <tr>\n",
       "      <th>1</th>\n",
       "      <td>Comedy,Drama,</td>\n",
       "      <td>6.001908e+06</td>\n",
       "    </tr>\n",
       "    <tr>\n",
       "      <th>2</th>\n",
       "      <td>Comedy,Romance,</td>\n",
       "      <td>9.442198e+06</td>\n",
       "    </tr>\n",
       "    <tr>\n",
       "      <th>3</th>\n",
       "      <td>Drama,</td>\n",
       "      <td>1.893080e+06</td>\n",
       "    </tr>\n",
       "    <tr>\n",
       "      <th>4</th>\n",
       "      <td>Drama,Romance,</td>\n",
       "      <td>8.888091e+06</td>\n",
       "    </tr>\n",
       "  </tbody>\n",
       "</table>\n",
       "</div>"
      ],
      "text/plain": [
       "            genres  gross_worldwide\n",
       "0          Comedy,     6.342749e+06\n",
       "1    Comedy,Drama,     6.001908e+06\n",
       "2  Comedy,Romance,     9.442198e+06\n",
       "3           Drama,     1.893080e+06\n",
       "4   Drama,Romance,     8.888091e+06"
      ]
     },
     "execution_count": 16,
     "metadata": {},
     "output_type": "execute_result"
    }
   ],
   "source": [
    "type = 'G'\n",
    "data4 = None\n",
    "if type == 'G':\n",
    "    graph_2_data = df.genres.value_counts().head(5)/df.shape[0] * 100\n",
    "    labels = graph_2_data.index\n",
    "    data4 = df[df['genres'].isin(labels)].groupby('genres', as_index=False)['gross_worldwide'].mean()\n",
    "\n",
    "elif type == 'L':\n",
    "    graph_2_data = df.languages.value_counts().head(9)/df.shape[0] * 100\n",
    "    labels = graph_2_data.index\n",
    "    data4 = df[df['languages'].isin(labels)].groupby('languages', as_index=False)['gross_worldwide'].mean()\n",
    "\n",
    "elif type == 'C':\n",
    "    graph_2_data = df.countries_of_origin.value_counts().head(9) / \\\n",
    "        df.shape[0] * 100\n",
    "    labels = graph_2_data.index\n",
    "    data4 = df[df['countries_of_origin'].isin(labels)].groupby('countries_of_origin', as_index=False)['gross_worldwide'].mean()\n",
    "    \n",
    "data4"
   ]
  }
 ],
 "metadata": {
  "hide_input": false,
  "kernelspec": {
   "display_name": "Python 3 (ipykernel)",
   "language": "python",
   "name": "python3"
  },
  "language_info": {
   "codemirror_mode": {
    "name": "ipython",
    "version": 3
   },
   "file_extension": ".py",
   "mimetype": "text/x-python",
   "name": "python",
   "nbconvert_exporter": "python",
   "pygments_lexer": "ipython3",
   "version": "3.8.12"
  },
  "toc": {
   "base_numbering": 1,
   "nav_menu": {},
   "number_sections": true,
   "sideBar": true,
   "skip_h1_title": false,
   "title_cell": "Table of Contents",
   "title_sidebar": "Contents",
   "toc_cell": false,
   "toc_position": {},
   "toc_section_display": true,
   "toc_window_display": false
  }
 },
 "nbformat": 4,
 "nbformat_minor": 5
}
