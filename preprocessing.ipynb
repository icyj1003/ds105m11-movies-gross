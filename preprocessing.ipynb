{
 "cells": [
  {
   "cell_type": "markdown",
   "metadata": {
    "id": "IKGnt_-rnLZD"
   },
   "source": [
    "## Import thư viện"
   ]
  },
  {
   "cell_type": "code",
   "execution_count": 710,
   "metadata": {
    "ExecuteTime": {
     "end_time": "2021-11-21T06:03:44.142589Z",
     "start_time": "2021-11-21T06:03:44.125749Z"
    },
    "id": "z7Ym7Qs6nLZT"
   },
   "outputs": [],
   "source": [
    "from IPython.core.interactiveshell import InteractiveShell\n",
    "InteractiveShell.ast_node_interactivity = \"all\"\n",
    "import pandas as pd\n",
    "import numpy as np\n",
    "import seaborn as sb\n",
    "pd.set_option('display.max_columns', None)"
   ]
  },
  {
   "cell_type": "markdown",
   "metadata": {
    "id": "1C3XlJxpnLZW"
   },
   "source": [
    "## Đọc dataset"
   ]
  },
  {
   "cell_type": "code",
   "execution_count": 711,
   "metadata": {
    "ExecuteTime": {
     "end_time": "2021-11-21T06:03:44.773144Z",
     "start_time": "2021-11-21T06:03:44.144573Z"
    },
    "colab": {
     "base_uri": "https://localhost:8080/"
    },
    "id": "dK1wk65BnLZX",
    "outputId": "1c1974f5-9141-43fe-c2bc-760244449a29"
   },
   "outputs": [
    {
     "name": "stderr",
     "output_type": "stream",
     "text": [
      "C:\\Users\\anhbu\\anaconda3\\envs\\home\\lib\\site-packages\\IPython\\core\\interactiveshell.py:3444: DtypeWarning: Columns (19) have mixed types.Specify dtype option on import or set low_memory=False.\n",
      "  exec(code_obj, self.user_global_ns, self.user_ns)\n"
     ]
    }
   ],
   "source": [
    "df = pd.read_csv('./data/data.csv')"
   ]
  },
  {
   "cell_type": "markdown",
   "metadata": {
    "id": "BhNZcQfVnLZZ"
   },
   "source": [
    "## Các hàm xử lý"
   ]
  },
  {
   "cell_type": "markdown",
   "metadata": {
    "id": "3tIJaZMNnLZZ"
   },
   "source": [
    "### Hàm xử lí và chuyển đổi đơn vị tiền tệ - Khôi"
   ]
  },
  {
   "cell_type": "code",
   "execution_count": 712,
   "metadata": {
    "ExecuteTime": {
     "end_time": "2021-11-21T06:03:44.803931Z",
     "start_time": "2021-11-21T06:03:44.774636Z"
    },
    "id": "R1eHlePbnLZa"
   },
   "outputs": [],
   "source": [
    "def currency_conv(old):\n",
    "    \"\"\" Viết docstring mô tả hàm theo dạng input, output; docstring mô tả vai trò của class dùng để làm gì.\n",
    "    input: một chuỗi thể đầu vào thể hiện đơn vị tiền tệ cần đổi\n",
    "    output: số tiền khi đã chuyển ra $\n",
    "    \"\"\"\n",
    "    if old!=None and old!=\"\":\n",
    "        s = str(old).replace('(estimated)', '').replace(',', '').replace(' ', '').replace('.', '')\n",
    "        if s.find('R$')!=-1: # Đô la Brazil \n",
    "            return float(s.replace('R$', ''))*0.18\n",
    "\n",
    "        elif s.find('CA$')!=-1: # Đô Canada\n",
    "            return float(s.replace('CA$', ''))*0.808127\n",
    "\n",
    "        elif s.find('A$')!=-1: # Đô úc\n",
    "            return float(s.replace('A$', ''))*7.30\n",
    "\n",
    "        elif s.find('MX$')!=-1: # Đồng Mexican Peso\n",
    "            return float(s.replace('MX$', ''))*0.04938\n",
    "\n",
    "        elif s.find('NZ$')!=-1: # New Zealand\n",
    "            return float(s.replace('NZ$', ''))*0.71494\n",
    "\n",
    "        elif s.find('HK$')!=-1: # Hong Kong Dolar\n",
    "            return float(s.replace('HK$', ''))*0.12866\n",
    "\n",
    "        elif s.find('NT$')!=-1: # Tân đài tệ\n",
    "            return float(s.replace('NT$', ''))*0.036\n",
    "\n",
    "        elif s.find('€')!=-1: # Đồng Euro\n",
    "            return float(s.replace('€', ''))*1.16\n",
    "\n",
    "        elif s.find('₹')!=-1: # Rupee Ấn Độ\n",
    "            return float(s.replace('₹', ''))*0.013\n",
    "        \n",
    "        elif s.find('$')!=-1: # Đô la Mỹ\n",
    "            return float(s.replace('$', ''))*1\n",
    "\n",
    "        elif s.find('£')!=-1: # Bảng anh\n",
    "            return float(s.replace('£', ''))*1.38\n",
    "\n",
    "        elif s.find('TRL')!=-1: # Lira Thổ nhĩ kỳ\n",
    "            return float(s.replace('TRL', ''))*0.10\n",
    "\n",
    "        elif s.find('NOK')!=-1: # Krone Nauy\n",
    "            return float(s.replace('NOK', ''))*0.12\n",
    "\n",
    "        elif s.find('CN¥')!=-1: # Chinese Yuan\n",
    "            return float(s.replace('CN¥', ''))*0.15664\n",
    "\n",
    "        elif s.find('RUR')!=-1: # Rúp Nga\n",
    "            return float(s.replace('RUR', ''))*0.014\n",
    "        \n",
    "        elif s.find('DKK')!=-1: # Krone Đan Mạch\n",
    "            return float(s.replace('DKK', ''))*0.16\n",
    "\n",
    "        elif s.find('ZAR')!=-1: # Rand Nam Phi\n",
    "            return float(s.replace('ZAR', ''))*0.067\n",
    "        \n",
    "        elif s.find('ARS')!=-1: # Peso Argentina\n",
    "            return float(s.replace('ARS', ''))*0.010\n",
    "\n",
    "        elif s.find('SEK')!=-1: # Krone THuỵ Điển\n",
    "            return float(s.replace('SEK', ''))*0.12\n",
    "\n",
    "        elif s.find('₩')!=-1: # Won Hàn\n",
    "            return float(s.replace('₩', ''))*0.00085\n",
    "\n",
    "        elif s.find('CZK')!=-1: # Koruna Séc\n",
    "            return float(s.replace('CZK', ''))*0.045\n",
    "\n",
    "        elif s.find('SGD')!=-1: # Đô la Singapore\n",
    "            return float(s.replace('SGD', ''))*0.74\n",
    "\n",
    "        elif s.find('HUF')!=-1: # Forint Hungary\n",
    "            return float(s.replace('HUF', ''))*0.0032\n",
    "\n",
    "        elif s.find('PLN')!=-1: # Zloty Balan\n",
    "            return float(s.replace('PLN', ''))*0.25\n",
    "\n",
    "        elif s.find('UAH')!=-1: # Hryvnia Ukraina\n",
    "            return float(s.replace('UAH', ''))*0.038\n",
    "\n",
    "        elif s.find('EGP')!=-1: # Bảng Ai Cập\n",
    "            return float(s.replace('EGP', ''))*0.064\n",
    "\n",
    "        elif s.find('THB')!=-1: # Bạt Thái\n",
    "            return float(s.replace('THB', ''))*0.030\n",
    "\n",
    "        elif s.find('¥')!=-1: # yên nhật\n",
    "            return float(s.replace('¥', ''))*0.0088\n",
    "\n",
    "        elif s.find('₱')!=-1: # Peso Philipine\n",
    "            return float(s.replace('₱', ''))*0.019708\n",
    "\n",
    "        elif s.find('MYR')!=-1: # Ringit Malaysia\n",
    "            return float(s.replace('MYR', ''))*0.24\n",
    "            \n",
    "        elif s.find('VEB')!=-1: # Venezuelan Bolívar\n",
    "            return float(s.replace('VEB', ''))*0.000117802\n",
    "\n",
    "        elif s.find('PKR')!=-1: # Rupe Pakistan\n",
    "            return float(s.replace('PKR', ''))*0.00577\n",
    "\n",
    "        elif s.find('CHF')!=-1: # Franc Thuỵ Sĩ\n",
    "            return float(s.replace('CHF', ''))*1.09\n",
    "\n",
    "        elif s.find('ISK')!=-1: # Krona Iceland \n",
    "            return float(s.replace('ISK', ''))*0.0078\n",
    "\n",
    "        elif s.find('COP')!=-1: # Peso Columbia\n",
    "            return float(s.replace('COP', ''))*0.00026\n",
    "\n",
    "        elif s.find('IRR')!=-1: # Rian Iran\n",
    "            return float(s.replace('IRR', ''))*0.000024\n",
    "\n",
    "        elif s.find('DOP')!=-1: # Peso Dominica\n",
    "            return float(s.replace('DOP', ''))*0.018\n",
    "\n",
    "        elif s.find('AED')!=-1: # Dirham Các tiểu vương quốc Ả Rập thống nhất\n",
    "            return float(s.replace('AED', ''))*0.27\n",
    "            \n",
    "        elif s.find('RON')!=-1: # Leu Romania\n",
    "            return float(s.replace('RON', ''))*0.24\n",
    "\n",
    "        elif s.find('NGN')!=-1: # Naira Nigeria\n",
    "            return float(s.replace('NGN', ''))*0.0024\n",
    "\n",
    "        elif s.find('KZT')!=-1: # Tenge Kazakhstan\n",
    "            return float(s.replace('KZT', ''))*0.0024\n",
    "\n",
    "        elif s.find('CLP')!=-1: # Peso Chile\n",
    "            return float(s.replace('CLP', ''))*0.0012\n",
    "\n",
    "        elif s.find('₪')!=-1: # Israeli Shekel\n",
    "            return float(s.replace('₪', ''))*0.3118211\n",
    "\n",
    "        elif s.find('HRK')!=-1: # Kuna Croatia\n",
    "            return float(s.replace('HRK', ''))*0.067\n",
    "\n",
    "        elif s.find('IDR')!=-1: # Rupiah Indonesia\n",
    "            return float(s.replace('IDR', ''))*0.000070\n",
    "\n",
    "        elif s.find('LVL')!=-1: # Latvian Lat\n",
    "            return float(s.replace('LVL', ''))*1.65496\n",
    "\n",
    "        elif s.find('ITL')!=-1: # Italian Lira\n",
    "            return float(s.replace('ITL', ''))*0.00060143 \n",
    "\n",
    "        elif s.find('NPR')!=-1: # Rupee Nepal\n",
    "            return float(s.replace('NPR', ''))*0.0084\n",
    "\n",
    "        elif s.find('BDT')!=-1: # Taka Bangladesh\n",
    "            return float(s.replace('BDT', ''))*0.012\n",
    "\n",
    "        elif s.find('SAR')!=-1: # Riyal Ả Rập Xê Út\n",
    "            return float(s.replace('SAR', ''))*0.27\n",
    "\n",
    "        elif s.find('AMD')!=-1: # Dram Armenia \n",
    "            return float(s.replace('AMD', ''))*0.0021\n",
    "            \n",
    "        elif s.find('FRF')!=-1: # French Franc\n",
    "            return float(s.replace('FRF', ''))*0.177239\n",
    "\n",
    "        elif s.find('MVR')!=-1: # Rufiyaa Maldives\n",
    "            return float(s.replace('MVR', ''))*0.065\n",
    "\n",
    "        elif s.find('EEK')!=-1: #  Estonian Kroon\n",
    "            return float(s.replace('EEK', ''))*0.074409311\n",
    "\n",
    "        elif s.find('BGL')!=-1: # Lev Bulgaria\n",
    "            return float(s.replace('BGL', ''))*0.60\n",
    "\n",
    "        elif s.find('PEN')!=-1: # Nuevo Sol Peru\n",
    "            return float(s.replace('PEN', ''))*0.25\n",
    "\n",
    "        elif s.find('GEL')!=-1: # Lari Gruzia\n",
    "            return float(s.replace('GEL', ''))*0.32\n",
    "\n",
    "        elif s.find('LTL')!=-1: # Lithuanian Litas\n",
    "            return float(s.replace('LTL', ''))*0.337285\n",
    "        else: return None\n",
    "        # return ''.join(i for i in s if not i.isdigit()).lstrip().rsplit()[0]\n",
    "    else:\n",
    "        return None"
   ]
  },
  {
   "cell_type": "markdown",
   "metadata": {
    "id": "LysCNiHenLZb"
   },
   "source": [
    "### Hàm xử lý và phân loại loại chứng chỉ - Khôi"
   ]
  },
  {
   "cell_type": "code",
   "execution_count": 713,
   "metadata": {
    "ExecuteTime": {
     "end_time": "2021-11-21T06:03:44.819321Z",
     "start_time": "2021-11-21T06:03:44.805884Z"
    },
    "id": "kHRnCNyPnLZb"
   },
   "outputs": [],
   "source": [
    "def certification_conv(old):\n",
    "    \"\"\" Viết docstring mô tả hàm theo dạng input, output; docstring mô tả vai trò của class dùng để làm gì.\n",
    "    Tại liệu tham khảo\n",
    "    https://rating-system.fandom.com/wiki/Vietnam_Movie_Rating_System\n",
    "    https://en.wikipedia.org/wiki/TV_Parental_Guidelines\n",
    "    https://en.wikipedia.org/wiki/Motion_Picture_Association_film_rating_system\n",
    "    https://en.wikipedia.org/wiki/Hong_Kong_motion_picture_rating_system\n",
    "    \"\"\"\n",
    "\n",
    "    if (str(old).find('Rated R ')!=-1 or \n",
    "        str(old).find('R ')!=-1 or \n",
    "        str(old)=='R'):\n",
    "        return 'C16'\n",
    "\n",
    "    elif (str(old).find('PG ')!=-1 or \n",
    "        str(old)==('G')!=-1 or \n",
    "        str(old)=='PG' or \n",
    "        str(old)=='TV-G' or \n",
    "        str(old)=='TV-Y' or \n",
    "        str(old)=='TV-PG' or \n",
    "        str(old).find('TV-Y7')!=-1 or \n",
    "        str(old)=='I' or \n",
    "        str(old)=='Approved'):\n",
    "        return 'P'\n",
    "\n",
    "    elif (str(old).find('PG-13')!=-1 or \n",
    "        str(old)=='TV-14' or \n",
    "        str(old)=='II' or \n",
    "        str(old)=='IIA' or \n",
    "        str(old)=='IIB'):\n",
    "        return 'C13'\n",
    "\n",
    "    elif (str(old).find('NC-17 ')!=-1 or \n",
    "        str(old)=='TV-MA' or \n",
    "        str(old)=='MA-17' or \n",
    "        str(old)=='M' or \n",
    "        str(old)=='III' or \n",
    "        str(old)=='(Banned)'):\n",
    "        return 'C18'\n",
    "\n",
    "    elif (str(old)=='Not Rated'):\n",
    "        return 'Unrated'\n",
    "\n",
    "    else:\n",
    "        return None"
   ]
  },
  {
   "cell_type": "markdown",
   "metadata": {
    "id": "rJXbterznLZd"
   },
   "source": [
    "### Hàm tách năm - Khôi"
   ]
  },
  {
   "cell_type": "code",
   "execution_count": 714,
   "metadata": {
    "ExecuteTime": {
     "end_time": "2021-11-21T06:03:44.834834Z",
     "start_time": "2021-11-21T06:03:44.821305Z"
    },
    "id": "bB3BEivlnLZe"
   },
   "outputs": [],
   "source": [
    "import re\n",
    "\n",
    "def get_year(old):\n",
    "    \"\"\" Viết docstring mô tả hàm theo dạng input, output; docstring mô tả vai trò của class dùng để làm gì.\n",
    "    \"\"\"\n",
    "\n",
    "    if str(old)!=None and str(old)!=\"nan\":\n",
    "        try:\n",
    "            s = str(old).split(',')\n",
    "            if len(s)==1:\n",
    "                s=s[0]\n",
    "            else:\n",
    "                s=s[1]\n",
    "            s = re.sub(r'[^0-9]', '', str(s))\n",
    "            return float(s)\n",
    "        except:\n",
    "            print(str(old).split(','))\n",
    "\n",
    "    else: \n",
    "        return None"
   ]
  },
  {
   "cell_type": "markdown",
   "metadata": {
    "id": "EgMCVzepnLZe"
   },
   "source": [
    "### Hàm chuyển đổi chuỗi thời gian về dạng phút - Thu Hà"
   ]
  },
  {
   "cell_type": "code",
   "execution_count": 715,
   "metadata": {
    "ExecuteTime": {
     "end_time": "2021-11-21T06:03:44.850325Z",
     "start_time": "2021-11-21T06:03:44.837315Z"
    },
    "id": "eaJdm_gZnLZe"
   },
   "outputs": [],
   "source": [
    "def to_minutes(time):\n",
    "    \"\"\" Chuyển đổi chuỗi thời gian thành dạng phút \n",
    "    Input: Chuỗi thời gian. Ví dụ '2h 28min'\n",
    "    Output: Thời gian dưới dạng phút. Ví dụ 60, 120\n",
    "    \"\"\"\n",
    "    if str(time).find('h')!=-1 or str(time).find('min')!=-1:\n",
    "      time = str(time)\n",
    "      time = time.replace(\"h\",\"\")\n",
    "      time = time.replace(\"min\",\"\")\n",
    "      times = time.split()\n",
    "      times = np.array(times)\n",
    "      times = times.astype(\"float\")\n",
    "      minutes=0\n",
    "      if len(times)==1:\n",
    "        if(times[0]>3):\n",
    "          minutes=times[0]\n",
    "        else: minutes=times[0]*60\n",
    "      else: minutes = times[0]*60+times[1]\n",
    "      return minutes\n",
    "    else:\n",
    "      return None"
   ]
  },
  {
   "cell_type": "markdown",
   "metadata": {
    "id": "E9zY80s4nLZf"
   },
   "source": [
    "### Hàm xử lý votes - Thu Hà"
   ]
  },
  {
   "cell_type": "code",
   "execution_count": 716,
   "metadata": {
    "ExecuteTime": {
     "end_time": "2021-11-21T06:03:44.865895Z",
     "start_time": "2021-11-21T06:03:44.852712Z"
    },
    "id": "lW_FpmPPnLZg"
   },
   "outputs": [],
   "source": [
    "def pp_vote(votes):\n",
    "    \"\"\" Đổi đơn vị thành nghìn người\n",
    "    Input: Chuỗi hoặc số thể hiện số lượng vote. Ví dụ '2K', '1231', 12312\n",
    "    Output: Số lượng người vote đơn vị nghìn người. Ví dụ 2, 1.231, 12.312\n",
    "    \"\"\"\n",
    "    if str(votes) != 'nan':\n",
    "        votes= str(votes)\n",
    "        num_vote=0\n",
    "        if(votes.count(\"M\")==1):\n",
    "            votes = votes.replace(\"M\",\"\")\n",
    "            vote= float(votes)\n",
    "            num_vote = vote*1000\n",
    "        elif(votes.count(\"K\")==1):\n",
    "            votes = votes.replace(\"K\",\"\")\n",
    "            vote= float(votes)\n",
    "            num_vote = vote\n",
    "        else: \n",
    "            vote= float(votes)\n",
    "            num_vote = vote*1/1000\n",
    "        return float(str(num_vote))\n",
    "    else:\n",
    "        return 0"
   ]
  },
  {
   "cell_type": "markdown",
   "metadata": {
    "id": "JI2hEhD1nLZg"
   },
   "source": [
    "### Hàm xử lý reviews - Thu Hà"
   ]
  },
  {
   "cell_type": "code",
   "execution_count": 717,
   "metadata": {
    "ExecuteTime": {
     "end_time": "2021-11-21T06:03:44.881072Z",
     "start_time": "2021-11-21T06:03:44.867279Z"
    },
    "id": "JjmcQCbKnLZg"
   },
   "outputs": [],
   "source": [
    "def pp_review(reviews):\n",
    "    \"\"\" Đổi số lượng đánh giá thành đơn vị nghìn người\n",
    "    Input: Chuỗi hoặc số thể hiện số lượt đánh giá. Ví dụ '2k', 123, '12312'\n",
    "    Output: Số lượng đánh giá (đơn vị người). Ví dụ 2000, 123, 12312\n",
    "    \"\"\"\n",
    "    reviews= str(reviews)\n",
    "    num_review=0\n",
    "    if reviews==None or reviews=='nan' or reviews=='':\n",
    "      return 0\n",
    "    \n",
    "    if(reviews.count(\"M\")==1):\n",
    "      reviews = reviews.replace(\"M\",\"\")\n",
    "      review= float(reviews)\n",
    "      num_review = review*1000000\n",
    "    elif(reviews.count(\"K\")==1):\n",
    "      reviews = reviews.replace(\"K\",\"\")\n",
    "      review= float(reviews)\n",
    "      num_review = review*1000\n",
    "    else: \n",
    "      review= float(reviews)\n",
    "      num_review = review\n",
    "    return float(str(num_review))"
   ]
  },
  {
   "cell_type": "markdown",
   "metadata": {
    "id": "vLr_4guynLZh"
   },
   "source": [
    "### Hàm xử lý tỉ lệ khung hình - Khôi"
   ]
  },
  {
   "cell_type": "code",
   "execution_count": 718,
   "metadata": {
    "ExecuteTime": {
     "end_time": "2021-11-21T06:03:44.896511Z",
     "start_time": "2021-11-21T06:03:44.882904Z"
    },
    "id": "I9kq2hqhnLZh"
   },
   "outputs": [],
   "source": [
    "def pp_ratio(aspect_ratio):\n",
    "    \"\"\" \n",
    "    \"\"\"\n",
    "    return None"
   ]
  },
  {
   "cell_type": "markdown",
   "metadata": {
    "id": "X-u3VXgEnLZi"
   },
   "source": [
    "### Hàm xử lý score - Thu Hà"
   ]
  },
  {
   "cell_type": "code",
   "execution_count": 719,
   "metadata": {
    "ExecuteTime": {
     "end_time": "2021-11-21T06:03:44.911908Z",
     "start_time": "2021-11-21T06:03:44.899489Z"
    },
    "id": "TKamujRznLZi"
   },
   "outputs": [],
   "source": [
    "def pp_score(score):\n",
    "    \"\"\" Chuyển score về dạng số\n",
    "    Input: Chuỗi thể hiện điểm trên thang 10. Ví dụ '5/10', '5.5/10'\n",
    "    Output: Số điểm tương ứng. Ví dụ 5, 5.5\n",
    "    \"\"\"\n",
    "    if score!=None:\n",
    "        return float(str(score).replace(\"/10\",\"\"))\n",
    "    else:\n",
    "        return None"
   ]
  },
  {
   "cell_type": "markdown",
   "metadata": {},
   "source": [
    "### Hàm xử lý color\n"
   ]
  },
  {
   "cell_type": "code",
   "execution_count": 720,
   "metadata": {
    "ExecuteTime": {
     "end_time": "2021-11-21T06:03:44.927278Z",
     "start_time": "2021-11-21T06:03:44.912910Z"
    }
   },
   "outputs": [],
   "source": [
    "def pp_color(color):\n",
    "    \"\"\" Chuyển score về dạng số\n",
    "    Input: Chuỗi thể hiện điểm trên thang 10. Ví dụ '5/10', '5.5/10'\n",
    "    Output: Số điểm tương ứng. Ví dụ 5, 5.5\n",
    "    \"\"\"\n",
    "    if str(color)!='nan':\n",
    "        if str(color).find('Color')!=-1:\n",
    "            return 'Color'\n",
    "        else:\n",
    "            return str(color)\n",
    "    else:\n",
    "        return None"
   ]
  },
  {
   "cell_type": "markdown",
   "metadata": {},
   "source": [
    "### Hàm xử lý Cast"
   ]
  },
  {
   "cell_type": "code",
   "execution_count": 721,
   "metadata": {
    "ExecuteTime": {
     "end_time": "2021-11-21T06:03:44.942774Z",
     "start_time": "2021-11-21T06:03:44.928757Z"
    }
   },
   "outputs": [],
   "source": [
    "def pp_cast(casts):\n",
    "    return str(casts).lstrip('Stars,')"
   ]
  },
  {
   "cell_type": "markdown",
   "metadata": {},
   "source": [
    "### Hàm xử lý Writers"
   ]
  },
  {
   "cell_type": "code",
   "execution_count": 722,
   "metadata": {
    "ExecuteTime": {
     "end_time": "2021-11-21T06:03:44.959142Z",
     "start_time": "2021-11-21T06:03:44.944758Z"
    }
   },
   "outputs": [],
   "source": [
    "def pp_writer(casts):\n",
    "    return str(casts).lstrip('Writers,')"
   ]
  },
  {
   "cell_type": "markdown",
   "metadata": {},
   "source": [
    "### Hàm xử lý AR"
   ]
  },
  {
   "cell_type": "code",
   "execution_count": 723,
   "metadata": {
    "ExecuteTime": {
     "end_time": "2021-11-21T06:03:44.973525Z",
     "start_time": "2021-11-21T06:03:44.961126Z"
    }
   },
   "outputs": [],
   "source": [
    "import re\n",
    "\n",
    "\n",
    "def pp_ar(ar):\n",
    "    temp = str(ar)\n",
    "    temp = temp.replace(',', '.').replace(' ', '')\n",
    "    if (temp.find('16:9') != -1\n",
    "        or temp.find('HD') != -1\n",
    "        or temp.find('Stereoscopic3D') != -1\n",
    "        or temp.find('highdefinition') != -1\n",
    "            or temp.find('1.78:1') != -1) and temp.find('-') == -1:\n",
    "        temp = '1.78:1'\n",
    "    elif (temp.find('Anamorphic') != -1 or temp.find('2:39:1') != -1 or temp.find('2.39') != -1) and temp.find('-') == -1:\n",
    "        temp = '2.39:1'\n",
    "    elif temp.find('4:3') != -1 and temp.find('-') == -1:\n",
    "        temp = '1.33:1'\n",
    "    elif temp.find('2KFull') != -1 and temp.find('-') == -1:\n",
    "        temp = '1.90:1'\n",
    "    temp = re.sub(\"[\\(\\[].*?[\\)\\]]\", \"\",\n",
    "                  temp).lower().strip().replace(r'[]', '')\n",
    "    if temp.find('überscope') != -1 and temp.find('-') == -1:\n",
    "        temp = '3:1'\n",
    "    elif (temp.find('CinemaScope') != -1 or temp.find('2.35scope') != -1) and temp.find('-') == -1:\n",
    "        temp = '2.35:1'\n",
    "    elif temp.find('1:1.85lb') != -1:\n",
    "        temp = '1:1.85'\n",
    "    if temp.find('-') != -1:\n",
    "        temp = temp.split('-')[1]\n",
    "    return temp"
   ]
  },
  {
   "cell_type": "markdown",
   "metadata": {
    "id": "a2YqexuZnLZi"
   },
   "source": [
    "## Tiền xử lý dataset"
   ]
  },
  {
   "cell_type": "code",
   "execution_count": 724,
   "metadata": {
    "ExecuteTime": {
     "end_time": "2021-11-21T06:03:45.081243Z",
     "start_time": "2021-11-21T06:03:44.975509Z"
    }
   },
   "outputs": [
    {
     "data": {
      "text/plain": [
       "title                    0.000000\n",
       "casts                    7.546906\n",
       "directors                5.661927\n",
       "writers                 16.526990\n",
       "genres                   5.715235\n",
       "certificate             79.516040\n",
       "release_date             6.972761\n",
       "countries_of_origin      2.643514\n",
       "languages                4.733857\n",
       "production_companies    26.720906\n",
       "gross_worldwide         80.022022\n",
       "budget                  69.781790\n",
       "runtime                 21.175206\n",
       "color                    9.452858\n",
       "sound_mix               85.974954\n",
       "aspect_ratio            69.690905\n",
       "score                   37.595582\n",
       "votes                   37.595582\n",
       "user_reviews            52.498886\n",
       "critic_reviews          71.432566\n",
       "metascore               94.362542\n",
       "dtype: float64"
      ]
     },
     "execution_count": 724,
     "metadata": {},
     "output_type": "execute_result"
    }
   ],
   "source": [
    "df.isnull().mean() * 100 # Phần trăm dữ liệu khuyết"
   ]
  },
  {
   "cell_type": "code",
   "execution_count": 725,
   "metadata": {
    "ExecuteTime": {
     "end_time": "2021-11-21T06:03:45.204123Z",
     "start_time": "2021-11-21T06:03:45.082728Z"
    }
   },
   "outputs": [],
   "source": [
    "# drop các datapoint bị khuyết doanh thu\n",
    "df.dropna(subset=['gross_worldwide'], inplace=True)\n",
    "\n",
    "# drop các datapoint trùng lặp khuyết doanh thu\n",
    "df.drop_duplicates(inplace=True)"
   ]
  },
  {
   "cell_type": "code",
   "execution_count": 726,
   "metadata": {
    "ExecuteTime": {
     "end_time": "2021-11-21T06:03:45.219641Z",
     "start_time": "2021-11-21T06:03:45.205115Z"
    },
    "id": "t7e_ftPZnLZj"
   },
   "outputs": [],
   "source": [
    "# drop các dư thừa 'casts', 'directors', 'writers', 'sound_mix' , 'production_companies'\n",
    "# df.drop(columns=['casts', 'directors', 'writers', 'sound_mix' , 'production_companies'], inplace=True)"
   ]
  },
  {
   "cell_type": "code",
   "execution_count": 727,
   "metadata": {
    "ExecuteTime": {
     "end_time": "2021-11-21T06:03:45.250421Z",
     "start_time": "2021-11-21T06:03:45.221130Z"
    }
   },
   "outputs": [
    {
     "data": {
      "text/plain": [
       "title                    0.000000\n",
       "casts                    7.848955\n",
       "directors                7.664644\n",
       "writers                 11.566644\n",
       "genres                   7.974826\n",
       "certificate             57.954597\n",
       "release_date             0.359631\n",
       "countries_of_origin      5.331535\n",
       "languages                6.194650\n",
       "production_companies    15.068555\n",
       "gross_worldwide          0.000000\n",
       "budget                  71.701506\n",
       "runtime                 10.159586\n",
       "color                    9.314453\n",
       "sound_mix               71.526186\n",
       "aspect_ratio            48.545741\n",
       "score                    8.770510\n",
       "votes                    8.770510\n",
       "user_reviews            17.410654\n",
       "critic_reviews          34.619016\n",
       "metascore               76.754327\n",
       "dtype: float64"
      ]
     },
     "execution_count": 727,
     "metadata": {},
     "output_type": "execute_result"
    }
   ],
   "source": [
    "df.isnull().mean() * 100 # Phần trăm dữ liệu khuyết sau khi đã drop các cột khuyết doanh thu"
   ]
  },
  {
   "cell_type": "code",
   "execution_count": 728,
   "metadata": {
    "ExecuteTime": {
     "end_time": "2021-11-21T06:03:45.265788Z",
     "start_time": "2021-11-21T06:03:45.253865Z"
    }
   },
   "outputs": [
    {
     "data": {
      "text/plain": [
       "(22245, 21)"
      ]
     },
     "execution_count": 728,
     "metadata": {},
     "output_type": "execute_result"
    }
   ],
   "source": [
    "df.shape"
   ]
  },
  {
   "cell_type": "code",
   "execution_count": 729,
   "metadata": {
    "ExecuteTime": {
     "end_time": "2021-11-21T06:03:46.096066Z",
     "start_time": "2021-11-21T06:03:45.267754Z"
    },
    "id": "DPumsZlwnLZj"
   },
   "outputs": [],
   "source": [
    "#apply các hàm xử lý\n",
    "df['gross_worldwide'] = df['gross_worldwide'].apply(currency_conv)\n",
    "df['budget'] = df['budget'].apply(currency_conv)\n",
    "df['certificate'] = df['certificate'].apply(certification_conv)\n",
    "df['score'] = df['score'].apply(pp_score)\n",
    "df['votes'] = df['votes'].apply(pp_vote)\n",
    "df['user_reviews'] = df['user_reviews'].apply(pp_review)\n",
    "df['critic_reviews'] = df['critic_reviews'].apply(pp_review)\n",
    "df['runtime'] = df['runtime'].apply(to_minutes)\n",
    "df['release_date'] = df['release_date'].apply(get_year)\n",
    "df['color'] = df['color'].apply(pp_color)\n",
    "df['casts'] = df['casts'].apply(pp_cast)\n",
    "df['writers'] = df['writers'].apply(pp_writer)\n",
    "df['aspect_ratio'] = df['aspect_ratio'].apply(pp_ar)"
   ]
  },
  {
   "cell_type": "code",
   "execution_count": 730,
   "metadata": {
    "ExecuteTime": {
     "end_time": "2021-11-21T06:03:46.111339Z",
     "start_time": "2021-11-21T06:03:46.097451Z"
    }
   },
   "outputs": [],
   "source": [
    "df.aspect_ratio.value_counts().to_csv('ar.csv')"
   ]
  },
  {
   "cell_type": "code",
   "execution_count": 731,
   "metadata": {
    "ExecuteTime": {
     "end_time": "2021-11-21T06:03:46.142091Z",
     "start_time": "2021-11-21T06:03:46.112330Z"
    }
   },
   "outputs": [
    {
     "data": {
      "text/plain": [
       "title                    0.000000\n",
       "casts                    0.000000\n",
       "directors                7.664644\n",
       "writers                  0.000000\n",
       "genres                   7.974826\n",
       "certificate             60.058440\n",
       "release_date             0.359631\n",
       "countries_of_origin      5.331535\n",
       "languages                6.194650\n",
       "production_companies    15.068555\n",
       "gross_worldwide          0.000000\n",
       "budget                  71.714992\n",
       "runtime                 10.159586\n",
       "color                    9.314453\n",
       "sound_mix               71.526186\n",
       "aspect_ratio             0.000000\n",
       "score                    8.770510\n",
       "votes                    0.000000\n",
       "user_reviews             0.000000\n",
       "critic_reviews           0.000000\n",
       "metascore               76.754327\n",
       "dtype: float64"
      ]
     },
     "execution_count": 731,
     "metadata": {},
     "output_type": "execute_result"
    }
   ],
   "source": [
    "df.isna().mean() * 100 # Phần trăm dữ liệu khuyết sau khi đã drop các cột khuyết doanh thu"
   ]
  },
  {
   "cell_type": "code",
   "execution_count": 732,
   "metadata": {
    "ExecuteTime": {
     "end_time": "2021-11-21T06:03:46.157467Z",
     "start_time": "2021-11-21T06:03:46.143579Z"
    }
   },
   "outputs": [
    {
     "data": {
      "text/plain": [
       "(22245, 21)"
      ]
     },
     "execution_count": 732,
     "metadata": {},
     "output_type": "execute_result"
    }
   ],
   "source": [
    "df.shape"
   ]
  },
  {
   "cell_type": "markdown",
   "metadata": {
    "id": "R-ALXZtfnLZk"
   },
   "source": [
    "## Lưu dataset"
   ]
  },
  {
   "cell_type": "code",
   "execution_count": 733,
   "metadata": {
    "ExecuteTime": {
     "end_time": "2021-11-21T06:03:46.495787Z",
     "start_time": "2021-11-21T06:03:46.158955Z"
    },
    "id": "mIzJNu7knLZk"
   },
   "outputs": [],
   "source": [
    "df.to_csv('./data/data_preprocessed.csv', index=False, encoding='utf-8-sig')"
   ]
  },
  {
   "cell_type": "code",
   "execution_count": null,
   "metadata": {},
   "outputs": [],
   "source": []
  }
 ],
 "metadata": {
  "colab": {
   "collapsed_sections": [],
   "name": "preprocessing.ipynb",
   "provenance": []
  },
  "hide_input": false,
  "interpreter": {
   "hash": "9a56bc5fca0877747357b7c62c6b208d27a53739530dccd402600212438165fb"
  },
  "kernelspec": {
   "display_name": "Python 3 (ipykernel)",
   "language": "python",
   "name": "python3"
  },
  "language_info": {
   "codemirror_mode": {
    "name": "ipython",
    "version": 3
   },
   "file_extension": ".py",
   "mimetype": "text/x-python",
   "name": "python",
   "nbconvert_exporter": "python",
   "pygments_lexer": "ipython3",
   "version": "3.8.12"
  },
  "toc": {
   "base_numbering": 1,
   "nav_menu": {},
   "number_sections": true,
   "sideBar": true,
   "skip_h1_title": false,
   "title_cell": "Table of Contents",
   "title_sidebar": "Contents",
   "toc_cell": false,
   "toc_position": {
    "height": "calc(100% - 180px)",
    "left": "10px",
    "top": "150px",
    "width": "384px"
   },
   "toc_section_display": true,
   "toc_window_display": true
  }
 },
 "nbformat": 4,
 "nbformat_minor": 1
}
