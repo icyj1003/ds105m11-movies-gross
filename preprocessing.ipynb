{
  "cells": [
    {
      "cell_type": "markdown",
      "metadata": {
        "id": "IKGnt_-rnLZD"
      },
      "source": [
        "## Import thư viện"
      ]
    },
    {
      "cell_type": "code",
      "execution_count": 103,
      "metadata": {
        "id": "z7Ym7Qs6nLZT"
      },
      "outputs": [],
      "source": [
        "from IPython.core.interactiveshell import InteractiveShell\n",
        "InteractiveShell.ast_node_interactivity = \"all\"\n",
        "import pandas as pd\n",
        "import numpy as np\n",
        "pd.set_option('display.max_columns', None)"
      ]
    },
    {
      "cell_type": "markdown",
      "metadata": {
        "id": "1C3XlJxpnLZW"
      },
      "source": [
        "## Đọc dataset"
      ]
    },
    {
      "cell_type": "code",
      "execution_count": 104,
      "metadata": {
        "colab": {
          "base_uri": "https://localhost:8080/"
        },
        "id": "dK1wk65BnLZX",
        "outputId": "1c1974f5-9141-43fe-c2bc-760244449a29"
      },
      "outputs": [
        {
          "name": "stderr",
          "output_type": "stream",
          "text": [
            "c:\\Users\\anhbu\\Desktop\\venv\\lib\\site-packages\\IPython\\core\\interactiveshell.py:3444: DtypeWarning: Columns (19) have mixed types.Specify dtype option on import or set low_memory=False.\n",
            "  exec(code_obj, self.user_global_ns, self.user_ns)\n"
          ]
        }
      ],
      "source": [
        "df = pd.read_csv('./data/data.csv')"
      ]
    },
    {
      "cell_type": "markdown",
      "metadata": {
        "id": "BhNZcQfVnLZZ"
      },
      "source": [
        "## Các hàm xử lý"
      ]
    },
    {
      "cell_type": "markdown",
      "metadata": {
        "id": "3tIJaZMNnLZZ"
      },
      "source": [
        "### Hàm xử lí và chuyển đổi đơn vị tiền tệ - Khôi"
      ]
    },
    {
      "cell_type": "code",
      "execution_count": 105,
      "metadata": {
        "id": "R1eHlePbnLZa"
      },
      "outputs": [],
      "source": [
        "def currency_conv(old):\n",
        "    \"\"\" Viết docstring mô tả hàm theo dạng input, output; docstring mô tả vai trò của class dùng để làm gì.\n",
        "    input: một chuỗi thể đầu vào thể hiện đơn vị tiền tệ cần đổi\n",
        "    output: số tiền khi đã chuyển ra $\n",
        "    \"\"\"\n",
        "    if old!=None and old!=\"\":\n",
        "        return str(old).replace('(estimated)', '').replace(',', '').replace(' ', '')\n",
        "    else:\n",
        "        return None"
      ]
    },
    {
      "cell_type": "markdown",
      "metadata": {
        "id": "LysCNiHenLZb"
      },
      "source": [
        "### Hàm xử lý và phân loại loại chứng chỉ - Khôi"
      ]
    },
    {
      "cell_type": "code",
      "execution_count": 106,
      "metadata": {
        "id": "kHRnCNyPnLZb"
      },
      "outputs": [],
      "source": [
        "def certification_conv(old):\n",
        "    \"\"\" Viết docstring mô tả hàm theo dạng input, output; docstring mô tả vai trò của class dùng để làm gì.\n",
        "    Tại liệu tham khảo\n",
        "    https://rating-system.fandom.com/wiki/Vietnam_Movie_Rating_System\n",
        "    https://en.wikipedia.org/wiki/TV_Parental_Guidelines\n",
        "    https://en.wikipedia.org/wiki/Motion_Picture_Association_film_rating_system\n",
        "    https://en.wikipedia.org/wiki/Hong_Kong_motion_picture_rating_system\n",
        "    \"\"\"\n",
        "\n",
        "    if (str(old).find('Rated R ')!=-1 or \n",
        "        str(old).find('R ')!=-1 or \n",
        "        str(old)=='R'):\n",
        "        return 'C16'\n",
        "\n",
        "    elif (str(old).find('PG ')!=-1 or \n",
        "        str(old)==('G')!=-1 or \n",
        "        str(old)=='PG' or \n",
        "        str(old)=='TV-G' or \n",
        "        str(old)=='TV-Y' or \n",
        "        str(old)=='TV-PG' or \n",
        "        str(old).find('TV-Y7')!=-1 or \n",
        "        str(old)=='I' or \n",
        "        str(old)=='Approved'):\n",
        "        return 'P'\n",
        "\n",
        "    elif (str(old).find('PG-13')!=-1 or \n",
        "        str(old)=='TV-14' or \n",
        "        str(old)=='II' or \n",
        "        str(old)=='IIA' or \n",
        "        str(old)=='IIB'):\n",
        "        return 'C13'\n",
        "\n",
        "    elif (str(old).find('NC-17 ')!=-1 or \n",
        "        str(old)=='TV-MA' or \n",
        "        str(old)=='MA-17' or \n",
        "        str(old)=='M' or \n",
        "        str(old)=='III' or \n",
        "        str(old)=='(Banned)'):\n",
        "        return 'C18'\n",
        "\n",
        "    elif (str(old)=='Not Rated'):\n",
        "        return 'Unrated'\n",
        "\n",
        "    else:\n",
        "        return str(old)"
      ]
    },
    {
      "cell_type": "markdown",
      "metadata": {
        "id": "rJXbterznLZd"
      },
      "source": [
        "### Hàm tách năm - Khôi"
      ]
    },
    {
      "cell_type": "code",
      "execution_count": 107,
      "metadata": {
        "id": "bB3BEivlnLZe"
      },
      "outputs": [],
      "source": [
        "def get_year(old):\n",
        "    \"\"\" Viết docstring mô tả hàm theo dạng input, output; docstring mô tả vai trò của class dùng để làm gì.\n",
        "    \"\"\"\n",
        "    return None"
      ]
    },
    {
      "cell_type": "markdown",
      "metadata": {
        "id": "EgMCVzepnLZe"
      },
      "source": [
        "### Hàm chuyển đổi chuỗi thời gian về dạng phút - Thu Hà"
      ]
    },
    {
      "cell_type": "code",
      "execution_count": 108,
      "metadata": {
        "id": "eaJdm_gZnLZe"
      },
      "outputs": [],
      "source": [
        "def to_minutes(time):\n",
        "    \"\"\" Chuyển đổi chuỗi thời gian thành dạng phút \n",
        "    Input: Chuỗi thời gian. Ví dụ '2h 28min'\n",
        "    Output: Thời gian dưới dạng phút. Ví dụ 60, 120\n",
        "    \"\"\"\n",
        "    time = str(time)\n",
        "    time = time.replace(\"h\",\"\")\n",
        "    time = time.replace(\"min\",\"\")\n",
        "    times = time.split()\n",
        "    times = np.array(times)\n",
        "    times = times.astype(\"int\")\n",
        "    minutes=0\n",
        "    if len(times)==1:\n",
        "      if(times[0]>3):\n",
        "        minutes=times[0]\n",
        "      else: minutes=times[0]*60\n",
        "    else: minutes = times[0]*60+times[1]\n",
        "    return str(minutes)"
      ]
    },
    {
      "cell_type": "markdown",
      "metadata": {
        "id": "E9zY80s4nLZf"
      },
      "source": [
        "### Hàm xử lý votes - Thu Hà"
      ]
    },
    {
      "cell_type": "code",
      "execution_count": 109,
      "metadata": {
        "id": "lW_FpmPPnLZg"
      },
      "outputs": [],
      "source": [
        "def pp_vote(votes):\n",
        "    \"\"\" Đổi đơn vị thành nghìn người\n",
        "    Input: Chuỗi hoặc số thể hiện số lượng vote. Ví dụ '2K', '1231', 12312\n",
        "    Output: Số lượng người vote đơn vị nghìn người. Ví dụ 2, 1.231, 12.312\n",
        "    \"\"\"\n",
        "    return str(votes).replace('K', '').replace('K', '')"
      ]
    },
    {
      "cell_type": "markdown",
      "metadata": {
        "id": "JI2hEhD1nLZg"
      },
      "source": [
        "### Hàm xử lý reviews - Thu Hà"
      ]
    },
    {
      "cell_type": "code",
      "execution_count": 110,
      "metadata": {
        "id": "JjmcQCbKnLZg"
      },
      "outputs": [],
      "source": [
        "def pp_review(reviews):\n",
        "    \"\"\" Đổi số lượng đánh giá thành đơn vị nghìn người\n",
        "    Input: Chuỗi hoặc số thể hiện số lượt đánh giá. Ví dụ '2k', 123, '12312'\n",
        "    Output: Số lượng đánh giá (đơn vị người). Ví dụ 2000, 123, 12312\n",
        "    \"\"\"\n",
        "    reviews= str(reviews)\n",
        "    num_review=0\n",
        "    if(reviews.count(\"K\")==1):\n",
        "      reviews = reviews.replace(\"K\",\"\")\n",
        "      review= float(reviews)\n",
        "      num_review = review*1000\n",
        "    else: \n",
        "      review= float(reviews)\n",
        "      num_review = review*1000\n",
        "    return float(str(num_review))"
      ]
    },
    {
      "cell_type": "code",
      "execution_count": 111,
      "metadata": {},
      "outputs": [
        {
          "data": {
            "text/plain": [
              "2000.0"
            ]
          },
          "execution_count": 111,
          "metadata": {},
          "output_type": "execute_result"
        }
      ],
      "source": [
        "pp_review('2K')"
      ]
    },
    {
      "cell_type": "markdown",
      "metadata": {
        "id": "vLr_4guynLZh"
      },
      "source": [
        "### Hàm xử lý tỉ lệ khung hình - Khôi"
      ]
    },
    {
      "cell_type": "code",
      "execution_count": 112,
      "metadata": {
        "id": "I9kq2hqhnLZh"
      },
      "outputs": [],
      "source": [
        "def pp_ratio(aspect_ratio):\n",
        "    \"\"\" \n",
        "    \"\"\"\n",
        "    return None"
      ]
    },
    {
      "cell_type": "markdown",
      "metadata": {
        "id": "X-u3VXgEnLZi"
      },
      "source": [
        "### Hàm xử lý score - Thu Hà"
      ]
    },
    {
      "cell_type": "code",
      "execution_count": 113,
      "metadata": {
        "id": "TKamujRznLZi"
      },
      "outputs": [],
      "source": [
        "def pp_score(score):\n",
        "    \"\"\" Chuyển score về dạng số\n",
        "    Input: Chuỗi thể hiện điểm trên thang 10. Ví dụ '5/10', '5.5/10'\n",
        "    Output: Số điểm tương ứng. Ví dụ 5, 5.5\n",
        "    \"\"\"\n",
        "    return str(score).replace(\"/10\",\"\")"
      ]
    },
    {
      "cell_type": "markdown",
      "metadata": {
        "id": "a2YqexuZnLZi"
      },
      "source": [
        "## Tiền xử lý dataset"
      ]
    },
    {
      "cell_type": "code",
      "execution_count": 114,
      "metadata": {
        "id": "t7e_ftPZnLZj"
      },
      "outputs": [],
      "source": [
        "# drop các dư thừa 'casts', 'directors', 'writers', 'sound_mix' , 'production_companies'\n",
        "df.drop(columns=['casts', 'directors', 'writers', 'sound_mix' , 'production_companies'], inplace=True)"
      ]
    },
    {
      "cell_type": "code",
      "execution_count": 115,
      "metadata": {
        "id": "MQWT0I0PnLZj"
      },
      "outputs": [],
      "source": [
        "# drop các datapoint bị khuyết doanh thu\n",
        "df.dropna(subset=['gross_worldwide'], inplace=True)"
      ]
    },
    {
      "cell_type": "code",
      "execution_count": 116,
      "metadata": {
        "id": "JNDT0rT1nLZj",
        "outputId": "9f8d45f7-6f89-480f-f701-5bcea7b25715"
      },
      "outputs": [
        {
          "name": "stdout",
          "output_type": "stream",
          "text": [
            "<class 'pandas.core.frame.DataFrame'>\n",
            "Int64Index: 22861 entries, 0 to 114430\n",
            "Data columns (total 16 columns):\n",
            " #   Column               Non-Null Count  Dtype  \n",
            "---  ------               --------------  -----  \n",
            " 0   title                22861 non-null  object \n",
            " 1   genres               20943 non-null  object \n",
            " 2   certificate          9504 non-null   object \n",
            " 3   release_date         22773 non-null  object \n",
            " 4   countries_of_origin  21609 non-null  object \n",
            " 5   languages            21408 non-null  object \n",
            " 6   gross_worldwide      22861 non-null  object \n",
            " 7   budget               6410 non-null   object \n",
            " 8   runtime              20440 non-null  object \n",
            " 9   color                20697 non-null  object \n",
            " 10  aspect_ratio         11647 non-null  object \n",
            " 11  score                20750 non-null  object \n",
            " 12  votes                20750 non-null  object \n",
            " 13  user_reviews         18766 non-null  object \n",
            " 14  critic_reviews       14809 non-null  object \n",
            " 15  metascore            5202 non-null   float64\n",
            "dtypes: float64(1), object(15)\n",
            "memory usage: 3.0+ MB\n"
          ]
        }
      ],
      "source": [
        "df.info()"
      ]
    },
    {
      "cell_type": "code",
      "execution_count": 117,
      "metadata": {
        "id": "DPumsZlwnLZj"
      },
      "outputs": [],
      "source": [
        "#apply các hàm xử lý\n",
        "df['gross_worldwide'] = df['gross_worldwide'].apply(currency_conv)\n",
        "df['budget'] = df['budget'].apply(currency_conv)\n",
        "df['certificate'] = df['certificate'].apply(certification_conv)\n",
        "df['score'] = df['score'].apply(pp_score)\n",
        "df['votes'] = df['votes'].apply(pp_vote)\n",
        "df['user_reviews'] = df['user_reviews'].apply(pp_review)\n",
        "df['critic_reviews'] = df['critic_reviews'].apply(pp_review)"
      ]
    },
    {
      "cell_type": "code",
      "execution_count": 124,
      "metadata": {
        "id": "3wvk2aounLZk",
        "outputId": "5ec95254-a62e-4182-932c-5c6483dd70e9"
      },
      "outputs": [
        {
          "data": {
            "text/html": [
              "<div>\n",
              "<style scoped>\n",
              "    .dataframe tbody tr th:only-of-type {\n",
              "        vertical-align: middle;\n",
              "    }\n",
              "\n",
              "    .dataframe tbody tr th {\n",
              "        vertical-align: top;\n",
              "    }\n",
              "\n",
              "    .dataframe thead th {\n",
              "        text-align: right;\n",
              "    }\n",
              "</style>\n",
              "<table border=\"1\" class=\"dataframe\">\n",
              "  <thead>\n",
              "    <tr style=\"text-align: right;\">\n",
              "      <th></th>\n",
              "      <th>title</th>\n",
              "      <th>genres</th>\n",
              "      <th>certificate</th>\n",
              "      <th>release_date</th>\n",
              "      <th>countries_of_origin</th>\n",
              "      <th>languages</th>\n",
              "      <th>gross_worldwide</th>\n",
              "      <th>budget</th>\n",
              "      <th>runtime</th>\n",
              "      <th>color</th>\n",
              "      <th>aspect_ratio</th>\n",
              "      <th>score</th>\n",
              "      <th>votes</th>\n",
              "      <th>user_reviews</th>\n",
              "      <th>critic_reviews</th>\n",
              "      <th>metascore</th>\n",
              "    </tr>\n",
              "  </thead>\n",
              "  <tbody>\n",
              "    <tr>\n",
              "      <th>108247</th>\n",
              "      <td>Tum Bin 2</td>\n",
              "      <td>Drama,Romance,</td>\n",
              "      <td>Unrated</td>\n",
              "      <td>November 18, 2016 (India)</td>\n",
              "      <td>India,</td>\n",
              "      <td>Hindi,</td>\n",
              "      <td>$650387</td>\n",
              "      <td>nan</td>\n",
              "      <td>2h 27min</td>\n",
              "      <td>Color</td>\n",
              "      <td>NaN</td>\n",
              "      <td>4.8</td>\n",
              "      <td>1.2</td>\n",
              "      <td>15000.0</td>\n",
              "      <td>10000.0</td>\n",
              "      <td>NaN</td>\n",
              "    </tr>\n",
              "    <tr>\n",
              "      <th>108915</th>\n",
              "      <td>Neo-neun Pet</td>\n",
              "      <td>Comedy,Romance,</td>\n",
              "      <td>Unrated</td>\n",
              "      <td>November 10, 2011 (South Korea)</td>\n",
              "      <td>South Korea,</td>\n",
              "      <td>Korean,Indonesian,</td>\n",
              "      <td>$7039663</td>\n",
              "      <td>nan</td>\n",
              "      <td>1h 50min</td>\n",
              "      <td>Color</td>\n",
              "      <td>2.35 : 1</td>\n",
              "      <td>5.8</td>\n",
              "      <td>1.1</td>\n",
              "      <td>5000.0</td>\n",
              "      <td>5000.0</td>\n",
              "      <td>NaN</td>\n",
              "    </tr>\n",
              "    <tr>\n",
              "      <th>27850</th>\n",
              "      <td>Fifty Shades Darker</td>\n",
              "      <td>Drama,Romance,</td>\n",
              "      <td>C18</td>\n",
              "      <td>February 9, 2017 (Hong Kong)</td>\n",
              "      <td>United States,China,Japan,</td>\n",
              "      <td>English,</td>\n",
              "      <td>$381545846</td>\n",
              "      <td>$55000000</td>\n",
              "      <td>1h 58min</td>\n",
              "      <td>Color</td>\n",
              "      <td>2.39 : 1</td>\n",
              "      <td>4.6</td>\n",
              "      <td>97</td>\n",
              "      <td>323000.0</td>\n",
              "      <td>247000.0</td>\n",
              "      <td>33.0</td>\n",
              "    </tr>\n",
              "    <tr>\n",
              "      <th>27877</th>\n",
              "      <td>Passengers</td>\n",
              "      <td>Drama,Romance,Sci-Fi,Thriller,</td>\n",
              "      <td>C13</td>\n",
              "      <td>December 22, 2016 (Hong Kong)</td>\n",
              "      <td>United States,Australia,</td>\n",
              "      <td>English,Spanish,Japanese,French,</td>\n",
              "      <td>$303144152</td>\n",
              "      <td>$110000000</td>\n",
              "      <td>1h 56min</td>\n",
              "      <td>Color</td>\n",
              "      <td>2.39 : 1</td>\n",
              "      <td>7.0</td>\n",
              "      <td>374</td>\n",
              "      <td>1300.0</td>\n",
              "      <td>425000.0</td>\n",
              "      <td>41.0</td>\n",
              "    </tr>\n",
              "    <tr>\n",
              "      <th>101077</th>\n",
              "      <td>Ôtez-moi d'un doute</td>\n",
              "      <td>Comedy,Drama,</td>\n",
              "      <td>nan</td>\n",
              "      <td>September 6, 2017 (Belgium)</td>\n",
              "      <td>France,Belgium,</td>\n",
              "      <td>French,</td>\n",
              "      <td>$6726393</td>\n",
              "      <td>nan</td>\n",
              "      <td>1h 40min</td>\n",
              "      <td>Color</td>\n",
              "      <td>1.85 : 1</td>\n",
              "      <td>6.7</td>\n",
              "      <td>1.7</td>\n",
              "      <td>5000.0</td>\n",
              "      <td>32000.0</td>\n",
              "      <td>NaN</td>\n",
              "    </tr>\n",
              "  </tbody>\n",
              "</table>\n",
              "</div>"
            ],
            "text/plain": [
              "                      title                          genres certificate  \\\n",
              "108247            Tum Bin 2                  Drama,Romance,     Unrated   \n",
              "108915         Neo-neun Pet                 Comedy,Romance,     Unrated   \n",
              "27850   Fifty Shades Darker                  Drama,Romance,         C18   \n",
              "27877            Passengers  Drama,Romance,Sci-Fi,Thriller,         C13   \n",
              "101077  Ôtez-moi d'un doute                   Comedy,Drama,         nan   \n",
              "\n",
              "                           release_date         countries_of_origin  \\\n",
              "108247        November 18, 2016 (India)                      India,   \n",
              "108915  November 10, 2011 (South Korea)                South Korea,   \n",
              "27850      February 9, 2017 (Hong Kong)  United States,China,Japan,   \n",
              "27877     December 22, 2016 (Hong Kong)    United States,Australia,   \n",
              "101077      September 6, 2017 (Belgium)             France,Belgium,   \n",
              "\n",
              "                               languages gross_worldwide      budget  \\\n",
              "108247                            Hindi,         $650387         nan   \n",
              "108915                Korean,Indonesian,        $7039663         nan   \n",
              "27850                           English,      $381545846   $55000000   \n",
              "27877   English,Spanish,Japanese,French,      $303144152  $110000000   \n",
              "101077                           French,        $6726393         nan   \n",
              "\n",
              "         runtime  color aspect_ratio score votes  user_reviews  \\\n",
              "108247  2h 27min  Color          NaN   4.8   1.2       15000.0   \n",
              "108915  1h 50min  Color     2.35 : 1   5.8   1.1        5000.0   \n",
              "27850   1h 58min  Color     2.39 : 1   4.6    97      323000.0   \n",
              "27877   1h 56min  Color     2.39 : 1   7.0   374        1300.0   \n",
              "101077  1h 40min  Color     1.85 : 1   6.7   1.7        5000.0   \n",
              "\n",
              "        critic_reviews  metascore  \n",
              "108247         10000.0        NaN  \n",
              "108915          5000.0        NaN  \n",
              "27850         247000.0       33.0  \n",
              "27877         425000.0       41.0  \n",
              "101077         32000.0        NaN  "
            ]
          },
          "execution_count": 124,
          "metadata": {},
          "output_type": "execute_result"
        }
      ],
      "source": [
        "df.sample(5)"
      ]
    },
    {
      "cell_type": "markdown",
      "metadata": {
        "id": "R-ALXZtfnLZk"
      },
      "source": [
        "## Lưu dataset"
      ]
    },
    {
      "cell_type": "code",
      "execution_count": 119,
      "metadata": {
        "id": "mIzJNu7knLZk"
      },
      "outputs": [],
      "source": [
        "df.to_csv('./data/data_preprocessed.csv', index=False, encoding='utf-8-sig')"
      ]
    }
  ],
  "metadata": {
    "colab": {
      "collapsed_sections": [],
      "name": "preprocessing.ipynb",
      "provenance": []
    },
    "interpreter": {
      "hash": "9a56bc5fca0877747357b7c62c6b208d27a53739530dccd402600212438165fb"
    },
    "kernelspec": {
      "display_name": "Python 3.8.8 64-bit ('venv': venv)",
      "name": "python3"
    },
    "language_info": {
      "codemirror_mode": {
        "name": "ipython",
        "version": 3
      },
      "file_extension": ".py",
      "mimetype": "text/x-python",
      "name": "python",
      "nbconvert_exporter": "python",
      "pygments_lexer": "ipython3",
      "version": "3.8.8"
    }
  },
  "nbformat": 4,
  "nbformat_minor": 0
}
