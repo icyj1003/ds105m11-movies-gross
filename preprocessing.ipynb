{
  "cells": [
    {
      "cell_type": "markdown",
      "metadata": {
        "id": "IKGnt_-rnLZD"
      },
      "source": [
        "## Import thư viện"
      ]
    },
    {
      "cell_type": "code",
      "execution_count": 621,
      "metadata": {
        "id": "z7Ym7Qs6nLZT"
      },
      "outputs": [],
      "source": [
        "from IPython.core.interactiveshell import InteractiveShell\n",
        "InteractiveShell.ast_node_interactivity = \"all\"\n",
        "import pandas as pd\n",
        "import numpy as np\n",
        "pd.set_option('display.max_columns', None)"
      ]
    },
    {
      "cell_type": "markdown",
      "metadata": {
        "id": "1C3XlJxpnLZW"
      },
      "source": [
        "## Đọc dataset"
      ]
    },
    {
      "cell_type": "code",
      "execution_count": 622,
      "metadata": {
        "colab": {
          "base_uri": "https://localhost:8080/"
        },
        "id": "dK1wk65BnLZX",
        "outputId": "1c1974f5-9141-43fe-c2bc-760244449a29"
      },
      "outputs": [
        {
          "name": "stderr",
          "output_type": "stream",
          "text": [
            "c:\\Users\\anhbu\\Desktop\\venv\\lib\\site-packages\\IPython\\core\\interactiveshell.py:3444: DtypeWarning: Columns (19) have mixed types.Specify dtype option on import or set low_memory=False.\n",
            "  exec(code_obj, self.user_global_ns, self.user_ns)\n"
          ]
        }
      ],
      "source": [
        "df = pd.read_csv('./data/data.csv')"
      ]
    },
    {
      "cell_type": "markdown",
      "metadata": {
        "id": "BhNZcQfVnLZZ"
      },
      "source": [
        "## Các hàm xử lý"
      ]
    },
    {
      "cell_type": "markdown",
      "metadata": {
        "id": "3tIJaZMNnLZZ"
      },
      "source": [
        "### Hàm xử lí và chuyển đổi đơn vị tiền tệ - Khôi"
      ]
    },
    {
      "cell_type": "code",
      "execution_count": 623,
      "metadata": {
        "id": "R1eHlePbnLZa"
      },
      "outputs": [],
      "source": [
        "def currency_conv(old):\n",
        "    \"\"\" Viết docstring mô tả hàm theo dạng input, output; docstring mô tả vai trò của class dùng để làm gì.\n",
        "    input: một chuỗi thể đầu vào thể hiện đơn vị tiền tệ cần đổi\n",
        "    output: số tiền khi đã chuyển ra $\n",
        "    \"\"\"\n",
        "    if old!=None and old!=\"\":\n",
        "        s = str(old).replace('(estimated)', '').replace(',', '').replace(' ', '').replace('.', '')\n",
        "        if s.find('R$')!=-1: # Đô la Brazil \n",
        "            return float(s.replace('R$', ''))*0.18\n",
        "\n",
        "        elif s.find('CA$')!=-1: # Đô Canada\n",
        "            return float(s.replace('CA$', ''))*0.808127\n",
        "\n",
        "        elif s.find('A$')!=-1: # Đô úc\n",
        "            return float(s.replace('A$', ''))*7.30\n",
        "\n",
        "        elif s.find('MX$')!=-1: # Đồng Mexican Peso\n",
        "            return float(s.replace('MX$', ''))*0.04938\n",
        "\n",
        "        elif s.find('NZ$')!=-1: # New Zealand\n",
        "            return float(s.replace('NZ$', ''))*0.71494\n",
        "\n",
        "        elif s.find('HK$')!=-1: # Hong Kong Dolar\n",
        "            return float(s.replace('HK$', ''))*0.12866\n",
        "\n",
        "        elif s.find('NT$')!=-1: # Tân đài tệ\n",
        "            return float(s.replace('NT$', ''))*0.036\n",
        "\n",
        "        elif s.find('€')!=-1: # Đồng Euro\n",
        "            return float(s.replace('€', ''))*1.16\n",
        "\n",
        "        elif s.find('₹')!=-1: # Rupee Ấn Độ\n",
        "            return float(s.replace('₹', ''))*0.013\n",
        "        \n",
        "        elif s.find('$')!=-1: # Đô la Mỹ\n",
        "            return float(s.replace('$', ''))*1\n",
        "\n",
        "        elif s.find('£')!=-1: # Bảng anh\n",
        "            return float(s.replace('£', ''))*1.38\n",
        "\n",
        "        elif s.find('TRL')!=-1: # Lira Thổ nhĩ kỳ\n",
        "            return float(s.replace('TRL', ''))*0.10\n",
        "\n",
        "        elif s.find('NOK')!=-1: # Krone Nauy\n",
        "            return float(s.replace('NOK', ''))*0.12\n",
        "\n",
        "        elif s.find('CN¥')!=-1: # Chinese Yuan\n",
        "            return float(s.replace('CN¥', ''))*0.15664\n",
        "\n",
        "        elif s.find('RUR')!=-1: # Rúp Nga\n",
        "            return float(s.replace('RUR', ''))*0.014\n",
        "        \n",
        "        elif s.find('DKK')!=-1: # Krone Đan Mạch\n",
        "            return float(s.replace('DKK', ''))*0.16\n",
        "\n",
        "        elif s.find('ZAR')!=-1: # Rand Nam Phi\n",
        "            return float(s.replace('ZAR', ''))*0.067\n",
        "        \n",
        "        elif s.find('ARS')!=-1: # Peso Argentina\n",
        "            return float(s.replace('ARS', ''))*0.010\n",
        "\n",
        "        elif s.find('SEK')!=-1: # Krone THuỵ Điển\n",
        "            return float(s.replace('SEK', ''))*0.12\n",
        "\n",
        "        elif s.find('₩')!=-1: # Won Hàn\n",
        "            return float(s.replace('₩', ''))*0.00085\n",
        "\n",
        "        elif s.find('CZK')!=-1: # Koruna Séc\n",
        "            return float(s.replace('CZK', ''))*0.045\n",
        "\n",
        "        elif s.find('SGD')!=-1: # Đô la Singapore\n",
        "            return float(s.replace('SGD', ''))*0,74\n",
        "\n",
        "        elif s.find('HUF')!=-1: # Forint Hungary\n",
        "            return float(s.replace('HUF', ''))*0.0032\n",
        "\n",
        "        elif s.find('PLN')!=-1: # Zloty Balan\n",
        "            return float(s.replace('PLN', ''))*0.25\n",
        "\n",
        "        elif s.find('UAH')!=-1: # Hryvnia Ukraina\n",
        "            return float(s.replace('UAH', ''))*0.038\n",
        "\n",
        "        elif s.find('EGP')!=-1: # Bảng Ai Cập\n",
        "            return float(s.replace('EGP', ''))*0.064\n",
        "\n",
        "        elif s.find('THB')!=-1: # Bạt Thái\n",
        "            return float(s.replace('THB', ''))*0.030\n",
        "\n",
        "        elif s.find('¥')!=-1: # yên nhật\n",
        "            return float(s.replace('¥', ''))*0.0088\n",
        "\n",
        "        elif s.find('₱')!=-1: # Peso Philipine\n",
        "            return float(s.replace('₱', ''))*0.019708\n",
        "\n",
        "        elif s.find('MYR')!=-1: # Ringit Malaysia\n",
        "            return float(s.replace('MYR', ''))*0.24\n",
        "            \n",
        "        elif s.find('VEB')!=-1: # Venezuelan Bolívar\n",
        "            return float(s.replace('VEB', ''))*0.000117802\n",
        "\n",
        "        elif s.find('PKR')!=-1: # Rupe Pakistan\n",
        "            return float(s.replace('PKR', ''))*0.00577\n",
        "\n",
        "        elif s.find('CHF')!=-1: # Franc Thuỵ Sĩ\n",
        "            return float(s.replace('CHF', ''))*1.09\n",
        "\n",
        "        elif s.find('ISK')!=-1: # Krona Iceland \n",
        "            return float(s.replace('ISK', ''))*0.0078\n",
        "\n",
        "        elif s.find('COP')!=-1: # Peso Columbia\n",
        "            return float(s.replace('COP', ''))*0.00026\n",
        "\n",
        "        elif s.find('IRR')!=-1: # Rian Iran\n",
        "            return float(s.replace('IRR', ''))*0.000024\n",
        "\n",
        "        elif s.find('DOP')!=-1: # Peso Dominica\n",
        "            return float(s.replace('DOP', ''))*0.018\n",
        "\n",
        "        elif s.find('AED')!=-1: # Dirham Các tiểu vương quốc Ả Rập thống nhất\n",
        "            return float(s.replace('AED', ''))*0.27\n",
        "            \n",
        "        elif s.find('RON')!=-1: # Leu Romania\n",
        "            return float(s.replace('RON', ''))*0.24\n",
        "\n",
        "        elif s.find('NGN')!=-1: # Naira Nigeria\n",
        "            return float(s.replace('NGN', ''))*0.0024\n",
        "\n",
        "        elif s.find('KZT')!=-1: # Tenge Kazakhstan\n",
        "            return float(s.replace('KZT', ''))*0.0024\n",
        "\n",
        "        elif s.find('CLP')!=-1: # Peso Chile\n",
        "            return float(s.replace('CLP', ''))*0.0012\n",
        "\n",
        "        elif s.find('₪')!=-1: # Israeli Shekel\n",
        "            return float(s.replace('₪', ''))*0.3118211\n",
        "\n",
        "        elif s.find('HRK')!=-1: # Kuna Croatia\n",
        "            return float(s.replace('HRK', ''))*0.067\n",
        "\n",
        "        elif s.find('IDR')!=-1: # Rupiah Indonesia\n",
        "            return float(s.replace('IDR', ''))*0.000070\n",
        "\n",
        "        elif s.find('LVL')!=-1: # Latvian Lat\n",
        "            return float(s.replace('LVL', ''))*1.65496\n",
        "\n",
        "        elif s.find('ITL')!=-1: # Italian Lira\n",
        "            return float(s.replace('ITL', ''))*0.00060143 \n",
        "\n",
        "        elif s.find('NPR')!=-1: # Rupee Nepal\n",
        "            return float(s.replace('NPR', ''))*0.0084\n",
        "\n",
        "        elif s.find('BDT')!=-1: # Taka Bangladesh\n",
        "            return float(s.replace('BDT', ''))*0.012\n",
        "\n",
        "        elif s.find('SAR')!=-1: # Riyal Ả Rập Xê Út\n",
        "            return float(s.replace('SAR', ''))*0.27\n",
        "\n",
        "        elif s.find('AMD')!=-1: # Dram Armenia \n",
        "            return float(s.replace('AMD', ''))*0.0021\n",
        "            \n",
        "        elif s.find('FRF')!=-1: # French Franc\n",
        "            return float(s.replace('FRF', ''))*0.177239\n",
        "\n",
        "        elif s.find('MVR')!=-1: # Rufiyaa Maldives\n",
        "            return float(s.replace('MVR', ''))*0.065\n",
        "\n",
        "        elif s.find('EEK')!=-1: #  Estonian Kroon\n",
        "            return float(s.replace('EEK', ''))*0.074409311\n",
        "\n",
        "        elif s.find('BGL')!=-1: # Lev Bulgaria\n",
        "            return float(s.replace('BGL', ''))*0.60\n",
        "\n",
        "        elif s.find('PEN')!=-1: # Nuevo Sol Peru\n",
        "            return float(s.replace('PEN', ''))*0.25\n",
        "\n",
        "        elif s.find('GEL')!=-1: # Lari Gruzia\n",
        "            return float(s.replace('GEL', ''))*0.32\n",
        "\n",
        "        elif s.find('LTL')!=-1: # Lithuanian Litas\n",
        "            return float(s.replace('LTL', ''))*0.337285\n",
        "        else: return None\n",
        "        # return ''.join(i for i in s if not i.isdigit()).lstrip().rsplit()[0]\n",
        "    else:\n",
        "        return None"
      ]
    },
    {
      "cell_type": "markdown",
      "metadata": {
        "id": "LysCNiHenLZb"
      },
      "source": [
        "### Hàm xử lý và phân loại loại chứng chỉ - Khôi"
      ]
    },
    {
      "cell_type": "code",
      "execution_count": 624,
      "metadata": {
        "id": "kHRnCNyPnLZb"
      },
      "outputs": [],
      "source": [
        "def certification_conv(old):\n",
        "    \"\"\" Viết docstring mô tả hàm theo dạng input, output; docstring mô tả vai trò của class dùng để làm gì.\n",
        "    Tại liệu tham khảo\n",
        "    https://rating-system.fandom.com/wiki/Vietnam_Movie_Rating_System\n",
        "    https://en.wikipedia.org/wiki/TV_Parental_Guidelines\n",
        "    https://en.wikipedia.org/wiki/Motion_Picture_Association_film_rating_system\n",
        "    https://en.wikipedia.org/wiki/Hong_Kong_motion_picture_rating_system\n",
        "    \"\"\"\n",
        "\n",
        "    if (str(old).find('Rated R ')!=-1 or \n",
        "        str(old).find('R ')!=-1 or \n",
        "        str(old)=='R'):\n",
        "        return 'C16'\n",
        "\n",
        "    elif (str(old).find('PG ')!=-1 or \n",
        "        str(old)==('G')!=-1 or \n",
        "        str(old)=='PG' or \n",
        "        str(old)=='TV-G' or \n",
        "        str(old)=='TV-Y' or \n",
        "        str(old)=='TV-PG' or \n",
        "        str(old).find('TV-Y7')!=-1 or \n",
        "        str(old)=='I' or \n",
        "        str(old)=='Approved'):\n",
        "        return 'P'\n",
        "\n",
        "    elif (str(old).find('PG-13')!=-1 or \n",
        "        str(old)=='TV-14' or \n",
        "        str(old)=='II' or \n",
        "        str(old)=='IIA' or \n",
        "        str(old)=='IIB'):\n",
        "        return 'C13'\n",
        "\n",
        "    elif (str(old).find('NC-17 ')!=-1 or \n",
        "        str(old)=='TV-MA' or \n",
        "        str(old)=='MA-17' or \n",
        "        str(old)=='M' or \n",
        "        str(old)=='III' or \n",
        "        str(old)=='(Banned)'):\n",
        "        return 'C18'\n",
        "\n",
        "    elif (str(old)=='Not Rated'):\n",
        "        return 'Unrated'\n",
        "\n",
        "    else:\n",
        "        return None"
      ]
    },
    {
      "cell_type": "markdown",
      "metadata": {
        "id": "rJXbterznLZd"
      },
      "source": [
        "### Hàm tách năm - Khôi"
      ]
    },
    {
      "cell_type": "code",
      "execution_count": 625,
      "metadata": {
        "id": "bB3BEivlnLZe"
      },
      "outputs": [],
      "source": [
        "def get_year(old):\n",
        "    \"\"\" Viết docstring mô tả hàm theo dạng input, output; docstring mô tả vai trò của class dùng để làm gì.\n",
        "    \"\"\"\n",
        "    return None"
      ]
    },
    {
      "cell_type": "markdown",
      "metadata": {
        "id": "EgMCVzepnLZe"
      },
      "source": [
        "### Hàm chuyển đổi chuỗi thời gian về dạng phút - Thu Hà"
      ]
    },
    {
      "cell_type": "code",
      "execution_count": 626,
      "metadata": {
        "id": "eaJdm_gZnLZe"
      },
      "outputs": [],
      "source": [
        "def to_minutes(time):\n",
        "    \"\"\" Chuyển đổi chuỗi thời gian thành dạng phút \n",
        "    Input: Chuỗi thời gian. Ví dụ '2h 28min'\n",
        "    Output: Thời gian dưới dạng phút. Ví dụ 60, 120\n",
        "    \"\"\"\n",
        "    time = str(time)\n",
        "    time = time.replace(\"h\",\"\")\n",
        "    time = time.replace(\"min\",\"\")\n",
        "    times = time.split()\n",
        "    times = np.array(times)\n",
        "    times = times.astype(\"int\")\n",
        "    minutes=0\n",
        "    if len(times)==1:\n",
        "      if(times[0]>3):\n",
        "        minutes=times[0]\n",
        "      else: minutes=times[0]*60\n",
        "    else: minutes = times[0]*60+times[1]\n",
        "    return minutes"
      ]
    },
    {
      "cell_type": "markdown",
      "metadata": {
        "id": "E9zY80s4nLZf"
      },
      "source": [
        "### Hàm xử lý votes - Thu Hà"
      ]
    },
    {
      "cell_type": "code",
      "execution_count": 627,
      "metadata": {
        "id": "lW_FpmPPnLZg"
      },
      "outputs": [],
      "source": [
        "def pp_vote(votes):\n",
        "    \"\"\" Đổi đơn vị thành nghìn người\n",
        "    Input: Chuỗi hoặc số thể hiện số lượng vote. Ví dụ '2K', '1231', 12312\n",
        "    Output: Số lượng người vote đơn vị nghìn người. Ví dụ 2, 1.231, 12.312\n",
        "    \"\"\"\n",
        "    return str(votes).replace('K', '').replace('K', '')"
      ]
    },
    {
      "cell_type": "markdown",
      "metadata": {
        "id": "JI2hEhD1nLZg"
      },
      "source": [
        "### Hàm xử lý reviews - Thu Hà"
      ]
    },
    {
      "cell_type": "code",
      "execution_count": 628,
      "metadata": {
        "id": "JjmcQCbKnLZg"
      },
      "outputs": [],
      "source": [
        "def pp_review(reviews):\n",
        "    \"\"\" Đổi số lượng đánh giá thành đơn vị nghìn người\n",
        "    Input: Chuỗi hoặc số thể hiện số lượt đánh giá. Ví dụ '2k', 123, '12312'\n",
        "    Output: Số lượng đánh giá (đơn vị người). Ví dụ 2000, 123, 12312\n",
        "    \"\"\"\n",
        "    reviews= str(reviews)\n",
        "    num_review=0\n",
        "    if(reviews.count(\"K\")==1):\n",
        "      reviews = reviews.replace(\"K\",\"\")\n",
        "      review= float(reviews)\n",
        "      num_review = review*1000\n",
        "    else: \n",
        "      review= float(reviews)\n",
        "      num_review = review*1000\n",
        "    return float(str(num_review))"
      ]
    },
    {
      "cell_type": "markdown",
      "metadata": {
        "id": "vLr_4guynLZh"
      },
      "source": [
        "### Hàm xử lý tỉ lệ khung hình - Khôi"
      ]
    },
    {
      "cell_type": "code",
      "execution_count": 629,
      "metadata": {
        "id": "I9kq2hqhnLZh"
      },
      "outputs": [],
      "source": [
        "def pp_ratio(aspect_ratio):\n",
        "    \"\"\" \n",
        "    \"\"\"\n",
        "    return None"
      ]
    },
    {
      "cell_type": "markdown",
      "metadata": {
        "id": "X-u3VXgEnLZi"
      },
      "source": [
        "### Hàm xử lý score - Thu Hà"
      ]
    },
    {
      "cell_type": "code",
      "execution_count": 630,
      "metadata": {
        "id": "TKamujRznLZi"
      },
      "outputs": [],
      "source": [
        "def pp_score(score):\n",
        "    \"\"\" Chuyển score về dạng số\n",
        "    Input: Chuỗi thể hiện điểm trên thang 10. Ví dụ '5/10', '5.5/10'\n",
        "    Output: Số điểm tương ứng. Ví dụ 5, 5.5\n",
        "    \"\"\"\n",
        "    return str(score).replace(\"/10\",\"\")"
      ]
    },
    {
      "cell_type": "markdown",
      "metadata": {
        "id": "a2YqexuZnLZi"
      },
      "source": [
        "## Tiền xử lý dataset"
      ]
    },
    {
      "cell_type": "code",
      "execution_count": 631,
      "metadata": {
        "id": "t7e_ftPZnLZj"
      },
      "outputs": [],
      "source": [
        "# drop các dư thừa 'casts', 'directors', 'writers', 'sound_mix' , 'production_companies'\n",
        "df.drop(columns=['casts', 'directors', 'writers', 'sound_mix' , 'production_companies'], inplace=True)"
      ]
    },
    {
      "cell_type": "code",
      "execution_count": 632,
      "metadata": {
        "id": "MQWT0I0PnLZj"
      },
      "outputs": [],
      "source": [
        "# drop các datapoint bị khuyết doanh thu\n",
        "df.dropna(subset=['gross_worldwide'], inplace=True)"
      ]
    },
    {
      "cell_type": "code",
      "execution_count": 633,
      "metadata": {
        "id": "DPumsZlwnLZj"
      },
      "outputs": [],
      "source": [
        "#apply các hàm xử lý\n",
        "df['gross_worldwide'] = df['gross_worldwide'].apply(currency_conv)\n",
        "df['budget'] = df['budget'].apply(currency_conv)\n",
        "df['certificate'] = df['certificate'].apply(certification_conv)\n",
        "df['score'] = df['score'].apply(pp_score)\n",
        "df['votes'] = df['votes'].apply(pp_vote)\n",
        "df['user_reviews'] = df['user_reviews'].apply(pp_review)\n",
        "df['critic_reviews'] = df['critic_reviews'].apply(pp_review)"
      ]
    },
    {
      "cell_type": "code",
      "execution_count": 634,
      "metadata": {
        "id": "3wvk2aounLZk",
        "outputId": "5ec95254-a62e-4182-932c-5c6483dd70e9"
      },
      "outputs": [
        {
          "data": {
            "text/html": [
              "<div>\n",
              "<style scoped>\n",
              "    .dataframe tbody tr th:only-of-type {\n",
              "        vertical-align: middle;\n",
              "    }\n",
              "\n",
              "    .dataframe tbody tr th {\n",
              "        vertical-align: top;\n",
              "    }\n",
              "\n",
              "    .dataframe thead th {\n",
              "        text-align: right;\n",
              "    }\n",
              "</style>\n",
              "<table border=\"1\" class=\"dataframe\">\n",
              "  <thead>\n",
              "    <tr style=\"text-align: right;\">\n",
              "      <th></th>\n",
              "      <th>title</th>\n",
              "      <th>genres</th>\n",
              "      <th>certificate</th>\n",
              "      <th>release_date</th>\n",
              "      <th>countries_of_origin</th>\n",
              "      <th>languages</th>\n",
              "      <th>gross_worldwide</th>\n",
              "      <th>budget</th>\n",
              "      <th>runtime</th>\n",
              "      <th>color</th>\n",
              "      <th>aspect_ratio</th>\n",
              "      <th>score</th>\n",
              "      <th>votes</th>\n",
              "      <th>user_reviews</th>\n",
              "      <th>critic_reviews</th>\n",
              "      <th>metascore</th>\n",
              "    </tr>\n",
              "  </thead>\n",
              "  <tbody>\n",
              "    <tr>\n",
              "      <th>0</th>\n",
              "      <td>Bóng Ma</td>\n",
              "      <td>Action,Adventure,Thriller,</td>\n",
              "      <td>None</td>\n",
              "      <td>November 6, 2015 (Vietnam)</td>\n",
              "      <td>United Kingdom,United States,Austria,Mexico,It...</td>\n",
              "      <td>English,Spanish,Italian,German,French,</td>\n",
              "      <td>8.806815e+08</td>\n",
              "      <td>245000000.0</td>\n",
              "      <td>2h 28min</td>\n",
              "      <td>Color</td>\n",
              "      <td>2.39 : 1</td>\n",
              "      <td>6.8</td>\n",
              "      <td>408</td>\n",
              "      <td>1200.0</td>\n",
              "      <td>462000.0</td>\n",
              "      <td>60.0</td>\n",
              "    </tr>\n",
              "    <tr>\n",
              "      <th>1</th>\n",
              "      <td>Halloween</td>\n",
              "      <td>Crime,Horror,Thriller,</td>\n",
              "      <td>C18</td>\n",
              "      <td>October 19, 2018 (United Kingdom)</td>\n",
              "      <td>United States,United Kingdom,</td>\n",
              "      <td>English,</td>\n",
              "      <td>2.556149e+08</td>\n",
              "      <td>10000000.0</td>\n",
              "      <td>1h 46min</td>\n",
              "      <td>Color</td>\n",
              "      <td>2.39 : 1</td>\n",
              "      <td>6.5</td>\n",
              "      <td>133</td>\n",
              "      <td>1900.0</td>\n",
              "      <td>499000.0</td>\n",
              "      <td>67.0</td>\n",
              "    </tr>\n",
              "    <tr>\n",
              "      <th>2</th>\n",
              "      <td>Venom</td>\n",
              "      <td>Action,Adventure,Sci-Fi,</td>\n",
              "      <td>None</td>\n",
              "      <td>October 5, 2018 (United States)</td>\n",
              "      <td>China,United States,</td>\n",
              "      <td>English,Mandarin,Malay,</td>\n",
              "      <td>8.560852e+08</td>\n",
              "      <td>100000000.0</td>\n",
              "      <td>1h 52min</td>\n",
              "      <td>Color</td>\n",
              "      <td>2.39 : 1</td>\n",
              "      <td>6.7</td>\n",
              "      <td>415</td>\n",
              "      <td>3800.0</td>\n",
              "      <td>427000.0</td>\n",
              "      <td>35.0</td>\n",
              "    </tr>\n",
              "    <tr>\n",
              "      <th>3</th>\n",
              "      <td>Skyfall</td>\n",
              "      <td>Action,Adventure,Thriller,</td>\n",
              "      <td>C13</td>\n",
              "      <td>November 1, 2012 (Hong Kong)</td>\n",
              "      <td>United Kingdom,United States,Turkey,</td>\n",
              "      <td>English,Turkish,Shanghainese,Portuguese,Japanese,</td>\n",
              "      <td>1.108569e+09</td>\n",
              "      <td>200000000.0</td>\n",
              "      <td>2h 23min</td>\n",
              "      <td>Color</td>\n",
              "      <td>2.39 : 1</td>\n",
              "      <td>7.8</td>\n",
              "      <td>659</td>\n",
              "      <td>1600.0</td>\n",
              "      <td>542000.0</td>\n",
              "      <td>81.0</td>\n",
              "    </tr>\n",
              "    <tr>\n",
              "      <th>4</th>\n",
              "      <td>The Night House</td>\n",
              "      <td>Horror,Mystery,Thriller,</td>\n",
              "      <td>C16</td>\n",
              "      <td>August 20, 2021 (United Kingdom)</td>\n",
              "      <td>United Kingdom,United States,</td>\n",
              "      <td>English,</td>\n",
              "      <td>1.516366e+07</td>\n",
              "      <td>None</td>\n",
              "      <td>1h 47min</td>\n",
              "      <td>Color</td>\n",
              "      <td>2.35 : 1</td>\n",
              "      <td>6.5</td>\n",
              "      <td>15</td>\n",
              "      <td>262000.0</td>\n",
              "      <td>133000.0</td>\n",
              "      <td>68.0</td>\n",
              "    </tr>\n",
              "    <tr>\n",
              "      <th>5</th>\n",
              "      <td>Knives Out</td>\n",
              "      <td>Comedy,Crime,Drama,Mystery,Thriller,</td>\n",
              "      <td>C13</td>\n",
              "      <td>December 6, 2019 (Hong Kong)</td>\n",
              "      <td>United States,</td>\n",
              "      <td>English,Spanish,Hindi,</td>\n",
              "      <td>3.116056e+08</td>\n",
              "      <td>40000000.0</td>\n",
              "      <td>2h 10min</td>\n",
              "      <td>Color</td>\n",
              "      <td>1.85 : 1</td>\n",
              "      <td>7.9</td>\n",
              "      <td>537</td>\n",
              "      <td>2700.0</td>\n",
              "      <td>480000.0</td>\n",
              "      <td>82.0</td>\n",
              "    </tr>\n",
              "    <tr>\n",
              "      <th>6</th>\n",
              "      <td>De slag om de Schelde</td>\n",
              "      <td>Drama,War,</td>\n",
              "      <td>C18</td>\n",
              "      <td>June 5, 2021 (Netherlands)</td>\n",
              "      <td>Netherlands,Lithuania,Belgium,</td>\n",
              "      <td>Dutch,German,English,</td>\n",
              "      <td>5.970683e+06</td>\n",
              "      <td>16240000.0</td>\n",
              "      <td>2h 4min</td>\n",
              "      <td>Color</td>\n",
              "      <td>2.35 : 1</td>\n",
              "      <td>7.3</td>\n",
              "      <td>6.8</td>\n",
              "      <td>98000.0</td>\n",
              "      <td>24000.0</td>\n",
              "      <td>NaN</td>\n",
              "    </tr>\n",
              "    <tr>\n",
              "      <th>7</th>\n",
              "      <td>Promising Young Woman</td>\n",
              "      <td>Crime,Drama,Thriller,</td>\n",
              "      <td>C16</td>\n",
              "      <td>April 22, 2021 (Hong Kong)</td>\n",
              "      <td>United Kingdom,United States,</td>\n",
              "      <td>English,</td>\n",
              "      <td>1.712278e+07</td>\n",
              "      <td>None</td>\n",
              "      <td>1h 53min</td>\n",
              "      <td>Color</td>\n",
              "      <td>2.39 : 1</td>\n",
              "      <td>7.5</td>\n",
              "      <td>133</td>\n",
              "      <td>1000.0</td>\n",
              "      <td>731000.0</td>\n",
              "      <td>73.0</td>\n",
              "    </tr>\n",
              "    <tr>\n",
              "      <th>8</th>\n",
              "      <td>Gisaengchung</td>\n",
              "      <td>Comedy,Drama,Thriller,</td>\n",
              "      <td>C13</td>\n",
              "      <td>June 27, 2019 (Hong Kong)</td>\n",
              "      <td>South Korea,</td>\n",
              "      <td>Korean,English,</td>\n",
              "      <td>2.586700e+08</td>\n",
              "      <td>11400000.0</td>\n",
              "      <td>2h 12min</td>\n",
              "      <td>Color</td>\n",
              "      <td>2.39 : 1</td>\n",
              "      <td>8.6</td>\n",
              "      <td>670</td>\n",
              "      <td>3200.0</td>\n",
              "      <td>595000.0</td>\n",
              "      <td>96.0</td>\n",
              "    </tr>\n",
              "    <tr>\n",
              "      <th>9</th>\n",
              "      <td>365 dni</td>\n",
              "      <td>Drama,Romance,</td>\n",
              "      <td>C18</td>\n",
              "      <td>February 7, 2020 (Poland)</td>\n",
              "      <td>Poland,</td>\n",
              "      <td>Polish,English,Italian,</td>\n",
              "      <td>9.458590e+06</td>\n",
              "      <td>None</td>\n",
              "      <td>1h 54min</td>\n",
              "      <td>Color</td>\n",
              "      <td>2.35 : 1</td>\n",
              "      <td>3.3</td>\n",
              "      <td>68</td>\n",
              "      <td>1300.0</td>\n",
              "      <td>49000.0</td>\n",
              "      <td>NaN</td>\n",
              "    </tr>\n",
              "  </tbody>\n",
              "</table>\n",
              "</div>"
            ],
            "text/plain": [
              "                   title                                genres certificate  \\\n",
              "0                Bóng Ma            Action,Adventure,Thriller,        None   \n",
              "1              Halloween                Crime,Horror,Thriller,         C18   \n",
              "2                  Venom              Action,Adventure,Sci-Fi,        None   \n",
              "3                Skyfall            Action,Adventure,Thriller,         C13   \n",
              "4        The Night House              Horror,Mystery,Thriller,         C16   \n",
              "5             Knives Out  Comedy,Crime,Drama,Mystery,Thriller,         C13   \n",
              "6  De slag om de Schelde                            Drama,War,         C18   \n",
              "7  Promising Young Woman                 Crime,Drama,Thriller,         C16   \n",
              "8           Gisaengchung                Comedy,Drama,Thriller,         C13   \n",
              "9                365 dni                        Drama,Romance,         C18   \n",
              "\n",
              "                        release_date  \\\n",
              "0         November 6, 2015 (Vietnam)   \n",
              "1  October 19, 2018 (United Kingdom)   \n",
              "2    October 5, 2018 (United States)   \n",
              "3       November 1, 2012 (Hong Kong)   \n",
              "4   August 20, 2021 (United Kingdom)   \n",
              "5       December 6, 2019 (Hong Kong)   \n",
              "6         June 5, 2021 (Netherlands)   \n",
              "7         April 22, 2021 (Hong Kong)   \n",
              "8          June 27, 2019 (Hong Kong)   \n",
              "9          February 7, 2020 (Poland)   \n",
              "\n",
              "                                 countries_of_origin  \\\n",
              "0  United Kingdom,United States,Austria,Mexico,It...   \n",
              "1                      United States,United Kingdom,   \n",
              "2                               China,United States,   \n",
              "3               United Kingdom,United States,Turkey,   \n",
              "4                      United Kingdom,United States,   \n",
              "5                                     United States,   \n",
              "6                     Netherlands,Lithuania,Belgium,   \n",
              "7                      United Kingdom,United States,   \n",
              "8                                       South Korea,   \n",
              "9                                            Poland,   \n",
              "\n",
              "                                           languages  gross_worldwide  \\\n",
              "0             English,Spanish,Italian,German,French,     8.806815e+08   \n",
              "1                                           English,     2.556149e+08   \n",
              "2                            English,Mandarin,Malay,     8.560852e+08   \n",
              "3  English,Turkish,Shanghainese,Portuguese,Japanese,     1.108569e+09   \n",
              "4                                           English,     1.516366e+07   \n",
              "5                             English,Spanish,Hindi,     3.116056e+08   \n",
              "6                              Dutch,German,English,     5.970683e+06   \n",
              "7                                           English,     1.712278e+07   \n",
              "8                                    Korean,English,     2.586700e+08   \n",
              "9                            Polish,English,Italian,     9.458590e+06   \n",
              "\n",
              "        budget   runtime  color aspect_ratio score votes  user_reviews  \\\n",
              "0  245000000.0  2h 28min  Color     2.39 : 1   6.8   408        1200.0   \n",
              "1   10000000.0  1h 46min  Color     2.39 : 1   6.5   133        1900.0   \n",
              "2  100000000.0  1h 52min  Color     2.39 : 1   6.7   415        3800.0   \n",
              "3  200000000.0  2h 23min  Color     2.39 : 1   7.8   659        1600.0   \n",
              "4         None  1h 47min  Color     2.35 : 1   6.5    15      262000.0   \n",
              "5   40000000.0  2h 10min  Color     1.85 : 1   7.9   537        2700.0   \n",
              "6   16240000.0   2h 4min  Color     2.35 : 1   7.3   6.8       98000.0   \n",
              "7         None  1h 53min  Color     2.39 : 1   7.5   133        1000.0   \n",
              "8   11400000.0  2h 12min  Color     2.39 : 1   8.6   670        3200.0   \n",
              "9         None  1h 54min  Color     2.35 : 1   3.3    68        1300.0   \n",
              "\n",
              "   critic_reviews  metascore  \n",
              "0        462000.0       60.0  \n",
              "1        499000.0       67.0  \n",
              "2        427000.0       35.0  \n",
              "3        542000.0       81.0  \n",
              "4        133000.0       68.0  \n",
              "5        480000.0       82.0  \n",
              "6         24000.0        NaN  \n",
              "7        731000.0       73.0  \n",
              "8        595000.0       96.0  \n",
              "9         49000.0        NaN  "
            ]
          },
          "execution_count": 634,
          "metadata": {},
          "output_type": "execute_result"
        }
      ],
      "source": [
        "df.head(10)"
      ]
    },
    {
      "cell_type": "code",
      "execution_count": 635,
      "metadata": {},
      "outputs": [],
      "source": [
        "a = df.genres\n",
        "genres_list = []\n",
        "for item in a:\n",
        "    genres_list = genres_list + str(item).split(',')\n",
        "\n",
        "try:\n",
        "    while True:\n",
        "        genres_list.remove('')\n",
        "except:\n",
        "    pass"
      ]
    },
    {
      "cell_type": "code",
      "execution_count": 636,
      "metadata": {},
      "outputs": [],
      "source": [
        "genres_list = pd.Series(genres_list)"
      ]
    },
    {
      "cell_type": "code",
      "execution_count": 637,
      "metadata": {},
      "outputs": [
        {
          "data": {
            "text/plain": [
              "Drama         11688\n",
              "Comedy         7873\n",
              "Thriller       3859\n",
              "Romance        3556\n",
              "Action         3129\n",
              "Crime          2249\n",
              "nan            1918\n",
              "Adventure      1892\n",
              "Horror         1832\n",
              "Family         1704\n",
              "Fantasy        1476\n",
              "Mystery        1457\n",
              "Animation      1193\n",
              "Sci-Fi          991\n",
              "Biography       891\n",
              "History         856\n",
              "War             585\n",
              "Music           526\n",
              "Sport           397\n",
              "Musical         324\n",
              "Western         122\n",
              "News              2\n",
              "Reality-TV        1\n",
              "dtype: int64"
            ]
          },
          "execution_count": 637,
          "metadata": {},
          "output_type": "execute_result"
        }
      ],
      "source": [
        "genres_list.value_counts()"
      ]
    },
    {
      "cell_type": "markdown",
      "metadata": {
        "id": "R-ALXZtfnLZk"
      },
      "source": [
        "## Lưu dataset"
      ]
    },
    {
      "cell_type": "code",
      "execution_count": 638,
      "metadata": {
        "id": "mIzJNu7knLZk"
      },
      "outputs": [],
      "source": [
        "df.to_csv('./data/data_preprocessed.csv', index=False, encoding='utf-8-sig')"
      ]
    }
  ],
  "metadata": {
    "colab": {
      "collapsed_sections": [],
      "name": "preprocessing.ipynb",
      "provenance": []
    },
    "interpreter": {
      "hash": "9a56bc5fca0877747357b7c62c6b208d27a53739530dccd402600212438165fb"
    },
    "kernelspec": {
      "display_name": "Python 3.8.8 64-bit ('venv': venv)",
      "name": "python3"
    },
    "language_info": {
      "codemirror_mode": {
        "name": "ipython",
        "version": 3
      },
      "file_extension": ".py",
      "mimetype": "text/x-python",
      "name": "python",
      "nbconvert_exporter": "python",
      "pygments_lexer": "ipython3",
      "version": "3.8.8"
    }
  },
  "nbformat": 4,
  "nbformat_minor": 0
}
