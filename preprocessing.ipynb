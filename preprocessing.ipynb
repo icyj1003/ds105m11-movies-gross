{
 "cells": [
  {
   "cell_type": "markdown",
   "metadata": {},
   "source": [
    "## Import thư viện"
   ]
  },
  {
   "cell_type": "code",
   "execution_count": 767,
   "metadata": {},
   "outputs": [],
   "source": [
    "from IPython.core.interactiveshell import InteractiveShell\n",
    "InteractiveShell.ast_node_interactivity = \"all\"\n",
    "import pandas as pd\n",
    "import numpy as np\n",
    "pd.set_option('display.max_columns', None)"
   ]
  },
  {
   "cell_type": "markdown",
   "metadata": {},
   "source": [
    "## Đọc dataset"
   ]
  },
  {
   "cell_type": "code",
   "execution_count": 768,
   "metadata": {},
   "outputs": [
    {
     "name": "stderr",
     "output_type": "stream",
     "text": [
      "c:\\Users\\anhbu\\Desktop\\venv\\lib\\site-packages\\IPython\\core\\interactiveshell.py:3444: DtypeWarning: Columns (19) have mixed types.Specify dtype option on import or set low_memory=False.\n",
      "  exec(code_obj, self.user_global_ns, self.user_ns)\n"
     ]
    }
   ],
   "source": [
    "df = pd.read_csv('./data/data.csv')"
   ]
  },
  {
   "cell_type": "markdown",
   "metadata": {},
   "source": [
    "## Các hàm xử lý"
   ]
  },
  {
   "cell_type": "markdown",
   "metadata": {},
   "source": [
    "### Hàm xử lí và chuyển đổi đơn vị tiền tệ"
   ]
  },
  {
   "cell_type": "code",
   "execution_count": 769,
   "metadata": {},
   "outputs": [],
   "source": [
    "def currency_conv(old):\n",
    "    \"\"\" Viết docstring mô tả hàm theo dạng input, output; docstring mô tả vai trò của class dùng để làm gì.\n",
    "    input: một chuỗi thể đầu vào thể hiện đơn vị tiền tệ cần đổi\n",
    "    output: số tiền khi đã chuyển ra $\n",
    "    \"\"\"\n",
    "    if old!=None and old!=\"\":\n",
    "        return str(old).replace('(estimated)', '').replace(',', '').replace(' ', '')\n",
    "    else:\n",
    "        return None"
   ]
  },
  {
   "cell_type": "markdown",
   "metadata": {},
   "source": [
    "### Hàm xử lý và phân loại loại chứng chỉ"
   ]
  },
  {
   "cell_type": "code",
   "execution_count": 770,
   "metadata": {},
   "outputs": [],
   "source": [
    "def certification_conv(old):\n",
    "    \"\"\" Viết docstring mô tả hàm theo dạng input, output; docstring mô tả vai trò của class dùng để làm gì.\n",
    "    Tại liệu tham khảo\n",
    "    https://rating-system.fandom.com/wiki/Vietnam_Movie_Rating_System\n",
    "    https://en.wikipedia.org/wiki/TV_Parental_Guidelines\n",
    "    https://en.wikipedia.org/wiki/Motion_Picture_Association_film_rating_system\n",
    "    https://en.wikipedia.org/wiki/Hong_Kong_motion_picture_rating_system\n",
    "    \"\"\"\n",
    "\n",
    "    if (str(old).find('Rated R ')!=-1 or \n",
    "        str(old).find('R ')!=-1 or \n",
    "        str(old)=='R'):\n",
    "        return 'C16'\n",
    "\n",
    "    elif (str(old).find('PG ')!=-1 or \n",
    "        str(old)==('G')!=-1 or \n",
    "        str(old)=='PG' or \n",
    "        str(old)=='TV-G' or \n",
    "        str(old)=='TV-Y' or \n",
    "        str(old)=='TV-PG' or \n",
    "        str(old).find('TV-Y7')!=-1 or \n",
    "        str(old)=='I' or \n",
    "        str(old)=='Approved'):\n",
    "        return 'P'\n",
    "\n",
    "    elif (str(old).find('PG-13')!=-1 or \n",
    "        str(old)=='TV-14' or \n",
    "        str(old)=='II' or \n",
    "        str(old)=='IIA' or \n",
    "        str(old)=='IIB'):\n",
    "        return 'C13'\n",
    "\n",
    "    elif (str(old).find('NC-17 ')!=-1 or \n",
    "        str(old)=='TV-MA' or \n",
    "        str(old)=='MA-17' or \n",
    "        str(old)=='M' or \n",
    "        str(old)=='III' or \n",
    "        str(old)=='(Banned)'):\n",
    "        return 'C18'\n",
    "\n",
    "    elif (str(old)=='Not Rated'):\n",
    "        return 'Unrated'\n",
    "\n",
    "    else:\n",
    "        return str(old)"
   ]
  },
  {
   "cell_type": "markdown",
   "metadata": {},
   "source": [
    "### Hàm chuyển đổi chuỗi thời gian về dạng phút"
   ]
  },
  {
   "cell_type": "code",
   "execution_count": 771,
   "metadata": {},
   "outputs": [],
   "source": [
    "def to_minutes(time):\n",
    "    \"\"\" Viết docstring mô tả hàm theo dạng input, output; docstring mô tả vai trò của class dùng để làm gì.\n",
    "    \"\"\"\n",
    "    return None"
   ]
  },
  {
   "cell_type": "markdown",
   "metadata": {},
   "source": [
    "### Hàm tách năm  "
   ]
  },
  {
   "cell_type": "code",
   "execution_count": 772,
   "metadata": {},
   "outputs": [],
   "source": [
    "def get_year(old):\n",
    "    \"\"\" Viết docstring mô tả hàm theo dạng input, output; docstring mô tả vai trò của class dùng để làm gì.\n",
    "    \"\"\"\n",
    "    return None"
   ]
  },
  {
   "cell_type": "markdown",
   "metadata": {},
   "source": [
    "## Tiền xử lý dataset"
   ]
  },
  {
   "cell_type": "code",
   "execution_count": 773,
   "metadata": {},
   "outputs": [],
   "source": [
    "# drop các dư thừa 'casts', 'directors', 'writers', 'sound_mix' , 'production_companies'\n",
    "df.drop(columns=['casts', 'directors', 'writers', 'sound_mix' , 'production_companies'], inplace=True)"
   ]
  },
  {
   "cell_type": "code",
   "execution_count": 774,
   "metadata": {},
   "outputs": [],
   "source": [
    "# drop các datapoint bị khuyết doanh thu\n",
    "df.dropna(subset=['gross_worldwide'], inplace=True)"
   ]
  },
  {
   "cell_type": "code",
   "execution_count": 775,
   "metadata": {},
   "outputs": [
    {
     "name": "stdout",
     "output_type": "stream",
     "text": [
      "<class 'pandas.core.frame.DataFrame'>\n",
      "Int64Index: 22861 entries, 0 to 114430\n",
      "Data columns (total 16 columns):\n",
      " #   Column               Non-Null Count  Dtype  \n",
      "---  ------               --------------  -----  \n",
      " 0   title                22861 non-null  object \n",
      " 1   genres               20943 non-null  object \n",
      " 2   certificate          9504 non-null   object \n",
      " 3   release_date         22773 non-null  object \n",
      " 4   countries_of_origin  21609 non-null  object \n",
      " 5   languages            21408 non-null  object \n",
      " 6   gross_worldwide      22861 non-null  object \n",
      " 7   budget               6410 non-null   object \n",
      " 8   runtime              20440 non-null  object \n",
      " 9   color                20697 non-null  object \n",
      " 10  aspect_ratio         11647 non-null  object \n",
      " 11  score                20750 non-null  object \n",
      " 12  votes                20750 non-null  object \n",
      " 13  user_reviews         18766 non-null  object \n",
      " 14  critic_reviews       14809 non-null  object \n",
      " 15  metascore            5202 non-null   float64\n",
      "dtypes: float64(1), object(15)\n",
      "memory usage: 3.0+ MB\n"
     ]
    }
   ],
   "source": [
    "df.info()"
   ]
  },
  {
   "cell_type": "code",
   "execution_count": 776,
   "metadata": {},
   "outputs": [],
   "source": [
    "#apply các hàm xử lý\n",
    "df['gross_worldwide'] = df['gross_worldwide'].apply(currency_conv)\n",
    "df['budget'] = df['budget'].apply(currency_conv)\n",
    "df['certificate'] = df['certificate'].apply(certification_conv)"
   ]
  },
  {
   "cell_type": "code",
   "execution_count": 778,
   "metadata": {},
   "outputs": [
    {
     "data": {
      "text/html": [
       "<div>\n",
       "<style scoped>\n",
       "    .dataframe tbody tr th:only-of-type {\n",
       "        vertical-align: middle;\n",
       "    }\n",
       "\n",
       "    .dataframe tbody tr th {\n",
       "        vertical-align: top;\n",
       "    }\n",
       "\n",
       "    .dataframe thead th {\n",
       "        text-align: right;\n",
       "    }\n",
       "</style>\n",
       "<table border=\"1\" class=\"dataframe\">\n",
       "  <thead>\n",
       "    <tr style=\"text-align: right;\">\n",
       "      <th></th>\n",
       "      <th>title</th>\n",
       "      <th>genres</th>\n",
       "      <th>certificate</th>\n",
       "      <th>release_date</th>\n",
       "      <th>countries_of_origin</th>\n",
       "      <th>languages</th>\n",
       "      <th>gross_worldwide</th>\n",
       "      <th>budget</th>\n",
       "      <th>runtime</th>\n",
       "      <th>color</th>\n",
       "      <th>aspect_ratio</th>\n",
       "      <th>score</th>\n",
       "      <th>votes</th>\n",
       "      <th>user_reviews</th>\n",
       "      <th>critic_reviews</th>\n",
       "      <th>metascore</th>\n",
       "    </tr>\n",
       "  </thead>\n",
       "  <tbody>\n",
       "    <tr>\n",
       "      <th>0</th>\n",
       "      <td>Bóng Ma</td>\n",
       "      <td>Action,Adventure,Thriller,</td>\n",
       "      <td>C16</td>\n",
       "      <td>November 6, 2015 (Vietnam)</td>\n",
       "      <td>United Kingdom,United States,Austria,Mexico,It...</td>\n",
       "      <td>English,Spanish,Italian,German,French,</td>\n",
       "      <td>$880681519</td>\n",
       "      <td>$245000000</td>\n",
       "      <td>2h 28min</td>\n",
       "      <td>Color</td>\n",
       "      <td>2.39 : 1</td>\n",
       "      <td>6.8/10</td>\n",
       "      <td>408K</td>\n",
       "      <td>1.2K</td>\n",
       "      <td>462</td>\n",
       "      <td>60.0</td>\n",
       "    </tr>\n",
       "    <tr>\n",
       "      <th>1</th>\n",
       "      <td>Halloween</td>\n",
       "      <td>Crime,Horror,Thriller,</td>\n",
       "      <td>C18</td>\n",
       "      <td>October 19, 2018 (United Kingdom)</td>\n",
       "      <td>United States,United Kingdom,</td>\n",
       "      <td>English,</td>\n",
       "      <td>$255614941</td>\n",
       "      <td>$10000000</td>\n",
       "      <td>1h 46min</td>\n",
       "      <td>Color</td>\n",
       "      <td>2.39 : 1</td>\n",
       "      <td>6.5/10</td>\n",
       "      <td>133K</td>\n",
       "      <td>1.9K</td>\n",
       "      <td>499</td>\n",
       "      <td>67.0</td>\n",
       "    </tr>\n",
       "    <tr>\n",
       "      <th>2</th>\n",
       "      <td>Venom</td>\n",
       "      <td>Action,Adventure,Sci-Fi,</td>\n",
       "      <td>C16</td>\n",
       "      <td>October 5, 2018 (United States)</td>\n",
       "      <td>China,United States,</td>\n",
       "      <td>English,Mandarin,Malay,</td>\n",
       "      <td>$856085151</td>\n",
       "      <td>$100000000</td>\n",
       "      <td>1h 52min</td>\n",
       "      <td>Color</td>\n",
       "      <td>2.39 : 1</td>\n",
       "      <td>6.7/10</td>\n",
       "      <td>415K</td>\n",
       "      <td>3.8K</td>\n",
       "      <td>427</td>\n",
       "      <td>35.0</td>\n",
       "    </tr>\n",
       "  </tbody>\n",
       "</table>\n",
       "</div>"
      ],
      "text/plain": [
       "       title                      genres certificate  \\\n",
       "0    Bóng Ma  Action,Adventure,Thriller,         C16   \n",
       "1  Halloween      Crime,Horror,Thriller,         C18   \n",
       "2      Venom    Action,Adventure,Sci-Fi,         C16   \n",
       "\n",
       "                        release_date  \\\n",
       "0         November 6, 2015 (Vietnam)   \n",
       "1  October 19, 2018 (United Kingdom)   \n",
       "2    October 5, 2018 (United States)   \n",
       "\n",
       "                                 countries_of_origin  \\\n",
       "0  United Kingdom,United States,Austria,Mexico,It...   \n",
       "1                      United States,United Kingdom,   \n",
       "2                               China,United States,   \n",
       "\n",
       "                                languages gross_worldwide      budget  \\\n",
       "0  English,Spanish,Italian,German,French,      $880681519  $245000000   \n",
       "1                                English,      $255614941   $10000000   \n",
       "2                 English,Mandarin,Malay,      $856085151  $100000000   \n",
       "\n",
       "    runtime  color aspect_ratio   score votes user_reviews critic_reviews  \\\n",
       "0  2h 28min  Color     2.39 : 1  6.8/10  408K         1.2K            462   \n",
       "1  1h 46min  Color     2.39 : 1  6.5/10  133K         1.9K            499   \n",
       "2  1h 52min  Color     2.39 : 1  6.7/10  415K         3.8K            427   \n",
       "\n",
       "   metascore  \n",
       "0       60.0  \n",
       "1       67.0  \n",
       "2       35.0  "
      ]
     },
     "execution_count": 778,
     "metadata": {},
     "output_type": "execute_result"
    }
   ],
   "source": [
    "df.head(3)"
   ]
  },
  {
   "cell_type": "markdown",
   "metadata": {},
   "source": [
    "## Lưu dataset"
   ]
  },
  {
   "cell_type": "code",
   "execution_count": 777,
   "metadata": {},
   "outputs": [],
   "source": [
    "df.to_csv('./data/data_preprocessed.csv', index=False, encoding='utf-8-sig')"
   ]
  }
 ],
 "metadata": {
  "interpreter": {
   "hash": "9a56bc5fca0877747357b7c62c6b208d27a53739530dccd402600212438165fb"
  },
  "kernelspec": {
   "display_name": "Python 3.8.8 64-bit ('venv': venv)",
   "name": "python3"
  },
  "language_info": {
   "codemirror_mode": {
    "name": "ipython",
    "version": 3
   },
   "file_extension": ".py",
   "mimetype": "text/x-python",
   "name": "python",
   "nbconvert_exporter": "python",
   "pygments_lexer": "ipython3",
   "version": "3.8.8"
  }
 },
 "nbformat": 4,
 "nbformat_minor": 2
}
