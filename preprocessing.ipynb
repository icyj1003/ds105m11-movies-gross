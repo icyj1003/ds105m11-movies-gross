{
  "nbformat": 4,
  "nbformat_minor": 0,
  "metadata": {
    "interpreter": {
      "hash": "9a56bc5fca0877747357b7c62c6b208d27a53739530dccd402600212438165fb"
    },
    "kernelspec": {
      "display_name": "Python 3.8.8 64-bit ('venv': venv)",
      "name": "python3"
    },
    "language_info": {
      "codemirror_mode": {
        "name": "ipython",
        "version": 3
      },
      "file_extension": ".py",
      "mimetype": "text/x-python",
      "name": "python",
      "nbconvert_exporter": "python",
      "pygments_lexer": "ipython3",
      "version": "3.8.8"
    },
    "colab": {
      "name": "preprocessing.ipynb",
      "provenance": [],
      "collapsed_sections": []
    }
  },
  "cells": [
    {
      "cell_type": "markdown",
      "metadata": {
        "id": "IKGnt_-rnLZD"
      },
      "source": [
        "## Import thư viện"
      ]
    },
    {
      "cell_type": "code",
      "metadata": {
        "id": "z7Ym7Qs6nLZT"
      },
      "source": [
        "from IPython.core.interactiveshell import InteractiveShell\n",
        "InteractiveShell.ast_node_interactivity = \"all\"\n",
        "import pandas as pd\n",
        "import numpy as np\n",
        "pd.set_option('display.max_columns', None)"
      ],
      "execution_count": null,
      "outputs": []
    },
    {
      "cell_type": "markdown",
      "metadata": {
        "id": "1C3XlJxpnLZW"
      },
      "source": [
        "## Đọc dataset"
      ]
    },
    {
      "cell_type": "code",
      "metadata": {
        "colab": {
          "base_uri": "https://localhost:8080/"
        },
        "id": "dK1wk65BnLZX",
        "outputId": "1c1974f5-9141-43fe-c2bc-760244449a29"
      },
      "source": [
        "df = pd.read_csv('./data/data.csv')"
      ],
      "execution_count": null,
      "outputs": [
        {
          "output_type": "stream",
          "name": "stderr",
          "text": [
            "/usr/local/lib/python3.7/dist-packages/IPython/core/interactiveshell.py:2718: DtypeWarning: Columns (19) have mixed types.Specify dtype option on import or set low_memory=False.\n",
            "  interactivity=interactivity, compiler=compiler, result=result)\n"
          ]
        }
      ]
    },
    {
      "cell_type": "markdown",
      "metadata": {
        "id": "BhNZcQfVnLZZ"
      },
      "source": [
        "## Các hàm xử lý"
      ]
    },
    {
      "cell_type": "markdown",
      "metadata": {
        "id": "3tIJaZMNnLZZ"
      },
      "source": [
        "### Hàm xử lí và chuyển đổi đơn vị tiền tệ - Khôi"
      ]
    },
    {
      "cell_type": "code",
      "metadata": {
        "id": "R1eHlePbnLZa"
      },
      "source": [
        "def currency_conv(old):\n",
        "    \"\"\" Viết docstring mô tả hàm theo dạng input, output; docstring mô tả vai trò của class dùng để làm gì.\n",
        "    input: một chuỗi thể đầu vào thể hiện đơn vị tiền tệ cần đổi\n",
        "    output: số tiền khi đã chuyển ra $\n",
        "    \"\"\"\n",
        "    if old!=None and old!=\"\":\n",
        "        return str(old).replace('(estimated)', '').replace(',', '').replace(' ', '')\n",
        "    else:\n",
        "        return None"
      ],
      "execution_count": null,
      "outputs": []
    },
    {
      "cell_type": "markdown",
      "metadata": {
        "id": "LysCNiHenLZb"
      },
      "source": [
        "### Hàm xử lý và phân loại loại chứng chỉ - Khôi"
      ]
    },
    {
      "cell_type": "code",
      "metadata": {
        "id": "kHRnCNyPnLZb"
      },
      "source": [
        "def certification_conv(old):\n",
        "    \"\"\" Viết docstring mô tả hàm theo dạng input, output; docstring mô tả vai trò của class dùng để làm gì.\n",
        "    Tại liệu tham khảo\n",
        "    https://rating-system.fandom.com/wiki/Vietnam_Movie_Rating_System\n",
        "    https://en.wikipedia.org/wiki/TV_Parental_Guidelines\n",
        "    https://en.wikipedia.org/wiki/Motion_Picture_Association_film_rating_system\n",
        "    https://en.wikipedia.org/wiki/Hong_Kong_motion_picture_rating_system\n",
        "    \"\"\"\n",
        "\n",
        "    if (str(old).find('Rated R ')!=-1 or \n",
        "        str(old).find('R ')!=-1 or \n",
        "        str(old)=='R'):\n",
        "        return 'C16'\n",
        "\n",
        "    elif (str(old).find('PG ')!=-1 or \n",
        "        str(old)==('G')!=-1 or \n",
        "        str(old)=='PG' or \n",
        "        str(old)=='TV-G' or \n",
        "        str(old)=='TV-Y' or \n",
        "        str(old)=='TV-PG' or \n",
        "        str(old).find('TV-Y7')!=-1 or \n",
        "        str(old)=='I' or \n",
        "        str(old)=='Approved'):\n",
        "        return 'P'\n",
        "\n",
        "    elif (str(old).find('PG-13')!=-1 or \n",
        "        str(old)=='TV-14' or \n",
        "        str(old)=='II' or \n",
        "        str(old)=='IIA' or \n",
        "        str(old)=='IIB'):\n",
        "        return 'C13'\n",
        "\n",
        "    elif (str(old).find('NC-17 ')!=-1 or \n",
        "        str(old)=='TV-MA' or \n",
        "        str(old)=='MA-17' or \n",
        "        str(old)=='M' or \n",
        "        str(old)=='III' or \n",
        "        str(old)=='(Banned)'):\n",
        "        return 'C18'\n",
        "\n",
        "    elif (str(old)=='Not Rated'):\n",
        "        return 'Unrated'\n",
        "\n",
        "    else:\n",
        "        return str(old)"
      ],
      "execution_count": null,
      "outputs": []
    },
    {
      "cell_type": "markdown",
      "metadata": {
        "id": "rJXbterznLZd"
      },
      "source": [
        "### Hàm tách năm - Khôi"
      ]
    },
    {
      "cell_type": "code",
      "metadata": {
        "id": "bB3BEivlnLZe"
      },
      "source": [
        "def get_year(old):\n",
        "    \"\"\" Viết docstring mô tả hàm theo dạng input, output; docstring mô tả vai trò của class dùng để làm gì.\n",
        "    \"\"\"\n",
        "    return None"
      ],
      "execution_count": null,
      "outputs": []
    },
    {
      "cell_type": "markdown",
      "metadata": {
        "id": "EgMCVzepnLZe"
      },
      "source": [
        "### Hàm chuyển đổi chuỗi thời gian về dạng phút - Thu Hà"
      ]
    },
    {
      "cell_type": "code",
      "metadata": {
        "id": "eaJdm_gZnLZe"
      },
      "source": [
        "def to_minutes(time):\n",
        "    \"\"\" Chuyển đổi chuỗi thời gian thành dạng phút \n",
        "    Input: Chuỗi thời gian. Ví dụ '2h 28min'\n",
        "    Output: Thời gian dưới dạng phút. Ví dụ 60, 120\n",
        "    \"\"\"\n",
        "    time = str(time)\n",
        "    time = time.replace(\"h\",\"\")\n",
        "    time = time.replace(\"min\",\"\")\n",
        "    times = time.split()\n",
        "    times = np.array(times)\n",
        "    times = times.astype(\"int\")\n",
        "    minutes=0\n",
        "    if len(times)==1:\n",
        "      if(times[0]>3):\n",
        "        minutes=times[0]\n",
        "      else: minutes=times[0]*60\n",
        "    else: minutes = times[0]*60+times[1]\n",
        "    return minutes"
      ],
      "execution_count": null,
      "outputs": []
    },
    {
      "cell_type": "markdown",
      "metadata": {
        "id": "E9zY80s4nLZf"
      },
      "source": [
        "### Hàm xử lý votes - Thu Hà"
      ]
    },
    {
      "cell_type": "code",
      "metadata": {
        "id": "lW_FpmPPnLZg"
      },
      "source": [
        "def pp_vote(votes):\n",
        "    \"\"\" Đổi đơn vị thành nghìn người\n",
        "    Input: Chuỗi hoặc số thể hiện số lượng vote. Ví dụ '2K', '1231', 12312\n",
        "    Output: Số lượng người vote đơn vị nghìn người. Ví dụ 2, 1.231, 12.312\n",
        "    \"\"\"\n",
        "    votes= str(votes)\n",
        "    num_vote=0\n",
        "    if(votes.count(\"k\")==1):\n",
        "      votes = votes.replace(\"k\",\"\")\n",
        "      vote= float(votes)\n",
        "      num_vote = vote*1000\n",
        "    else: \n",
        "      vote = float(votes)\n",
        "      num_vote = vote\n",
        "    return num_vote"
      ],
      "execution_count": null,
      "outputs": []
    },
    {
      "cell_type": "markdown",
      "metadata": {
        "id": "JI2hEhD1nLZg"
      },
      "source": [
        "### Hàm xử lý reviews - Thu Hà"
      ]
    },
    {
      "cell_type": "code",
      "metadata": {
        "id": "JjmcQCbKnLZg"
      },
      "source": [
        "def pp_review(reviews):\n",
        "    \"\"\" Đổi số lượng đánh giá thành đơn vị nghìn người\n",
        "    Input: Chuỗi hoặc số thể hiện số lượt đánh giá. Ví dụ '2k', 123, '12312'\n",
        "    Output: Số lượng đánh giá (đơn vị người). Ví dụ 2000, 123, 12312\n",
        "    \"\"\"\n",
        "    reviews= str(reviews)\n",
        "    num_review=0\n",
        "    if(reviews.count(\"k\")==1):\n",
        "      reviews = reviews.replace(\"k\",\"\")\n",
        "      review= float(reviews)\n",
        "      num_review = review*1000\n",
        "    else: \n",
        "      review= float(reviews)\n",
        "      num_review = review*1000\n",
        "    return num_review"
      ],
      "execution_count": null,
      "outputs": []
    },
    {
      "cell_type": "markdown",
      "metadata": {
        "id": "vLr_4guynLZh"
      },
      "source": [
        "### Hàm xử lý tỉ lệ khung hình - Khôi"
      ]
    },
    {
      "cell_type": "code",
      "metadata": {
        "id": "I9kq2hqhnLZh"
      },
      "source": [
        "def pp_ratio(aspect_ratio):\n",
        "    \"\"\" \n",
        "    \"\"\"\n",
        "    return None"
      ],
      "execution_count": null,
      "outputs": []
    },
    {
      "cell_type": "markdown",
      "metadata": {
        "id": "X-u3VXgEnLZi"
      },
      "source": [
        "### Hàm xử lý score - Thu Hà"
      ]
    },
    {
      "cell_type": "code",
      "metadata": {
        "id": "TKamujRznLZi"
      },
      "source": [
        "def pp_score(score):\n",
        "    \"\"\" Chuyển score về dạng số\n",
        "    Input: Chuỗi thể hiện điểm trên thang 10. Ví dụ '5/10', '5.5/10'\n",
        "    Output: Số điểm tương ứng. Ví dụ 5, 5.5\n",
        "    \"\"\"\n",
        "    score = score.replace(\"/10\",\"\")\n",
        "    return None"
      ],
      "execution_count": 38,
      "outputs": []
    },
    {
      "cell_type": "markdown",
      "metadata": {
        "id": "a2YqexuZnLZi"
      },
      "source": [
        "## Tiền xử lý dataset"
      ]
    },
    {
      "cell_type": "code",
      "metadata": {
        "id": "t7e_ftPZnLZj"
      },
      "source": [
        "# drop các dư thừa 'casts', 'directors', 'writers', 'sound_mix' , 'production_companies'\n",
        "df.drop(columns=['casts', 'directors', 'writers', 'sound_mix' , 'production_companies'], inplace=True)"
      ],
      "execution_count": null,
      "outputs": []
    },
    {
      "cell_type": "code",
      "metadata": {
        "id": "MQWT0I0PnLZj"
      },
      "source": [
        "# drop các datapoint bị khuyết doanh thu\n",
        "df.dropna(subset=['gross_worldwide'], inplace=True)"
      ],
      "execution_count": null,
      "outputs": []
    },
    {
      "cell_type": "code",
      "metadata": {
        "id": "JNDT0rT1nLZj",
        "outputId": "9f8d45f7-6f89-480f-f701-5bcea7b25715"
      },
      "source": [
        "df.info()"
      ],
      "execution_count": null,
      "outputs": [
        {
          "name": "stdout",
          "output_type": "stream",
          "text": [
            "<class 'pandas.core.frame.DataFrame'>\n",
            "Int64Index: 22861 entries, 0 to 114430\n",
            "Data columns (total 16 columns):\n",
            " #   Column               Non-Null Count  Dtype  \n",
            "---  ------               --------------  -----  \n",
            " 0   title                22861 non-null  object \n",
            " 1   genres               20943 non-null  object \n",
            " 2   certificate          9504 non-null   object \n",
            " 3   release_date         22773 non-null  object \n",
            " 4   countries_of_origin  21609 non-null  object \n",
            " 5   languages            21408 non-null  object \n",
            " 6   gross_worldwide      22861 non-null  object \n",
            " 7   budget               6410 non-null   object \n",
            " 8   runtime              20440 non-null  object \n",
            " 9   color                20697 non-null  object \n",
            " 10  aspect_ratio         11647 non-null  object \n",
            " 11  score                20750 non-null  object \n",
            " 12  votes                20750 non-null  object \n",
            " 13  user_reviews         18766 non-null  object \n",
            " 14  critic_reviews       14809 non-null  object \n",
            " 15  metascore            5202 non-null   float64\n",
            "dtypes: float64(1), object(15)\n",
            "memory usage: 3.0+ MB\n"
          ]
        }
      ]
    },
    {
      "cell_type": "code",
      "metadata": {
        "id": "DPumsZlwnLZj"
      },
      "source": [
        "#apply các hàm xử lý\n",
        "df['gross_worldwide'] = df['gross_worldwide'].apply(currency_conv)\n",
        "#df['budget'] = df['budget'].apply(currency_conv)\n",
        "#df['certificate'] = df['certificate'].apply(certification_conv)"
      ],
      "execution_count": null,
      "outputs": []
    },
    {
      "cell_type": "code",
      "metadata": {
        "id": "3wvk2aounLZk",
        "outputId": "5ec95254-a62e-4182-932c-5c6483dd70e9"
      },
      "source": [
        "df.head(3)"
      ],
      "execution_count": null,
      "outputs": [
        {
          "data": {
            "text/html": [
              "<div>\n",
              "<style scoped>\n",
              "    .dataframe tbody tr th:only-of-type {\n",
              "        vertical-align: middle;\n",
              "    }\n",
              "\n",
              "    .dataframe tbody tr th {\n",
              "        vertical-align: top;\n",
              "    }\n",
              "\n",
              "    .dataframe thead th {\n",
              "        text-align: right;\n",
              "    }\n",
              "</style>\n",
              "<table border=\"1\" class=\"dataframe\">\n",
              "  <thead>\n",
              "    <tr style=\"text-align: right;\">\n",
              "      <th></th>\n",
              "      <th>title</th>\n",
              "      <th>genres</th>\n",
              "      <th>certificate</th>\n",
              "      <th>release_date</th>\n",
              "      <th>countries_of_origin</th>\n",
              "      <th>languages</th>\n",
              "      <th>gross_worldwide</th>\n",
              "      <th>budget</th>\n",
              "      <th>runtime</th>\n",
              "      <th>color</th>\n",
              "      <th>aspect_ratio</th>\n",
              "      <th>score</th>\n",
              "      <th>votes</th>\n",
              "      <th>user_reviews</th>\n",
              "      <th>critic_reviews</th>\n",
              "      <th>metascore</th>\n",
              "    </tr>\n",
              "  </thead>\n",
              "  <tbody>\n",
              "    <tr>\n",
              "      <th>0</th>\n",
              "      <td>Bóng Ma</td>\n",
              "      <td>Action,Adventure,Thriller,</td>\n",
              "      <td>C16</td>\n",
              "      <td>November 6, 2015 (Vietnam)</td>\n",
              "      <td>United Kingdom,United States,Austria,Mexico,It...</td>\n",
              "      <td>English,Spanish,Italian,German,French,</td>\n",
              "      <td>$880681519</td>\n",
              "      <td>$245000000</td>\n",
              "      <td>2h 28min</td>\n",
              "      <td>Color</td>\n",
              "      <td>2.39 : 1</td>\n",
              "      <td>6.8/10</td>\n",
              "      <td>408K</td>\n",
              "      <td>1.2K</td>\n",
              "      <td>462</td>\n",
              "      <td>60.0</td>\n",
              "    </tr>\n",
              "    <tr>\n",
              "      <th>1</th>\n",
              "      <td>Halloween</td>\n",
              "      <td>Crime,Horror,Thriller,</td>\n",
              "      <td>C18</td>\n",
              "      <td>October 19, 2018 (United Kingdom)</td>\n",
              "      <td>United States,United Kingdom,</td>\n",
              "      <td>English,</td>\n",
              "      <td>$255614941</td>\n",
              "      <td>$10000000</td>\n",
              "      <td>1h 46min</td>\n",
              "      <td>Color</td>\n",
              "      <td>2.39 : 1</td>\n",
              "      <td>6.5/10</td>\n",
              "      <td>133K</td>\n",
              "      <td>1.9K</td>\n",
              "      <td>499</td>\n",
              "      <td>67.0</td>\n",
              "    </tr>\n",
              "    <tr>\n",
              "      <th>2</th>\n",
              "      <td>Venom</td>\n",
              "      <td>Action,Adventure,Sci-Fi,</td>\n",
              "      <td>C16</td>\n",
              "      <td>October 5, 2018 (United States)</td>\n",
              "      <td>China,United States,</td>\n",
              "      <td>English,Mandarin,Malay,</td>\n",
              "      <td>$856085151</td>\n",
              "      <td>$100000000</td>\n",
              "      <td>1h 52min</td>\n",
              "      <td>Color</td>\n",
              "      <td>2.39 : 1</td>\n",
              "      <td>6.7/10</td>\n",
              "      <td>415K</td>\n",
              "      <td>3.8K</td>\n",
              "      <td>427</td>\n",
              "      <td>35.0</td>\n",
              "    </tr>\n",
              "  </tbody>\n",
              "</table>\n",
              "</div>"
            ],
            "text/plain": [
              "       title                      genres certificate  \\\n",
              "0    Bóng Ma  Action,Adventure,Thriller,         C16   \n",
              "1  Halloween      Crime,Horror,Thriller,         C18   \n",
              "2      Venom    Action,Adventure,Sci-Fi,         C16   \n",
              "\n",
              "                        release_date  \\\n",
              "0         November 6, 2015 (Vietnam)   \n",
              "1  October 19, 2018 (United Kingdom)   \n",
              "2    October 5, 2018 (United States)   \n",
              "\n",
              "                                 countries_of_origin  \\\n",
              "0  United Kingdom,United States,Austria,Mexico,It...   \n",
              "1                      United States,United Kingdom,   \n",
              "2                               China,United States,   \n",
              "\n",
              "                                languages gross_worldwide      budget  \\\n",
              "0  English,Spanish,Italian,German,French,      $880681519  $245000000   \n",
              "1                                English,      $255614941   $10000000   \n",
              "2                 English,Mandarin,Malay,      $856085151  $100000000   \n",
              "\n",
              "    runtime  color aspect_ratio   score votes user_reviews critic_reviews  \\\n",
              "0  2h 28min  Color     2.39 : 1  6.8/10  408K         1.2K            462   \n",
              "1  1h 46min  Color     2.39 : 1  6.5/10  133K         1.9K            499   \n",
              "2  1h 52min  Color     2.39 : 1  6.7/10  415K         3.8K            427   \n",
              "\n",
              "   metascore  \n",
              "0       60.0  \n",
              "1       67.0  \n",
              "2       35.0  "
            ]
          },
          "execution_count": 778,
          "metadata": {},
          "output_type": "execute_result"
        }
      ]
    },
    {
      "cell_type": "markdown",
      "metadata": {
        "id": "R-ALXZtfnLZk"
      },
      "source": [
        "## Lưu dataset"
      ]
    },
    {
      "cell_type": "code",
      "metadata": {
        "id": "mIzJNu7knLZk"
      },
      "source": [
        "df.to_csv('./data/data_preprocessed.csv', index=False, encoding='utf-8-sig')"
      ],
      "execution_count": null,
      "outputs": []
    }
  ]
}