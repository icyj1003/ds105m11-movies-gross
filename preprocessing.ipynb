{
 "cells": [
  {
   "cell_type": "markdown",
   "metadata": {},
   "source": [
    "## Import thư việnn"
   ]
  },
  {
   "cell_type": "code",
   "execution_count": 91,
   "metadata": {},
   "outputs": [],
   "source": [
    "from IPython.core.interactiveshell import InteractiveShell\n",
    "InteractiveShell.ast_node_interactivity = \"all\"\n",
    "import pandas as pd\n",
    "import numpy as np\n",
    "pd.set_option('display.max_columns', None)"
   ]
  },
  {
   "cell_type": "markdown",
   "metadata": {},
   "source": [
    "## Đọc dataset"
   ]
  },
  {
   "cell_type": "code",
   "execution_count": 92,
   "metadata": {},
   "outputs": [],
   "source": [
    "df = pd.read_csv('./data/data.csv')"
   ]
  },
  {
   "cell_type": "markdown",
   "metadata": {},
   "source": [
    "## Các hàm xử lý"
   ]
  },
  {
   "cell_type": "markdown",
   "metadata": {},
   "source": [
    "### Hàm xử lí và chuyển đổi đơn vị tiền tệ"
   ]
  },
  {
   "cell_type": "code",
   "execution_count": 93,
   "metadata": {},
   "outputs": [],
   "source": [
    "def currency_conv(old):\n",
    "    \"\"\" Viết docstring mô tả hàm theo dạng input, output; docstring mô tả vai trò của class dùng để làm gì.\n",
    "    input: một chuỗi thể đầu vào thể hiện đơn vị tiền tệ cần đổi\n",
    "    output: số tiền khi đã chuyển ra $\n",
    "    \"\"\"\n",
    "    if old!=None and old!=\"\":\n",
    "        return 100000\n",
    "    else:\n",
    "        return None"
   ]
  },
  {
   "cell_type": "markdown",
   "metadata": {},
   "source": [
    "### Hàm xử lý và phân loại các thể loại"
   ]
  },
  {
   "cell_type": "code",
   "execution_count": null,
   "metadata": {},
   "outputs": [],
   "source": [
    "def genres_conv(old):\n",
    "    \"\"\" Viết docstring mô tả hàm theo dạng input, output; docstring mô tả vai trò của class dùng để làm gì.\n",
    "    \"\"\"\n",
    "    return None"
   ]
  },
  {
   "cell_type": "markdown",
   "metadata": {},
   "source": [
    "### Hàm chuyển đổi chuỗi thời gian về dạng phút"
   ]
  },
  {
   "cell_type": "code",
   "execution_count": null,
   "metadata": {},
   "outputs": [],
   "source": [
    "def to_minutes(time):\n",
    "    \"\"\" Viết docstring mô tả hàm theo dạng input, output; docstring mô tả vai trò của class dùng để làm gì.\n",
    "    \"\"\"\n",
    "    return None"
   ]
  },
  {
   "cell_type": "markdown",
   "metadata": {},
   "source": [
    "### Hàm tách năm  "
   ]
  },
  {
   "cell_type": "markdown",
   "metadata": {},
   "source": [
    "## Tiền xử lý dataset"
   ]
  },
  {
   "cell_type": "code",
   "execution_count": 94,
   "metadata": {},
   "outputs": [],
   "source": [
    "df['gross_worldwide'] = df['gross_worldwide'].apply(currency_conv)"
   ]
  },
  {
   "cell_type": "code",
   "execution_count": 95,
   "metadata": {},
   "outputs": [
    {
     "data": {
      "text/html": [
       "<div>\n",
       "<style scoped>\n",
       "    .dataframe tbody tr th:only-of-type {\n",
       "        vertical-align: middle;\n",
       "    }\n",
       "\n",
       "    .dataframe tbody tr th {\n",
       "        vertical-align: top;\n",
       "    }\n",
       "\n",
       "    .dataframe thead th {\n",
       "        text-align: right;\n",
       "    }\n",
       "</style>\n",
       "<table border=\"1\" class=\"dataframe\">\n",
       "  <thead>\n",
       "    <tr style=\"text-align: right;\">\n",
       "      <th></th>\n",
       "      <th>title</th>\n",
       "      <th>casts</th>\n",
       "      <th>directors</th>\n",
       "      <th>writers</th>\n",
       "      <th>genres</th>\n",
       "      <th>certificate</th>\n",
       "      <th>release_date</th>\n",
       "      <th>countries_of_origin</th>\n",
       "      <th>languages</th>\n",
       "      <th>production_companies</th>\n",
       "      <th>gross_worldwide</th>\n",
       "      <th>budget</th>\n",
       "      <th>runtime</th>\n",
       "      <th>color</th>\n",
       "      <th>sound_mix</th>\n",
       "      <th>aspect_ratio</th>\n",
       "      <th>score</th>\n",
       "      <th>votes</th>\n",
       "      <th>user_reviews</th>\n",
       "      <th>critic_reviews</th>\n",
       "      <th>metascore</th>\n",
       "    </tr>\n",
       "  </thead>\n",
       "  <tbody>\n",
       "    <tr>\n",
       "      <th>0</th>\n",
       "      <td>Bóng Ma</td>\n",
       "      <td>Stars,Daniel Craig,Christoph Waltz,Léa Seydoux,,</td>\n",
       "      <td>Sam Mendes,</td>\n",
       "      <td>Writers,John Logan,Neal Purvis,Robert Wade,,</td>\n",
       "      <td>Action,Adventure,Thriller,</td>\n",
       "      <td>C16</td>\n",
       "      <td>November 6, 2015 (Vietnam)</td>\n",
       "      <td>United Kingdom,United States,Austria,Mexico,Italy,Morocco,</td>\n",
       "      <td>English,Spanish,Italian,German,French,</td>\n",
       "      <td>B24,Columbia Pictures,Danjaq,</td>\n",
       "      <td>100000</td>\n",
       "      <td>$245,000,000 (estimated)</td>\n",
       "      <td>2h 28min</td>\n",
       "      <td>Color</td>\n",
       "      <td>Dolby Digital,Datasat,Dolby Surround 7.1,</td>\n",
       "      <td>2.39 : 1</td>\n",
       "      <td>6.8/10</td>\n",
       "      <td>408K</td>\n",
       "      <td>1.2K</td>\n",
       "      <td>462</td>\n",
       "      <td>60.0</td>\n",
       "    </tr>\n",
       "    <tr>\n",
       "      <th>1</th>\n",
       "      <td>Halloween</td>\n",
       "      <td>Stars,Jamie Lee Curtis,Judy Greer,Andi Matichak,,</td>\n",
       "      <td>David Gordon Green,</td>\n",
       "      <td>Writers,John Carpenter,Debra Hill,Jeff Fradley,,</td>\n",
       "      <td>Crime,Horror,Thriller,</td>\n",
       "      <td>(Banned)</td>\n",
       "      <td>October 19, 2018 (United Kingdom)</td>\n",
       "      <td>United States,United Kingdom,</td>\n",
       "      <td>English,</td>\n",
       "      <td>Blumhouse Productions,Miramax,Night Blade Holdings,</td>\n",
       "      <td>100000</td>\n",
       "      <td>$10,000,000 (estimated)</td>\n",
       "      <td>1h 46min</td>\n",
       "      <td>Color</td>\n",
       "      <td>Dolby Digital,Dolby Atmos,</td>\n",
       "      <td>2.39 : 1</td>\n",
       "      <td>6.5/10</td>\n",
       "      <td>133K</td>\n",
       "      <td>1.9K</td>\n",
       "      <td>499</td>\n",
       "      <td>67.0</td>\n",
       "    </tr>\n",
       "    <tr>\n",
       "      <th>2</th>\n",
       "      <td>Venom</td>\n",
       "      <td>Stars,Tom Hardy,Michelle Williams,Riz Ahmed,,</td>\n",
       "      <td>Ruben Fleischer,</td>\n",
       "      <td>Writers,Jeff Pinkner,Scott Rosenberg,Kelly Marcel,,</td>\n",
       "      <td>Action,Adventure,Sci-Fi,</td>\n",
       "      <td>C16</td>\n",
       "      <td>October 5, 2018 (United States)</td>\n",
       "      <td>China,United States,</td>\n",
       "      <td>English,Mandarin,Malay,</td>\n",
       "      <td>Avi Arad Productions,Columbia Pictures,Marvel Entertainment,</td>\n",
       "      <td>100000</td>\n",
       "      <td>$100,000,000 (estimated)</td>\n",
       "      <td>1h 52min</td>\n",
       "      <td>Color</td>\n",
       "      <td>Dolby Atmos,Auro 11.1,Sonics-DDP,SDDS,</td>\n",
       "      <td>2.39 : 1</td>\n",
       "      <td>6.7/10</td>\n",
       "      <td>415K</td>\n",
       "      <td>3.8K</td>\n",
       "      <td>427</td>\n",
       "      <td>35.0</td>\n",
       "    </tr>\n",
       "  </tbody>\n",
       "</table>\n",
       "</div>"
      ],
      "text/plain": [
       "       title                                              casts  \\\n",
       "0  Bóng Ma    Stars,Daniel Craig,Christoph Waltz,Léa Seydoux,,    \n",
       "1  Halloween  Stars,Jamie Lee Curtis,Judy Greer,Andi Matichak,,   \n",
       "2  Venom      Stars,Tom Hardy,Michelle Williams,Riz Ahmed,,       \n",
       "\n",
       "             directors                                              writers  \\\n",
       "0  Sam Mendes,          Writers,John Logan,Neal Purvis,Robert Wade,,          \n",
       "1  David Gordon Green,  Writers,John Carpenter,Debra Hill,Jeff Fradley,,      \n",
       "2  Ruben Fleischer,     Writers,Jeff Pinkner,Scott Rosenberg,Kelly Marcel,,   \n",
       "\n",
       "                       genres certificate                       release_date  \\\n",
       "0  Action,Adventure,Thriller,  C16         November 6, 2015 (Vietnam)          \n",
       "1  Crime,Horror,Thriller,      (Banned)    October 19, 2018 (United Kingdom)   \n",
       "2  Action,Adventure,Sci-Fi,    C16         October 5, 2018 (United States)     \n",
       "\n",
       "                                          countries_of_origin  \\\n",
       "0  United Kingdom,United States,Austria,Mexico,Italy,Morocco,   \n",
       "1  United States,United Kingdom,                                \n",
       "2  China,United States,                                         \n",
       "\n",
       "                                languages  \\\n",
       "0  English,Spanish,Italian,German,French,   \n",
       "1  English,                                 \n",
       "2  English,Mandarin,Malay,                  \n",
       "\n",
       "                                           production_companies  \\\n",
       "0  B24,Columbia Pictures,Danjaq,                                  \n",
       "1  Blumhouse Productions,Miramax,Night Blade Holdings,            \n",
       "2  Avi Arad Productions,Columbia Pictures,Marvel Entertainment,   \n",
       "\n",
       "   gross_worldwide                    budget   runtime  color  \\\n",
       "0  100000           $245,000,000 (estimated)  2h 28min  Color   \n",
       "1  100000           $10,000,000 (estimated)   1h 46min  Color   \n",
       "2  100000           $100,000,000 (estimated)  1h 52min  Color   \n",
       "\n",
       "                                   sound_mix aspect_ratio   score votes  \\\n",
       "0  Dolby Digital,Datasat,Dolby Surround 7.1,  2.39 : 1     6.8/10  408K   \n",
       "1  Dolby Digital,Dolby Atmos,                 2.39 : 1     6.5/10  133K   \n",
       "2  Dolby Atmos,Auro 11.1,Sonics-DDP,SDDS,     2.39 : 1     6.7/10  415K   \n",
       "\n",
       "  user_reviews critic_reviews  metascore  \n",
       "0  1.2K         462            60.0       \n",
       "1  1.9K         499            67.0       \n",
       "2  3.8K         427            35.0       "
      ]
     },
     "execution_count": 95,
     "metadata": {},
     "output_type": "execute_result"
    }
   ],
   "source": [
    "df.head(3)"
   ]
  },
  {
   "cell_type": "markdown",
   "metadata": {},
   "source": [
    "## Lưu dataset"
   ]
  },
  {
   "cell_type": "code",
   "execution_count": null,
   "metadata": {},
   "outputs": [],
   "source": [
    "df.to_csv('./data/data_preprocessed.csv', index=False, encoding='utf-8-sig')"
   ]
  }
 ],
 "metadata": {
  "interpreter": {
   "hash": "9a56bc5fca0877747357b7c62c6b208d27a53739530dccd402600212438165fb"
  },
  "kernelspec": {
   "display_name": "Python 3",
   "language": "python",
   "name": "python3"
  },
  "language_info": {
   "codemirror_mode": {
    "name": "ipython",
    "version": 3
   },
   "file_extension": ".py",
   "mimetype": "text/x-python",
   "name": "python",
   "nbconvert_exporter": "python",
   "pygments_lexer": "ipython3",
   "version": "3.8.8"
  }
 },
 "nbformat": 4,
 "nbformat_minor": 2
}
