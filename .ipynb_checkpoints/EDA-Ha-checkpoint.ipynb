{
 "cells": [
  {
   "cell_type": "code",
   "execution_count": 50,
   "metadata": {
    "ExecuteTime": {
     "end_time": "2021-11-20T06:36:24.339620Z",
     "start_time": "2021-11-20T06:36:24.332676Z"
    },
    "executionInfo": {
     "elapsed": 539,
     "status": "ok",
     "timestamp": 1637152904602,
     "user": {
      "displayName": "Hà Nguyễn Thị Thu",
      "photoUrl": "https://lh3.googleusercontent.com/a-/AOh14GjUhT6EYNAMJqB20eBv8FEbqXf9FuI400MuOQSe=s64",
      "userId": "16701001084542361705"
     },
     "user_tz": -420
    },
    "id": "onTjoD1MX7AX"
   },
   "outputs": [],
   "source": [
    "import pandas as pd\n",
    "import numpy as np\n",
    "import matplotlib.pyplot as plt\n",
    "import seaborn as sns"
   ]
  },
  {
   "cell_type": "code",
   "execution_count": 51,
   "metadata": {
    "ExecuteTime": {
     "end_time": "2021-11-20T06:36:24.478055Z",
     "start_time": "2021-11-20T06:36:24.341082Z"
    },
    "executionInfo": {
     "elapsed": 522,
     "status": "ok",
     "timestamp": 1637151725898,
     "user": {
      "displayName": "Hà Nguyễn Thị Thu",
      "photoUrl": "https://lh3.googleusercontent.com/a-/AOh14GjUhT6EYNAMJqB20eBv8FEbqXf9FuI400MuOQSe=s64",
      "userId": "16701001084542361705"
     },
     "user_tz": -420
    },
    "id": "2CxT3rXw2LOp"
   },
   "outputs": [],
   "source": [
    "df = pd.read_csv(\"./data/data_preprocessed.csv\")"
   ]
  },
  {
   "cell_type": "code",
   "execution_count": 52,
   "metadata": {
    "ExecuteTime": {
     "end_time": "2021-11-20T06:36:24.508829Z",
     "start_time": "2021-11-20T06:36:24.479085Z"
    },
    "colab": {
     "base_uri": "https://localhost:8080/",
     "height": 478
    },
    "executionInfo": {
     "elapsed": 529,
     "status": "ok",
     "timestamp": 1637151741710,
     "user": {
      "displayName": "Hà Nguyễn Thị Thu",
      "photoUrl": "https://lh3.googleusercontent.com/a-/AOh14GjUhT6EYNAMJqB20eBv8FEbqXf9FuI400MuOQSe=s64",
      "userId": "16701001084542361705"
     },
     "user_tz": -420
    },
    "id": "V1WPXWDt2PCu",
    "outputId": "968f950c-2e01-4f2a-94ba-c3fd3c9a91a5"
   },
   "outputs": [
    {
     "data": {
      "text/html": [
       "<div>\n",
       "<style scoped>\n",
       "    .dataframe tbody tr th:only-of-type {\n",
       "        vertical-align: middle;\n",
       "    }\n",
       "\n",
       "    .dataframe tbody tr th {\n",
       "        vertical-align: top;\n",
       "    }\n",
       "\n",
       "    .dataframe thead th {\n",
       "        text-align: right;\n",
       "    }\n",
       "</style>\n",
       "<table border=\"1\" class=\"dataframe\">\n",
       "  <thead>\n",
       "    <tr style=\"text-align: right;\">\n",
       "      <th></th>\n",
       "      <th>title</th>\n",
       "      <th>casts</th>\n",
       "      <th>directors</th>\n",
       "      <th>writers</th>\n",
       "      <th>genres</th>\n",
       "      <th>certificate</th>\n",
       "      <th>release_date</th>\n",
       "      <th>countries_of_origin</th>\n",
       "      <th>languages</th>\n",
       "      <th>production_companies</th>\n",
       "      <th>...</th>\n",
       "      <th>budget</th>\n",
       "      <th>runtime</th>\n",
       "      <th>color</th>\n",
       "      <th>sound_mix</th>\n",
       "      <th>aspect_ratio</th>\n",
       "      <th>score</th>\n",
       "      <th>votes</th>\n",
       "      <th>user_reviews</th>\n",
       "      <th>critic_reviews</th>\n",
       "      <th>metascore</th>\n",
       "    </tr>\n",
       "  </thead>\n",
       "  <tbody>\n",
       "    <tr>\n",
       "      <th>0</th>\n",
       "      <td>Bóng Ma</td>\n",
       "      <td>Daniel Craig,Christoph Waltz,Léa Seydoux,,</td>\n",
       "      <td>Sam Mendes,</td>\n",
       "      <td>John Logan,Neal Purvis,Robert Wade,,</td>\n",
       "      <td>Action,Adventure,Thriller,</td>\n",
       "      <td>NaN</td>\n",
       "      <td>2015.0</td>\n",
       "      <td>United Kingdom,United States,Austria,Mexico,It...</td>\n",
       "      <td>English,Spanish,Italian,German,French,</td>\n",
       "      <td>B24,Columbia Pictures,Danjaq,</td>\n",
       "      <td>...</td>\n",
       "      <td>245000000.0</td>\n",
       "      <td>148.0</td>\n",
       "      <td>Color</td>\n",
       "      <td>Dolby Digital,Datasat,Dolby Surround 7.1,</td>\n",
       "      <td>2.39:1</td>\n",
       "      <td>6.8</td>\n",
       "      <td>408.0</td>\n",
       "      <td>1200.0</td>\n",
       "      <td>462.0</td>\n",
       "      <td>60.0</td>\n",
       "    </tr>\n",
       "    <tr>\n",
       "      <th>1</th>\n",
       "      <td>Halloween</td>\n",
       "      <td>Jamie Lee Curtis,Judy Greer,Andi Matichak,,</td>\n",
       "      <td>David Gordon Green,</td>\n",
       "      <td>John Carpenter,Debra Hill,Jeff Fradley,,</td>\n",
       "      <td>Crime,Horror,Thriller,</td>\n",
       "      <td>C18</td>\n",
       "      <td>2018.0</td>\n",
       "      <td>United States,United Kingdom,</td>\n",
       "      <td>English,</td>\n",
       "      <td>Blumhouse Productions,Miramax,Night Blade Hold...</td>\n",
       "      <td>...</td>\n",
       "      <td>10000000.0</td>\n",
       "      <td>106.0</td>\n",
       "      <td>Color</td>\n",
       "      <td>Dolby Digital,Dolby Atmos,</td>\n",
       "      <td>2.39:1</td>\n",
       "      <td>6.5</td>\n",
       "      <td>133.0</td>\n",
       "      <td>1900.0</td>\n",
       "      <td>499.0</td>\n",
       "      <td>67.0</td>\n",
       "    </tr>\n",
       "    <tr>\n",
       "      <th>2</th>\n",
       "      <td>Venom</td>\n",
       "      <td>Tom Hardy,Michelle Williams,Riz Ahmed,,</td>\n",
       "      <td>Ruben Fleischer,</td>\n",
       "      <td>Jeff Pinkner,Scott Rosenberg,Kelly Marcel,,</td>\n",
       "      <td>Action,Adventure,Sci-Fi,</td>\n",
       "      <td>NaN</td>\n",
       "      <td>2018.0</td>\n",
       "      <td>China,United States,</td>\n",
       "      <td>English,Mandarin,Malay,</td>\n",
       "      <td>Avi Arad Productions,Columbia Pictures,Marvel ...</td>\n",
       "      <td>...</td>\n",
       "      <td>100000000.0</td>\n",
       "      <td>112.0</td>\n",
       "      <td>Color</td>\n",
       "      <td>Dolby Atmos,Auro 11.1,Sonics-DDP,SDDS,</td>\n",
       "      <td>2.39:1</td>\n",
       "      <td>6.7</td>\n",
       "      <td>415.0</td>\n",
       "      <td>3800.0</td>\n",
       "      <td>427.0</td>\n",
       "      <td>35.0</td>\n",
       "    </tr>\n",
       "    <tr>\n",
       "      <th>3</th>\n",
       "      <td>Skyfall</td>\n",
       "      <td>Daniel Craig,Javier Bardem,Naomie Harris,,</td>\n",
       "      <td>Sam Mendes,</td>\n",
       "      <td>Neal Purvis,Robert Wade,John Logan,,</td>\n",
       "      <td>Action,Adventure,Thriller,</td>\n",
       "      <td>C13</td>\n",
       "      <td>2012.0</td>\n",
       "      <td>United Kingdom,United States,Turkey,</td>\n",
       "      <td>English,Turkish,Shanghainese,Portuguese,Japanese,</td>\n",
       "      <td>Metro-Goldwyn-Mayer (MGM),Columbia Pictures,Da...</td>\n",
       "      <td>...</td>\n",
       "      <td>200000000.0</td>\n",
       "      <td>143.0</td>\n",
       "      <td>Color</td>\n",
       "      <td>Dolby Digital,Datasat,SDDS,Sonics-DDP,Dolby Su...</td>\n",
       "      <td>2.39:1</td>\n",
       "      <td>7.8</td>\n",
       "      <td>659.0</td>\n",
       "      <td>1600.0</td>\n",
       "      <td>542.0</td>\n",
       "      <td>81.0</td>\n",
       "    </tr>\n",
       "    <tr>\n",
       "      <th>4</th>\n",
       "      <td>The Night House</td>\n",
       "      <td>Rebecca Hall,Sarah Goldberg,Vondie Curtis-Hall,,</td>\n",
       "      <td>David Bruckner,</td>\n",
       "      <td>Ben Collins,Luke Piotrowski,</td>\n",
       "      <td>Horror,Mystery,Thriller,</td>\n",
       "      <td>C16</td>\n",
       "      <td>2021.0</td>\n",
       "      <td>United Kingdom,United States,</td>\n",
       "      <td>English,</td>\n",
       "      <td>Anton,Phantom Four Films,</td>\n",
       "      <td>...</td>\n",
       "      <td>NaN</td>\n",
       "      <td>107.0</td>\n",
       "      <td>Color</td>\n",
       "      <td>NaN</td>\n",
       "      <td>2.35:1</td>\n",
       "      <td>6.5</td>\n",
       "      <td>15.0</td>\n",
       "      <td>262.0</td>\n",
       "      <td>133.0</td>\n",
       "      <td>68.0</td>\n",
       "    </tr>\n",
       "    <tr>\n",
       "      <th>5</th>\n",
       "      <td>Knives Out</td>\n",
       "      <td>Daniel Craig,Chris Evans,Ana de Armas,,</td>\n",
       "      <td>Rian Johnson,</td>\n",
       "      <td>Rian Johnson,</td>\n",
       "      <td>Comedy,Crime,Drama,Mystery,Thriller,</td>\n",
       "      <td>C13</td>\n",
       "      <td>2019.0</td>\n",
       "      <td>United States,</td>\n",
       "      <td>English,Spanish,Hindi,</td>\n",
       "      <td>Lionsgate,Media Rights Capital (MRC),T-Street,</td>\n",
       "      <td>...</td>\n",
       "      <td>40000000.0</td>\n",
       "      <td>130.0</td>\n",
       "      <td>Color</td>\n",
       "      <td>Dolby Digital,D-Cinema 48kHz 5.1,Dolby Atmos,</td>\n",
       "      <td>1.85:1</td>\n",
       "      <td>7.9</td>\n",
       "      <td>537.0</td>\n",
       "      <td>2700.0</td>\n",
       "      <td>480.0</td>\n",
       "      <td>82.0</td>\n",
       "    </tr>\n",
       "    <tr>\n",
       "      <th>6</th>\n",
       "      <td>De slag om de Schelde</td>\n",
       "      <td>Gijs Blom,Jamie Flatters,Susan Radder,,</td>\n",
       "      <td>Matthijs van Heijningen Jr.,</td>\n",
       "      <td>Paula van der Oest,Jesse Maiman,Pauline van Ma...</td>\n",
       "      <td>Drama,War,</td>\n",
       "      <td>C18</td>\n",
       "      <td>2021.0</td>\n",
       "      <td>Netherlands,Lithuania,Belgium,</td>\n",
       "      <td>Dutch,German,English,</td>\n",
       "      <td>Levitate Film,Caviar Films,Evangelische Omroep...</td>\n",
       "      <td>...</td>\n",
       "      <td>16240000.0</td>\n",
       "      <td>124.0</td>\n",
       "      <td>Color</td>\n",
       "      <td>Dolby Atmos,</td>\n",
       "      <td>2.35:1</td>\n",
       "      <td>7.3</td>\n",
       "      <td>6.8</td>\n",
       "      <td>98.0</td>\n",
       "      <td>24.0</td>\n",
       "      <td>NaN</td>\n",
       "    </tr>\n",
       "    <tr>\n",
       "      <th>7</th>\n",
       "      <td>Promising Young Woman</td>\n",
       "      <td>Carey Mulligan,Bo Burnham,Alison Brie,,</td>\n",
       "      <td>Emerald Fennell,</td>\n",
       "      <td>Emerald Fennell,</td>\n",
       "      <td>Crime,Drama,Thriller,</td>\n",
       "      <td>C16</td>\n",
       "      <td>2021.0</td>\n",
       "      <td>United Kingdom,United States,</td>\n",
       "      <td>English,</td>\n",
       "      <td>FilmNation Entertainment,Focus Features,LuckyC...</td>\n",
       "      <td>...</td>\n",
       "      <td>NaN</td>\n",
       "      <td>113.0</td>\n",
       "      <td>Color</td>\n",
       "      <td>Dolby Atmos,</td>\n",
       "      <td>2.39:1</td>\n",
       "      <td>7.5</td>\n",
       "      <td>133.0</td>\n",
       "      <td>1000.0</td>\n",
       "      <td>731.0</td>\n",
       "      <td>73.0</td>\n",
       "    </tr>\n",
       "    <tr>\n",
       "      <th>8</th>\n",
       "      <td>Gisaengchung</td>\n",
       "      <td>Kang-ho Song,Sun-kyun Lee,Yeo-jeong Cho,,</td>\n",
       "      <td>Bong Joon Ho,</td>\n",
       "      <td>Bong Joon Ho,Jin-won Han,</td>\n",
       "      <td>Comedy,Drama,Thriller,</td>\n",
       "      <td>C13</td>\n",
       "      <td>2019.0</td>\n",
       "      <td>South Korea,</td>\n",
       "      <td>Korean,English,</td>\n",
       "      <td>CJ Entertainment,Barunson E&amp;A,</td>\n",
       "      <td>...</td>\n",
       "      <td>11400000.0</td>\n",
       "      <td>132.0</td>\n",
       "      <td>Color</td>\n",
       "      <td>Dolby Atmos,</td>\n",
       "      <td>2.39:1</td>\n",
       "      <td>8.6</td>\n",
       "      <td>670.0</td>\n",
       "      <td>3200.0</td>\n",
       "      <td>595.0</td>\n",
       "      <td>96.0</td>\n",
       "    </tr>\n",
       "    <tr>\n",
       "      <th>9</th>\n",
       "      <td>365 dni</td>\n",
       "      <td>Anna Maria Sieklucka,Michele Morrone,Bronislaw...</td>\n",
       "      <td>Barbara Bialowas,Tomasz Mandes,</td>\n",
       "      <td>Tomasz Klimala,Tomasz Mandes,Barbara Bialowas,,</td>\n",
       "      <td>Drama,Romance,</td>\n",
       "      <td>C18</td>\n",
       "      <td>2020.0</td>\n",
       "      <td>Poland,</td>\n",
       "      <td>Polish,English,Italian,</td>\n",
       "      <td>Ekipa,Future Space,Next Film,</td>\n",
       "      <td>...</td>\n",
       "      <td>NaN</td>\n",
       "      <td>114.0</td>\n",
       "      <td>Color</td>\n",
       "      <td>Stereo,</td>\n",
       "      <td>2.35:1</td>\n",
       "      <td>3.3</td>\n",
       "      <td>68.0</td>\n",
       "      <td>1300.0</td>\n",
       "      <td>49.0</td>\n",
       "      <td>NaN</td>\n",
       "    </tr>\n",
       "  </tbody>\n",
       "</table>\n",
       "<p>10 rows × 21 columns</p>\n",
       "</div>"
      ],
      "text/plain": [
       "                   title                                              casts  \\\n",
       "0                Bóng Ma         Daniel Craig,Christoph Waltz,Léa Seydoux,,   \n",
       "1              Halloween        Jamie Lee Curtis,Judy Greer,Andi Matichak,,   \n",
       "2                  Venom            Tom Hardy,Michelle Williams,Riz Ahmed,,   \n",
       "3                Skyfall         Daniel Craig,Javier Bardem,Naomie Harris,,   \n",
       "4        The Night House   Rebecca Hall,Sarah Goldberg,Vondie Curtis-Hall,,   \n",
       "5             Knives Out            Daniel Craig,Chris Evans,Ana de Armas,,   \n",
       "6  De slag om de Schelde            Gijs Blom,Jamie Flatters,Susan Radder,,   \n",
       "7  Promising Young Woman            Carey Mulligan,Bo Burnham,Alison Brie,,   \n",
       "8           Gisaengchung          Kang-ho Song,Sun-kyun Lee,Yeo-jeong Cho,,   \n",
       "9                365 dni  Anna Maria Sieklucka,Michele Morrone,Bronislaw...   \n",
       "\n",
       "                         directors  \\\n",
       "0                      Sam Mendes,   \n",
       "1              David Gordon Green,   \n",
       "2                 Ruben Fleischer,   \n",
       "3                      Sam Mendes,   \n",
       "4                  David Bruckner,   \n",
       "5                    Rian Johnson,   \n",
       "6     Matthijs van Heijningen Jr.,   \n",
       "7                 Emerald Fennell,   \n",
       "8                    Bong Joon Ho,   \n",
       "9  Barbara Bialowas,Tomasz Mandes,   \n",
       "\n",
       "                                             writers  \\\n",
       "0               John Logan,Neal Purvis,Robert Wade,,   \n",
       "1           John Carpenter,Debra Hill,Jeff Fradley,,   \n",
       "2        Jeff Pinkner,Scott Rosenberg,Kelly Marcel,,   \n",
       "3               Neal Purvis,Robert Wade,John Logan,,   \n",
       "4                       Ben Collins,Luke Piotrowski,   \n",
       "5                                      Rian Johnson,   \n",
       "6  Paula van der Oest,Jesse Maiman,Pauline van Ma...   \n",
       "7                                   Emerald Fennell,   \n",
       "8                          Bong Joon Ho,Jin-won Han,   \n",
       "9    Tomasz Klimala,Tomasz Mandes,Barbara Bialowas,,   \n",
       "\n",
       "                                 genres certificate  release_date  \\\n",
       "0            Action,Adventure,Thriller,         NaN        2015.0   \n",
       "1                Crime,Horror,Thriller,         C18        2018.0   \n",
       "2              Action,Adventure,Sci-Fi,         NaN        2018.0   \n",
       "3            Action,Adventure,Thriller,         C13        2012.0   \n",
       "4              Horror,Mystery,Thriller,         C16        2021.0   \n",
       "5  Comedy,Crime,Drama,Mystery,Thriller,         C13        2019.0   \n",
       "6                            Drama,War,         C18        2021.0   \n",
       "7                 Crime,Drama,Thriller,         C16        2021.0   \n",
       "8                Comedy,Drama,Thriller,         C13        2019.0   \n",
       "9                        Drama,Romance,         C18        2020.0   \n",
       "\n",
       "                                 countries_of_origin  \\\n",
       "0  United Kingdom,United States,Austria,Mexico,It...   \n",
       "1                      United States,United Kingdom,   \n",
       "2                               China,United States,   \n",
       "3               United Kingdom,United States,Turkey,   \n",
       "4                      United Kingdom,United States,   \n",
       "5                                     United States,   \n",
       "6                     Netherlands,Lithuania,Belgium,   \n",
       "7                      United Kingdom,United States,   \n",
       "8                                       South Korea,   \n",
       "9                                            Poland,   \n",
       "\n",
       "                                           languages  \\\n",
       "0             English,Spanish,Italian,German,French,   \n",
       "1                                           English,   \n",
       "2                            English,Mandarin,Malay,   \n",
       "3  English,Turkish,Shanghainese,Portuguese,Japanese,   \n",
       "4                                           English,   \n",
       "5                             English,Spanish,Hindi,   \n",
       "6                              Dutch,German,English,   \n",
       "7                                           English,   \n",
       "8                                    Korean,English,   \n",
       "9                            Polish,English,Italian,   \n",
       "\n",
       "                                production_companies  ...       budget  \\\n",
       "0                      B24,Columbia Pictures,Danjaq,  ...  245000000.0   \n",
       "1  Blumhouse Productions,Miramax,Night Blade Hold...  ...   10000000.0   \n",
       "2  Avi Arad Productions,Columbia Pictures,Marvel ...  ...  100000000.0   \n",
       "3  Metro-Goldwyn-Mayer (MGM),Columbia Pictures,Da...  ...  200000000.0   \n",
       "4                          Anton,Phantom Four Films,  ...          NaN   \n",
       "5     Lionsgate,Media Rights Capital (MRC),T-Street,  ...   40000000.0   \n",
       "6  Levitate Film,Caviar Films,Evangelische Omroep...  ...   16240000.0   \n",
       "7  FilmNation Entertainment,Focus Features,LuckyC...  ...          NaN   \n",
       "8                     CJ Entertainment,Barunson E&A,  ...   11400000.0   \n",
       "9                      Ekipa,Future Space,Next Film,  ...          NaN   \n",
       "\n",
       "   runtime  color                                          sound_mix  \\\n",
       "0    148.0  Color          Dolby Digital,Datasat,Dolby Surround 7.1,   \n",
       "1    106.0  Color                         Dolby Digital,Dolby Atmos,   \n",
       "2    112.0  Color             Dolby Atmos,Auro 11.1,Sonics-DDP,SDDS,   \n",
       "3    143.0  Color  Dolby Digital,Datasat,SDDS,Sonics-DDP,Dolby Su...   \n",
       "4    107.0  Color                                                NaN   \n",
       "5    130.0  Color      Dolby Digital,D-Cinema 48kHz 5.1,Dolby Atmos,   \n",
       "6    124.0  Color                                       Dolby Atmos,   \n",
       "7    113.0  Color                                       Dolby Atmos,   \n",
       "8    132.0  Color                                       Dolby Atmos,   \n",
       "9    114.0  Color                                            Stereo,   \n",
       "\n",
       "  aspect_ratio score  votes  user_reviews  critic_reviews  metascore  \n",
       "0       2.39:1   6.8  408.0        1200.0           462.0       60.0  \n",
       "1       2.39:1   6.5  133.0        1900.0           499.0       67.0  \n",
       "2       2.39:1   6.7  415.0        3800.0           427.0       35.0  \n",
       "3       2.39:1   7.8  659.0        1600.0           542.0       81.0  \n",
       "4       2.35:1   6.5   15.0         262.0           133.0       68.0  \n",
       "5       1.85:1   7.9  537.0        2700.0           480.0       82.0  \n",
       "6       2.35:1   7.3    6.8          98.0            24.0        NaN  \n",
       "7       2.39:1   7.5  133.0        1000.0           731.0       73.0  \n",
       "8       2.39:1   8.6  670.0        3200.0           595.0       96.0  \n",
       "9       2.35:1   3.3   68.0        1300.0            49.0        NaN  \n",
       "\n",
       "[10 rows x 21 columns]"
      ]
     },
     "execution_count": 52,
     "metadata": {},
     "output_type": "execute_result"
    }
   ],
   "source": [
    "df.head(10)"
   ]
  },
  {
   "cell_type": "markdown",
   "metadata": {
    "id": "sepCJoI994aB"
   },
   "source": [
    "# release_date"
   ]
  },
  {
   "cell_type": "code",
   "execution_count": 53,
   "metadata": {
    "ExecuteTime": {
     "end_time": "2021-11-20T06:36:24.662568Z",
     "start_time": "2021-11-20T06:36:24.510793Z"
    },
    "colab": {
     "base_uri": "https://localhost:8080/",
     "height": 638
    },
    "executionInfo": {
     "elapsed": 589,
     "status": "ok",
     "timestamp": 1637153729151,
     "user": {
      "displayName": "Hà Nguyễn Thị Thu",
      "photoUrl": "https://lh3.googleusercontent.com/a-/AOh14GjUhT6EYNAMJqB20eBv8FEbqXf9FuI400MuOQSe=s64",
      "userId": "16701001084542361705"
     },
     "user_tz": -420
    },
    "id": "MXmUcTYA92EP",
    "outputId": "4ca3ec60-f786-48c2-b38c-aa54390b494c"
   },
   "outputs": [
    {
     "data": {
      "text/plain": [
       "Text(0.5, 1.0, 'Yearly Analysis')"
      ]
     },
     "execution_count": 53,
     "metadata": {},
     "output_type": "execute_result"
    },
    {
     "data": {
      "image/png": "[encoded data removed]",
      "text/plain": [
       "<Figure size 720x720 with 1 Axes>"
      ]
     },
     "metadata": {
      "needs_background": "light"
     },
     "output_type": "display_data"
    }
   ],
   "source": [
    "fig_dims = (10, 10)\n",
    "fig, ax = plt.subplots(figsize=fig_dims)\n",
    "sns.countplot(y=\"release_date\",data=df, order=df.release_date.value_counts().index[0:12]).set_title('Yearly Analysis') "
   ]
  },
  {
   "cell_type": "code",
   "execution_count": 54,
   "metadata": {
    "ExecuteTime": {
     "end_time": "2021-11-20T06:36:24.923961Z",
     "start_time": "2021-11-20T06:36:24.664553Z"
    },
    "colab": {
     "base_uri": "https://localhost:8080/",
     "height": 878
    },
    "executionInfo": {
     "elapsed": 1127,
     "status": "ok",
     "timestamp": 1637157972943,
     "user": {
      "displayName": "Hà Nguyễn Thị Thu",
      "photoUrl": "https://lh3.googleusercontent.com/a-/AOh14GjUhT6EYNAMJqB20eBv8FEbqXf9FuI400MuOQSe=s64",
      "userId": "16701001084542361705"
     },
     "user_tz": -420
    },
    "id": "LaJHdmqnN1RU",
    "outputId": "7e44b386-4a1d-4ad2-9578-a1bdb48b8360"
   },
   "outputs": [
    {
     "data": {
      "image/png": "[encoded data removed]",
      "text/plain": [
       "<Figure size 1080x1080 with 1 Axes>"
      ]
     },
     "metadata": {
      "needs_background": "light"
     },
     "output_type": "display_data"
    }
   ],
   "source": [
    "fig_dims = (15, 15)\n",
    "fig, ax = plt.subplots(figsize=fig_dims)\n",
    "sns.boxplot( y=df[\"gross_worldwide\"], x=df[\"release_date\"],showfliers=False, order=df.release_date.value_counts().index[0:12])\n",
    "plt.ticklabel_format(style='plain', axis='y')\n",
    "plt.show()"
   ]
  },
  {
   "cell_type": "markdown",
   "metadata": {
    "id": "60t5uc22Z9tn"
   },
   "source": [
    "*   Doanh thu trong khoảng thời gian [2010,2015] có sự phân bố khá là tương đồng và có sự giao động lớn.\n",
    "*   Doanh thu trong khoảng thời gian [2016,2020] có sự phân bố khá là \n",
    "tương đồng và có xu hướng thấp hơn và ít giao động doanh thu của nhóm [2010,2015]. (Có thể là do giai đoạn này công nghệ đã phát triển, internet có khắp mọi nơi nên người xem không cần phải lên rạp mà có thể chờ có trên internet rồi coi để giảm chi phí nên doanh thu thấp hơn so với giai đoạn trước). \n",
    "\n",
    "\n",
    "\n",
    "\n",
    "\n",
    "\n",
    "\n",
    "\n",
    "\n",
    "\n"
   ]
  },
  {
   "cell_type": "markdown",
   "metadata": {
    "id": "QL07XXuM6Fd9"
   },
   "source": [
    "# Countries"
   ]
  },
  {
   "cell_type": "code",
   "execution_count": 55,
   "metadata": {
    "ExecuteTime": {
     "end_time": "2021-11-20T06:36:24.939358Z",
     "start_time": "2021-11-20T06:36:24.925449Z"
    },
    "executionInfo": {
     "elapsed": 525,
     "status": "ok",
     "timestamp": 1637160525323,
     "user": {
      "displayName": "Hà Nguyễn Thị Thu",
      "photoUrl": "https://lh3.googleusercontent.com/a-/AOh14GjUhT6EYNAMJqB20eBv8FEbqXf9FuI400MuOQSe=s64",
      "userId": "16701001084542361705"
     },
     "user_tz": -420
    },
    "id": "xwnH7j-L2HjZ"
   },
   "outputs": [],
   "source": [
    "df_countries = pd.DataFrame(columns=[\"title\",\"countries_of_origin\", \"gross_worldwide\"])"
   ]
  },
  {
   "cell_type": "code",
   "execution_count": 56,
   "metadata": {
    "ExecuteTime": {
     "end_time": "2021-11-20T06:37:21.169578Z",
     "start_time": "2021-11-20T06:36:24.941342Z"
    },
    "executionInfo": {
     "elapsed": 94126,
     "status": "ok",
     "timestamp": 1637160620485,
     "user": {
      "displayName": "Hà Nguyễn Thị Thu",
      "photoUrl": "https://lh3.googleusercontent.com/a-/AOh14GjUhT6EYNAMJqB20eBv8FEbqXf9FuI400MuOQSe=s64",
      "userId": "16701001084542361705"
     },
     "user_tz": -420
    },
    "id": "8T-GYl0u2ffi"
   },
   "outputs": [],
   "source": [
    "for i in range(len(df)):\n",
    "  contry = df['countries_of_origin'].iloc[i]\n",
    "  contry = list(str(contry).split(','))\n",
    "  if len(contry) == 1:\n",
    "    s = pd.Series([df['title'].iloc[i], contry[0], df['gross_worldwide'].iloc[i]], index=[\"title\",\"countries_of_origin\", \"gross_worldwide\"])\n",
    "    df_countries = df_countries.append(s,ignore_index=True)\n",
    "  else: \n",
    "    for j in contry:\n",
    "      if j != \"\":\n",
    "        s = pd.Series([df['title'].iloc[i], j , df['gross_worldwide'].iloc[i]], index=[\"title\",\"countries_of_origin\", \"gross_worldwide\"])\n",
    "        df_countries=df_countries.append(s,ignore_index=True)\n"
   ]
  },
  {
   "cell_type": "code",
   "execution_count": 57,
   "metadata": {
    "ExecuteTime": {
     "end_time": "2021-11-20T06:37:21.184935Z",
     "start_time": "2021-11-20T06:37:21.171028Z"
    },
    "colab": {
     "base_uri": "https://localhost:8080/",
     "height": 417
    },
    "executionInfo": {
     "elapsed": 318,
     "status": "ok",
     "timestamp": 1637160624422,
     "user": {
      "displayName": "Hà Nguyễn Thị Thu",
      "photoUrl": "https://lh3.googleusercontent.com/a-/AOh14GjUhT6EYNAMJqB20eBv8FEbqXf9FuI400MuOQSe=s64",
      "userId": "16701001084542361705"
     },
     "user_tz": -420
    },
    "id": "Y4UWvwvO4GwJ",
    "outputId": "cc61262d-96b4-4565-e6b8-be6c1507e30c"
   },
   "outputs": [
    {
     "data": {
      "text/html": [
       "<div>\n",
       "<style scoped>\n",
       "    .dataframe tbody tr th:only-of-type {\n",
       "        vertical-align: middle;\n",
       "    }\n",
       "\n",
       "    .dataframe tbody tr th {\n",
       "        vertical-align: top;\n",
       "    }\n",
       "\n",
       "    .dataframe thead th {\n",
       "        text-align: right;\n",
       "    }\n",
       "</style>\n",
       "<table border=\"1\" class=\"dataframe\">\n",
       "  <thead>\n",
       "    <tr style=\"text-align: right;\">\n",
       "      <th></th>\n",
       "      <th>title</th>\n",
       "      <th>countries_of_origin</th>\n",
       "      <th>gross_worldwide</th>\n",
       "    </tr>\n",
       "  </thead>\n",
       "  <tbody>\n",
       "    <tr>\n",
       "      <th>0</th>\n",
       "      <td>Bóng Ma</td>\n",
       "      <td>United Kingdom</td>\n",
       "      <td>880681519.0</td>\n",
       "    </tr>\n",
       "    <tr>\n",
       "      <th>1</th>\n",
       "      <td>Bóng Ma</td>\n",
       "      <td>United States</td>\n",
       "      <td>880681519.0</td>\n",
       "    </tr>\n",
       "    <tr>\n",
       "      <th>2</th>\n",
       "      <td>Bóng Ma</td>\n",
       "      <td>Austria</td>\n",
       "      <td>880681519.0</td>\n",
       "    </tr>\n",
       "    <tr>\n",
       "      <th>3</th>\n",
       "      <td>Bóng Ma</td>\n",
       "      <td>Mexico</td>\n",
       "      <td>880681519.0</td>\n",
       "    </tr>\n",
       "    <tr>\n",
       "      <th>4</th>\n",
       "      <td>Bóng Ma</td>\n",
       "      <td>Italy</td>\n",
       "      <td>880681519.0</td>\n",
       "    </tr>\n",
       "    <tr>\n",
       "      <th>...</th>\n",
       "      <td>...</td>\n",
       "      <td>...</td>\n",
       "      <td>...</td>\n",
       "    </tr>\n",
       "    <tr>\n",
       "      <th>30261</th>\n",
       "      <td>Per amor vostro</td>\n",
       "      <td>Italy</td>\n",
       "      <td>400471.0</td>\n",
       "    </tr>\n",
       "    <tr>\n",
       "      <th>30262</th>\n",
       "      <td>Per amor vostro</td>\n",
       "      <td>France</td>\n",
       "      <td>400471.0</td>\n",
       "    </tr>\n",
       "    <tr>\n",
       "      <th>30263</th>\n",
       "      <td>Contre toi</td>\n",
       "      <td>France</td>\n",
       "      <td>243387.0</td>\n",
       "    </tr>\n",
       "    <tr>\n",
       "      <th>30264</th>\n",
       "      <td>Riaru: Kanzen naru kubinagaryû no hi</td>\n",
       "      <td>Japan</td>\n",
       "      <td>3801975.0</td>\n",
       "    </tr>\n",
       "    <tr>\n",
       "      <th>30265</th>\n",
       "      <td>Ashita no Jô</td>\n",
       "      <td>Japan</td>\n",
       "      <td>12208614.0</td>\n",
       "    </tr>\n",
       "  </tbody>\n",
       "</table>\n",
       "<p>30266 rows × 3 columns</p>\n",
       "</div>"
      ],
      "text/plain": [
       "                                      title countries_of_origin  \\\n",
       "0                                   Bóng Ma      United Kingdom   \n",
       "1                                   Bóng Ma       United States   \n",
       "2                                   Bóng Ma             Austria   \n",
       "3                                   Bóng Ma              Mexico   \n",
       "4                                   Bóng Ma               Italy   \n",
       "...                                     ...                 ...   \n",
       "30261                       Per amor vostro               Italy   \n",
       "30262                       Per amor vostro              France   \n",
       "30263                            Contre toi              France   \n",
       "30264  Riaru: Kanzen naru kubinagaryû no hi               Japan   \n",
       "30265                          Ashita no Jô               Japan   \n",
       "\n",
       "       gross_worldwide  \n",
       "0          880681519.0  \n",
       "1          880681519.0  \n",
       "2          880681519.0  \n",
       "3          880681519.0  \n",
       "4          880681519.0  \n",
       "...                ...  \n",
       "30261         400471.0  \n",
       "30262         400471.0  \n",
       "30263         243387.0  \n",
       "30264        3801975.0  \n",
       "30265       12208614.0  \n",
       "\n",
       "[30266 rows x 3 columns]"
      ]
     },
     "execution_count": 57,
     "metadata": {},
     "output_type": "execute_result"
    }
   ],
   "source": [
    "df_countries"
   ]
  },
  {
   "cell_type": "code",
   "execution_count": 58,
   "metadata": {
    "ExecuteTime": {
     "end_time": "2021-11-20T06:37:21.277277Z",
     "start_time": "2021-11-20T06:37:21.186405Z"
    },
    "executionInfo": {
     "elapsed": 544,
     "status": "ok",
     "timestamp": 1637154819068,
     "user": {
      "displayName": "Hà Nguyễn Thị Thu",
      "photoUrl": "https://lh3.googleusercontent.com/a-/AOh14GjUhT6EYNAMJqB20eBv8FEbqXf9FuI400MuOQSe=s64",
      "userId": "16701001084542361705"
     },
     "user_tz": -420
    },
    "id": "cSEmXqc15XMn"
   },
   "outputs": [],
   "source": [
    "df_countries.to_csv(\"df_countries.csv\",encoding = \"utf-8\")"
   ]
  },
  {
   "cell_type": "code",
   "execution_count": 59,
   "metadata": {
    "ExecuteTime": {
     "end_time": "2021-11-20T06:37:21.292736Z",
     "start_time": "2021-11-20T06:37:21.279759Z"
    },
    "colab": {
     "base_uri": "https://localhost:8080/"
    },
    "executionInfo": {
     "elapsed": 4,
     "status": "ok",
     "timestamp": 1637152833948,
     "user": {
      "displayName": "Hà Nguyễn Thị Thu",
      "photoUrl": "https://lh3.googleusercontent.com/a-/AOh14GjUhT6EYNAMJqB20eBv8FEbqXf9FuI400MuOQSe=s64",
      "userId": "16701001084542361705"
     },
     "user_tz": -420
    },
    "id": "TlXsiFUY6Ddn",
    "outputId": "c86f0d5c-db8c-42c8-be9d-7d61a69ae685"
   },
   "outputs": [
    {
     "data": {
      "text/plain": [
       "United States          4461\n",
       "France                 2348\n",
       "India                  1658\n",
       "United Kingdom         1571\n",
       "China                  1438\n",
       "                       ... \n",
       "Dominica                  1\n",
       "Liechtenstein             1\n",
       "Trinidad and Tobago       1\n",
       "Cook Islands              1\n",
       "Congo                     1\n",
       "Name: countries_of_origin, Length: 162, dtype: int64"
      ]
     },
     "execution_count": 59,
     "metadata": {},
     "output_type": "execute_result"
    }
   ],
   "source": [
    "df_countries[\"countries_of_origin\"].value_counts()"
   ]
  },
  {
   "cell_type": "code",
   "execution_count": 60,
   "metadata": {
    "ExecuteTime": {
     "end_time": "2021-11-20T06:37:21.508003Z",
     "start_time": "2021-11-20T06:37:21.293732Z"
    },
    "colab": {
     "base_uri": "https://localhost:8080/",
     "height": 638
    },
    "executionInfo": {
     "elapsed": 1094,
     "status": "ok",
     "timestamp": 1637152909188,
     "user": {
      "displayName": "Hà Nguyễn Thị Thu",
      "photoUrl": "https://lh3.googleusercontent.com/a-/AOh14GjUhT6EYNAMJqB20eBv8FEbqXf9FuI400MuOQSe=s64",
      "userId": "16701001084542361705"
     },
     "user_tz": -420
    },
    "id": "hCrdgPJb6f6i",
    "outputId": "87475cc4-959e-4816-a067-d395355e5f2e"
   },
   "outputs": [
    {
     "data": {
      "text/plain": [
       "Text(0.5, 1.0, 'Contries Analysis')"
      ]
     },
     "execution_count": 60,
     "metadata": {},
     "output_type": "execute_result"
    },
    {
     "data": {
      "image/png": "[encoded data removed]",
      "text/plain": [
       "<Figure size 720x720 with 1 Axes>"
      ]
     },
     "metadata": {
      "needs_background": "light"
     },
     "output_type": "display_data"
    }
   ],
   "source": [
    "fig_dims = (10, 10)\n",
    "fig, ax = plt.subplots(figsize=fig_dims)\n",
    "sns.countplot(y=\"countries_of_origin\",data=df_countries, order=df_countries.countries_of_origin.value_counts().index[0:20]).set_title('Contries Analysis') "
   ]
  },
  {
   "cell_type": "code",
   "execution_count": 61,
   "metadata": {
    "ExecuteTime": {
     "end_time": "2021-11-20T06:37:21.877115Z",
     "start_time": "2021-11-20T06:37:21.509492Z"
    },
    "colab": {
     "base_uri": "https://localhost:8080/",
     "height": 814
    },
    "executionInfo": {
     "elapsed": 1101,
     "status": "ok",
     "timestamp": 1637160633391,
     "user": {
      "displayName": "Hà Nguyễn Thị Thu",
      "photoUrl": "https://lh3.googleusercontent.com/a-/AOh14GjUhT6EYNAMJqB20eBv8FEbqXf9FuI400MuOQSe=s64",
      "userId": "16701001084542361705"
     },
     "user_tz": -420
    },
    "id": "mzVjw5pS6vYP",
    "outputId": "7db7179a-42aa-42fd-bc2f-cc82da76d7c6"
   },
   "outputs": [
    {
     "data": {
      "image/png": "[encoded data removed]",
      "text/plain": [
       "<Figure size 1440x1080 with 1 Axes>"
      ]
     },
     "metadata": {
      "needs_background": "light"
     },
     "output_type": "display_data"
    }
   ],
   "source": [
    "fig_dims = (20, 15)\n",
    "fig, ax = plt.subplots(figsize=fig_dims)\n",
    "sns.boxplot( y=df_countries[\"gross_worldwide\"], x=df_countries[\"countries_of_origin\"],showfliers=False, order=df_countries.countries_of_origin.value_counts().index[0:20])\n",
    "plt.ticklabel_format(style='plain', axis='y')\n",
    "plt.show()"
   ]
  },
  {
   "cell_type": "markdown",
   "metadata": {
    "id": "T2fExveW7YQ9"
   },
   "source": [
    "# languages"
   ]
  },
  {
   "cell_type": "code",
   "execution_count": 62,
   "metadata": {
    "ExecuteTime": {
     "end_time": "2021-11-20T06:37:21.892268Z",
     "start_time": "2021-11-20T06:37:21.878603Z"
    },
    "executionInfo": {
     "elapsed": 2,
     "status": "ok",
     "timestamp": 1637153383161,
     "user": {
      "displayName": "Hà Nguyễn Thị Thu",
      "photoUrl": "https://lh3.googleusercontent.com/a-/AOh14GjUhT6EYNAMJqB20eBv8FEbqXf9FuI400MuOQSe=s64",
      "userId": "16701001084542361705"
     },
     "user_tz": -420
    },
    "id": "jnYzIA-H7ZmW"
   },
   "outputs": [],
   "source": [
    "df_languages = pd.DataFrame(columns=[\"title\",\"languages\", \"gross_worldwide\"])"
   ]
  },
  {
   "cell_type": "code",
   "execution_count": 63,
   "metadata": {
    "ExecuteTime": {
     "end_time": "2021-11-20T06:38:14.016886Z",
     "start_time": "2021-11-20T06:37:21.893758Z"
    },
    "executionInfo": {
     "elapsed": 89872,
     "status": "ok",
     "timestamp": 1637153474603,
     "user": {
      "displayName": "Hà Nguyễn Thị Thu",
      "photoUrl": "https://lh3.googleusercontent.com/a-/AOh14GjUhT6EYNAMJqB20eBv8FEbqXf9FuI400MuOQSe=s64",
      "userId": "16701001084542361705"
     },
     "user_tz": -420
    },
    "id": "Q6TnR5iB7i2M"
   },
   "outputs": [],
   "source": [
    "for i in range(len(df)):\n",
    "    lang = df['languages'].iloc[i]\n",
    "    lang = list(str(lang).split(','))\n",
    "    if len(lang) == 1:\n",
    "        s = pd.Series([df['title'].iloc[i], lang[0], df['gross_worldwide'].iloc[i]], index=[\n",
    "                      \"title\", \"languages\", \"gross_worldwide\"])\n",
    "        df_languages = df_languages.append(s, ignore_index=True)\n",
    "    else:\n",
    "        for j in lang:\n",
    "            if j != \"\":\n",
    "                s = pd.Series([df['title'].iloc[i], j, df['gross_worldwide'].iloc[i]], index=[\n",
    "                              \"title\", \"languages\", \"gross_worldwide\"])\n",
    "                df_languages = df_languages.append(s, ignore_index=True)"
   ]
  },
  {
   "cell_type": "code",
   "execution_count": 64,
   "metadata": {
    "ExecuteTime": {
     "end_time": "2021-11-20T06:38:14.032275Z",
     "start_time": "2021-11-20T06:38:14.017892Z"
    },
    "colab": {
     "base_uri": "https://localhost:8080/",
     "height": 417
    },
    "executionInfo": {
     "elapsed": 551,
     "status": "ok",
     "timestamp": 1637153498226,
     "user": {
      "displayName": "Hà Nguyễn Thị Thu",
      "photoUrl": "https://lh3.googleusercontent.com/a-/AOh14GjUhT6EYNAMJqB20eBv8FEbqXf9FuI400MuOQSe=s64",
      "userId": "16701001084542361705"
     },
     "user_tz": -420
    },
    "id": "u1eghg8P8FNr",
    "outputId": "0f8640c8-accd-4318-a22b-dd70b33a0184"
   },
   "outputs": [
    {
     "data": {
      "text/html": [
       "<div>\n",
       "<style scoped>\n",
       "    .dataframe tbody tr th:only-of-type {\n",
       "        vertical-align: middle;\n",
       "    }\n",
       "\n",
       "    .dataframe tbody tr th {\n",
       "        vertical-align: top;\n",
       "    }\n",
       "\n",
       "    .dataframe thead th {\n",
       "        text-align: right;\n",
       "    }\n",
       "</style>\n",
       "<table border=\"1\" class=\"dataframe\">\n",
       "  <thead>\n",
       "    <tr style=\"text-align: right;\">\n",
       "      <th></th>\n",
       "      <th>title</th>\n",
       "      <th>languages</th>\n",
       "      <th>gross_worldwide</th>\n",
       "    </tr>\n",
       "  </thead>\n",
       "  <tbody>\n",
       "    <tr>\n",
       "      <th>0</th>\n",
       "      <td>Bóng Ma</td>\n",
       "      <td>English</td>\n",
       "      <td>880681519.0</td>\n",
       "    </tr>\n",
       "    <tr>\n",
       "      <th>1</th>\n",
       "      <td>Bóng Ma</td>\n",
       "      <td>Spanish</td>\n",
       "      <td>880681519.0</td>\n",
       "    </tr>\n",
       "    <tr>\n",
       "      <th>2</th>\n",
       "      <td>Bóng Ma</td>\n",
       "      <td>Italian</td>\n",
       "      <td>880681519.0</td>\n",
       "    </tr>\n",
       "    <tr>\n",
       "      <th>3</th>\n",
       "      <td>Bóng Ma</td>\n",
       "      <td>German</td>\n",
       "      <td>880681519.0</td>\n",
       "    </tr>\n",
       "    <tr>\n",
       "      <th>4</th>\n",
       "      <td>Bóng Ma</td>\n",
       "      <td>French</td>\n",
       "      <td>880681519.0</td>\n",
       "    </tr>\n",
       "    <tr>\n",
       "      <th>...</th>\n",
       "      <td>...</td>\n",
       "      <td>...</td>\n",
       "      <td>...</td>\n",
       "    </tr>\n",
       "    <tr>\n",
       "      <th>30281</th>\n",
       "      <td>A Night in the Woods</td>\n",
       "      <td>English</td>\n",
       "      <td>357.0</td>\n",
       "    </tr>\n",
       "    <tr>\n",
       "      <th>30282</th>\n",
       "      <td>Per amor vostro</td>\n",
       "      <td>Italian</td>\n",
       "      <td>400471.0</td>\n",
       "    </tr>\n",
       "    <tr>\n",
       "      <th>30283</th>\n",
       "      <td>Contre toi</td>\n",
       "      <td>French</td>\n",
       "      <td>243387.0</td>\n",
       "    </tr>\n",
       "    <tr>\n",
       "      <th>30284</th>\n",
       "      <td>Riaru: Kanzen naru kubinagaryû no hi</td>\n",
       "      <td>Japanese</td>\n",
       "      <td>3801975.0</td>\n",
       "    </tr>\n",
       "    <tr>\n",
       "      <th>30285</th>\n",
       "      <td>Ashita no Jô</td>\n",
       "      <td>Japanese</td>\n",
       "      <td>12208614.0</td>\n",
       "    </tr>\n",
       "  </tbody>\n",
       "</table>\n",
       "<p>30286 rows × 3 columns</p>\n",
       "</div>"
      ],
      "text/plain": [
       "                                      title languages  gross_worldwide\n",
       "0                                   Bóng Ma   English      880681519.0\n",
       "1                                   Bóng Ma   Spanish      880681519.0\n",
       "2                                   Bóng Ma   Italian      880681519.0\n",
       "3                                   Bóng Ma    German      880681519.0\n",
       "4                                   Bóng Ma    French      880681519.0\n",
       "...                                     ...       ...              ...\n",
       "30281                  A Night in the Woods   English            357.0\n",
       "30282                       Per amor vostro   Italian         400471.0\n",
       "30283                            Contre toi    French         243387.0\n",
       "30284  Riaru: Kanzen naru kubinagaryû no hi  Japanese        3801975.0\n",
       "30285                          Ashita no Jô  Japanese       12208614.0\n",
       "\n",
       "[30286 rows x 3 columns]"
      ]
     },
     "execution_count": 64,
     "metadata": {},
     "output_type": "execute_result"
    }
   ],
   "source": [
    "df_languages"
   ]
  },
  {
   "cell_type": "code",
   "execution_count": 65,
   "metadata": {
    "ExecuteTime": {
     "end_time": "2021-11-20T06:38:14.125067Z",
     "start_time": "2021-11-20T06:38:14.034259Z"
    },
    "executionInfo": {
     "elapsed": 329,
     "status": "ok",
     "timestamp": 1637154799643,
     "user": {
      "displayName": "Hà Nguyễn Thị Thu",
      "photoUrl": "https://lh3.googleusercontent.com/a-/AOh14GjUhT6EYNAMJqB20eBv8FEbqXf9FuI400MuOQSe=s64",
      "userId": "16701001084542361705"
     },
     "user_tz": -420
    },
    "id": "zh1SuyjQ8LbA"
   },
   "outputs": [],
   "source": [
    "df_languages.to_csv(\"df_languages.csv\", encoding = \"utf-8\")"
   ]
  },
  {
   "cell_type": "code",
   "execution_count": 66,
   "metadata": {
    "ExecuteTime": {
     "end_time": "2021-11-20T06:38:14.140704Z",
     "start_time": "2021-11-20T06:38:14.126554Z"
    },
    "colab": {
     "base_uri": "https://localhost:8080/"
    },
    "executionInfo": {
     "elapsed": 355,
     "status": "ok",
     "timestamp": 1637153521586,
     "user": {
      "displayName": "Hà Nguyễn Thị Thu",
      "photoUrl": "https://lh3.googleusercontent.com/a-/AOh14GjUhT6EYNAMJqB20eBv8FEbqXf9FuI400MuOQSe=s64",
      "userId": "16701001084542361705"
     },
     "user_tz": -420
    },
    "id": "pZxjQ-358Pt1",
    "outputId": "601444ae-b743-464e-e78b-cf95dfceb6db"
   },
   "outputs": [
    {
     "data": {
      "text/plain": [
       "English     8435\n",
       "Spanish     2271\n",
       "French      2138\n",
       "nan         1378\n",
       "Japanese    1272\n",
       "            ... \n",
       "Cheyenne       1\n",
       "Romansh        1\n",
       "Karen          1\n",
       "Dinka          1\n",
       "Faroese        1\n",
       "Name: languages, Length: 229, dtype: int64"
      ]
     },
     "execution_count": 66,
     "metadata": {},
     "output_type": "execute_result"
    }
   ],
   "source": [
    "df_languages[\"languages\"].value_counts()"
   ]
  },
  {
   "cell_type": "code",
   "execution_count": 67,
   "metadata": {
    "ExecuteTime": {
     "end_time": "2021-11-20T06:38:14.356051Z",
     "start_time": "2021-11-20T06:38:14.141722Z"
    },
    "colab": {
     "base_uri": "https://localhost:8080/",
     "height": 638
    },
    "executionInfo": {
     "elapsed": 974,
     "status": "ok",
     "timestamp": 1637153568194,
     "user": {
      "displayName": "Hà Nguyễn Thị Thu",
      "photoUrl": "https://lh3.googleusercontent.com/a-/AOh14GjUhT6EYNAMJqB20eBv8FEbqXf9FuI400MuOQSe=s64",
      "userId": "16701001084542361705"
     },
     "user_tz": -420
    },
    "id": "wta5-JdI9FT_",
    "outputId": "25d7822c-4b92-41aa-928f-adde3020105b"
   },
   "outputs": [
    {
     "data": {
      "text/plain": [
       "Text(0.5, 1.0, 'Languages Analysis')"
      ]
     },
     "execution_count": 67,
     "metadata": {},
     "output_type": "execute_result"
    },
    {
     "data": {
      "image/png": "[encoded data removed]",
      "text/plain": [
       "<Figure size 720x720 with 1 Axes>"
      ]
     },
     "metadata": {
      "needs_background": "light"
     },
     "output_type": "display_data"
    }
   ],
   "source": [
    "fig_dims = (10, 10)\n",
    "fig, ax = plt.subplots(figsize=fig_dims)\n",
    "sns.countplot(y=\"languages\",data=df_languages, order=df_languages.languages.value_counts().index[0:20]).set_title('Languages Analysis') "
   ]
  },
  {
   "cell_type": "code",
   "execution_count": 68,
   "metadata": {
    "ExecuteTime": {
     "end_time": "2021-11-20T06:38:14.694564Z",
     "start_time": "2021-11-20T06:38:14.357046Z"
    },
    "colab": {
     "base_uri": "https://localhost:8080/",
     "height": 814
    },
    "executionInfo": {
     "elapsed": 1184,
     "status": "ok",
     "timestamp": 1637160502334,
     "user": {
      "displayName": "Hà Nguyễn Thị Thu",
      "photoUrl": "https://lh3.googleusercontent.com/a-/AOh14GjUhT6EYNAMJqB20eBv8FEbqXf9FuI400MuOQSe=s64",
      "userId": "16701001084542361705"
     },
     "user_tz": -420
    },
    "id": "aNIO2isV9SpK",
    "outputId": "01718e85-4649-4ac6-e662-4cf310321437"
   },
   "outputs": [
    {
     "data": {
      "image/png": "[encoded data removed]",
      "text/plain": [
       "<Figure size 1440x1080 with 1 Axes>"
      ]
     },
     "metadata": {
      "needs_background": "light"
     },
     "output_type": "display_data"
    }
   ],
   "source": [
    "fig_dims = (20, 15)\n",
    "fig, ax = plt.subplots(figsize=fig_dims)\n",
    "sns.boxplot( y=df_languages[\"gross_worldwide\"], x=df_languages[\"languages\"],showfliers=False, order=df_languages.languages.value_counts().index[0:20])\n",
    "plt.ticklabel_format(style='plain', axis='y')\n",
    "plt.show()"
   ]
  },
  {
   "cell_type": "code",
   "execution_count": 69,
   "metadata": {
    "ExecuteTime": {
     "end_time": "2021-11-20T06:38:14.709815Z",
     "start_time": "2021-11-20T06:38:14.695554Z"
    },
    "executionInfo": {
     "elapsed": 347,
     "status": "ok",
     "timestamp": 1637154868803,
     "user": {
      "displayName": "Hà Nguyễn Thị Thu",
      "photoUrl": "https://lh3.googleusercontent.com/a-/AOh14GjUhT6EYNAMJqB20eBv8FEbqXf9FuI400MuOQSe=s64",
      "userId": "16701001084542361705"
     },
     "user_tz": -420
    },
    "id": "kd-AkpRV-Mvg"
   },
   "outputs": [],
   "source": [
    "df_num = pd.DataFrame(df_languages[\"title\"].value_counts().rename_axis('title').reset_index(name='soluong'))"
   ]
  },
  {
   "cell_type": "code",
   "execution_count": 70,
   "metadata": {
    "ExecuteTime": {
     "end_time": "2021-11-20T06:38:14.725280Z",
     "start_time": "2021-11-20T06:38:14.711305Z"
    },
    "colab": {
     "base_uri": "https://localhost:8080/",
     "height": 417
    },
    "executionInfo": {
     "elapsed": 515,
     "status": "ok",
     "timestamp": 1637154871174,
     "user": {
      "displayName": "Hà Nguyễn Thị Thu",
      "photoUrl": "https://lh3.googleusercontent.com/a-/AOh14GjUhT6EYNAMJqB20eBv8FEbqXf9FuI400MuOQSe=s64",
      "userId": "16701001084542361705"
     },
     "user_tz": -420
    },
    "id": "jh7RqfvG_-Pt",
    "outputId": "8016aa59-d9a9-4385-c517-7641d28c7e28"
   },
   "outputs": [
    {
     "data": {
      "text/html": [
       "<div>\n",
       "<style scoped>\n",
       "    .dataframe tbody tr th:only-of-type {\n",
       "        vertical-align: middle;\n",
       "    }\n",
       "\n",
       "    .dataframe tbody tr th {\n",
       "        vertical-align: top;\n",
       "    }\n",
       "\n",
       "    .dataframe thead th {\n",
       "        text-align: right;\n",
       "    }\n",
       "</style>\n",
       "<table border=\"1\" class=\"dataframe\">\n",
       "  <thead>\n",
       "    <tr style=\"text-align: right;\">\n",
       "      <th></th>\n",
       "      <th>title</th>\n",
       "      <th>soluong</th>\n",
       "    </tr>\n",
       "  </thead>\n",
       "  <tbody>\n",
       "    <tr>\n",
       "      <th>0</th>\n",
       "      <td>Testing Movie1</td>\n",
       "      <td>17</td>\n",
       "    </tr>\n",
       "    <tr>\n",
       "      <th>1</th>\n",
       "      <td>The Jungle Book</td>\n",
       "      <td>17</td>\n",
       "    </tr>\n",
       "    <tr>\n",
       "      <th>2</th>\n",
       "      <td>Les traducteurs</td>\n",
       "      <td>11</td>\n",
       "    </tr>\n",
       "    <tr>\n",
       "      <th>3</th>\n",
       "      <td>Film socialisme</td>\n",
       "      <td>11</td>\n",
       "    </tr>\n",
       "    <tr>\n",
       "      <th>4</th>\n",
       "      <td>Mieletön elokuu</td>\n",
       "      <td>10</td>\n",
       "    </tr>\n",
       "    <tr>\n",
       "      <th>...</th>\n",
       "      <td>...</td>\n",
       "      <td>...</td>\n",
       "    </tr>\n",
       "    <tr>\n",
       "      <th>21931</th>\n",
       "      <td>Saturday Killer</td>\n",
       "      <td>1</td>\n",
       "    </tr>\n",
       "    <tr>\n",
       "      <th>21932</th>\n",
       "      <td>Girls vs Gangsters</td>\n",
       "      <td>1</td>\n",
       "    </tr>\n",
       "    <tr>\n",
       "      <th>21933</th>\n",
       "      <td>Vi</td>\n",
       "      <td>1</td>\n",
       "    </tr>\n",
       "    <tr>\n",
       "      <th>21934</th>\n",
       "      <td>Liteul poleseuteu</td>\n",
       "      <td>1</td>\n",
       "    </tr>\n",
       "    <tr>\n",
       "      <th>21935</th>\n",
       "      <td>Baby Balloon</td>\n",
       "      <td>1</td>\n",
       "    </tr>\n",
       "  </tbody>\n",
       "</table>\n",
       "<p>21936 rows × 2 columns</p>\n",
       "</div>"
      ],
      "text/plain": [
       "                    title  soluong\n",
       "0          Testing Movie1       17\n",
       "1         The Jungle Book       17\n",
       "2         Les traducteurs       11\n",
       "3         Film socialisme       11\n",
       "4         Mieletön elokuu       10\n",
       "...                   ...      ...\n",
       "21931     Saturday Killer        1\n",
       "21932  Girls vs Gangsters        1\n",
       "21933                  Vi        1\n",
       "21934   Liteul poleseuteu        1\n",
       "21935        Baby Balloon        1\n",
       "\n",
       "[21936 rows x 2 columns]"
      ]
     },
     "execution_count": 70,
     "metadata": {},
     "output_type": "execute_result"
    }
   ],
   "source": [
    "df_num"
   ]
  },
  {
   "cell_type": "markdown",
   "metadata": {
    "id": "T5cLCkY79wIa"
   },
   "source": []
  },
  {
   "cell_type": "code",
   "execution_count": 71,
   "metadata": {
    "ExecuteTime": {
     "end_time": "2021-11-20T06:38:14.756388Z",
     "start_time": "2021-11-20T06:38:14.726737Z"
    },
    "executionInfo": {
     "elapsed": 517,
     "status": "ok",
     "timestamp": 1637159567872,
     "user": {
      "displayName": "Hà Nguyễn Thị Thu",
      "photoUrl": "https://lh3.googleusercontent.com/a-/AOh14GjUhT6EYNAMJqB20eBv8FEbqXf9FuI400MuOQSe=s64",
      "userId": "16701001084542361705"
     },
     "user_tz": -420
    },
    "id": "pEhr2ameD3VG"
   },
   "outputs": [],
   "source": [
    "result = pd.merge(df_languages, df_num, on=\"title\")"
   ]
  },
  {
   "cell_type": "code",
   "execution_count": 72,
   "metadata": {
    "ExecuteTime": {
     "end_time": "2021-11-20T06:38:14.771844Z",
     "start_time": "2021-11-20T06:38:14.757393Z"
    },
    "colab": {
     "base_uri": "https://localhost:8080/",
     "height": 417
    },
    "executionInfo": {
     "elapsed": 543,
     "status": "ok",
     "timestamp": 1637159573551,
     "user": {
      "displayName": "Hà Nguyễn Thị Thu",
      "photoUrl": "https://lh3.googleusercontent.com/a-/AOh14GjUhT6EYNAMJqB20eBv8FEbqXf9FuI400MuOQSe=s64",
      "userId": "16701001084542361705"
     },
     "user_tz": -420
    },
    "id": "2-EClysBC4CE",
    "outputId": "ce81e55b-283f-4482-941c-a7e02bee4b0d"
   },
   "outputs": [
    {
     "data": {
      "text/html": [
       "<div>\n",
       "<style scoped>\n",
       "    .dataframe tbody tr th:only-of-type {\n",
       "        vertical-align: middle;\n",
       "    }\n",
       "\n",
       "    .dataframe tbody tr th {\n",
       "        vertical-align: top;\n",
       "    }\n",
       "\n",
       "    .dataframe thead th {\n",
       "        text-align: right;\n",
       "    }\n",
       "</style>\n",
       "<table border=\"1\" class=\"dataframe\">\n",
       "  <thead>\n",
       "    <tr style=\"text-align: right;\">\n",
       "      <th></th>\n",
       "      <th>title</th>\n",
       "      <th>languages</th>\n",
       "      <th>gross_worldwide</th>\n",
       "      <th>soluong</th>\n",
       "    </tr>\n",
       "  </thead>\n",
       "  <tbody>\n",
       "    <tr>\n",
       "      <th>0</th>\n",
       "      <td>Bóng Ma</td>\n",
       "      <td>English</td>\n",
       "      <td>880681519.0</td>\n",
       "      <td>5</td>\n",
       "    </tr>\n",
       "    <tr>\n",
       "      <th>1</th>\n",
       "      <td>Bóng Ma</td>\n",
       "      <td>Spanish</td>\n",
       "      <td>880681519.0</td>\n",
       "      <td>5</td>\n",
       "    </tr>\n",
       "    <tr>\n",
       "      <th>2</th>\n",
       "      <td>Bóng Ma</td>\n",
       "      <td>Italian</td>\n",
       "      <td>880681519.0</td>\n",
       "      <td>5</td>\n",
       "    </tr>\n",
       "    <tr>\n",
       "      <th>3</th>\n",
       "      <td>Bóng Ma</td>\n",
       "      <td>German</td>\n",
       "      <td>880681519.0</td>\n",
       "      <td>5</td>\n",
       "    </tr>\n",
       "    <tr>\n",
       "      <th>4</th>\n",
       "      <td>Bóng Ma</td>\n",
       "      <td>French</td>\n",
       "      <td>880681519.0</td>\n",
       "      <td>5</td>\n",
       "    </tr>\n",
       "    <tr>\n",
       "      <th>...</th>\n",
       "      <td>...</td>\n",
       "      <td>...</td>\n",
       "      <td>...</td>\n",
       "      <td>...</td>\n",
       "    </tr>\n",
       "    <tr>\n",
       "      <th>30281</th>\n",
       "      <td>And the Oskar Goes To..</td>\n",
       "      <td>Malayalam</td>\n",
       "      <td>116304.0</td>\n",
       "      <td>2</td>\n",
       "    </tr>\n",
       "    <tr>\n",
       "      <th>30282</th>\n",
       "      <td>And the Oskar Goes To..</td>\n",
       "      <td>Telugu</td>\n",
       "      <td>116304.0</td>\n",
       "      <td>2</td>\n",
       "    </tr>\n",
       "    <tr>\n",
       "      <th>30283</th>\n",
       "      <td>London Paris New York</td>\n",
       "      <td>Hindi</td>\n",
       "      <td>196317.0</td>\n",
       "      <td>1</td>\n",
       "    </tr>\n",
       "    <tr>\n",
       "      <th>30284</th>\n",
       "      <td>Jilla</td>\n",
       "      <td>Tamil</td>\n",
       "      <td>11050289.0</td>\n",
       "      <td>2</td>\n",
       "    </tr>\n",
       "    <tr>\n",
       "      <th>30285</th>\n",
       "      <td>Jilla</td>\n",
       "      <td>Malayalam</td>\n",
       "      <td>11050289.0</td>\n",
       "      <td>2</td>\n",
       "    </tr>\n",
       "  </tbody>\n",
       "</table>\n",
       "<p>30286 rows × 4 columns</p>\n",
       "</div>"
      ],
      "text/plain": [
       "                         title  languages  gross_worldwide  soluong\n",
       "0                      Bóng Ma    English      880681519.0        5\n",
       "1                      Bóng Ma    Spanish      880681519.0        5\n",
       "2                      Bóng Ma    Italian      880681519.0        5\n",
       "3                      Bóng Ma     German      880681519.0        5\n",
       "4                      Bóng Ma     French      880681519.0        5\n",
       "...                        ...        ...              ...      ...\n",
       "30281  And the Oskar Goes To..  Malayalam         116304.0        2\n",
       "30282  And the Oskar Goes To..     Telugu         116304.0        2\n",
       "30283    London Paris New York      Hindi         196317.0        1\n",
       "30284                    Jilla      Tamil       11050289.0        2\n",
       "30285                    Jilla  Malayalam       11050289.0        2\n",
       "\n",
       "[30286 rows x 4 columns]"
      ]
     },
     "execution_count": 72,
     "metadata": {},
     "output_type": "execute_result"
    }
   ],
   "source": [
    "result"
   ]
  },
  {
   "cell_type": "code",
   "execution_count": 73,
   "metadata": {
    "ExecuteTime": {
     "end_time": "2021-11-20T06:38:14.787298Z",
     "start_time": "2021-11-20T06:38:14.773330Z"
    },
    "executionInfo": {
     "elapsed": 538,
     "status": "ok",
     "timestamp": 1637159575685,
     "user": {
      "displayName": "Hà Nguyễn Thị Thu",
      "photoUrl": "https://lh3.googleusercontent.com/a-/AOh14GjUhT6EYNAMJqB20eBv8FEbqXf9FuI400MuOQSe=s64",
      "userId": "16701001084542361705"
     },
     "user_tz": -420
    },
    "id": "kMNlm3kKFfxv"
   },
   "outputs": [],
   "source": [
    "result = result.drop_duplicates('title', keep='last')"
   ]
  },
  {
   "cell_type": "code",
   "execution_count": 74,
   "metadata": {
    "ExecuteTime": {
     "end_time": "2021-11-20T06:38:14.802571Z",
     "start_time": "2021-11-20T06:38:14.788210Z"
    },
    "colab": {
     "base_uri": "https://localhost:8080/",
     "height": 417
    },
    "executionInfo": {
     "elapsed": 6,
     "status": "ok",
     "timestamp": 1637159576670,
     "user": {
      "displayName": "Hà Nguyễn Thị Thu",
      "photoUrl": "https://lh3.googleusercontent.com/a-/AOh14GjUhT6EYNAMJqB20eBv8FEbqXf9FuI400MuOQSe=s64",
      "userId": "16701001084542361705"
     },
     "user_tz": -420
    },
    "id": "FS0pR79DFmNl",
    "outputId": "141d3100-e90a-44c9-adb2-fb5c4f8d1ad6"
   },
   "outputs": [
    {
     "data": {
      "text/html": [
       "<div>\n",
       "<style scoped>\n",
       "    .dataframe tbody tr th:only-of-type {\n",
       "        vertical-align: middle;\n",
       "    }\n",
       "\n",
       "    .dataframe tbody tr th {\n",
       "        vertical-align: top;\n",
       "    }\n",
       "\n",
       "    .dataframe thead th {\n",
       "        text-align: right;\n",
       "    }\n",
       "</style>\n",
       "<table border=\"1\" class=\"dataframe\">\n",
       "  <thead>\n",
       "    <tr style=\"text-align: right;\">\n",
       "      <th></th>\n",
       "      <th>title</th>\n",
       "      <th>languages</th>\n",
       "      <th>gross_worldwide</th>\n",
       "      <th>soluong</th>\n",
       "    </tr>\n",
       "  </thead>\n",
       "  <tbody>\n",
       "    <tr>\n",
       "      <th>4</th>\n",
       "      <td>Bóng Ma</td>\n",
       "      <td>French</td>\n",
       "      <td>8.806815e+08</td>\n",
       "      <td>5</td>\n",
       "    </tr>\n",
       "    <tr>\n",
       "      <th>5</th>\n",
       "      <td>Halloween</td>\n",
       "      <td>English</td>\n",
       "      <td>2.556149e+08</td>\n",
       "      <td>1</td>\n",
       "    </tr>\n",
       "    <tr>\n",
       "      <th>8</th>\n",
       "      <td>Venom</td>\n",
       "      <td>Malay</td>\n",
       "      <td>8.560852e+08</td>\n",
       "      <td>3</td>\n",
       "    </tr>\n",
       "    <tr>\n",
       "      <th>13</th>\n",
       "      <td>Skyfall</td>\n",
       "      <td>Japanese</td>\n",
       "      <td>1.108569e+09</td>\n",
       "      <td>5</td>\n",
       "    </tr>\n",
       "    <tr>\n",
       "      <th>14</th>\n",
       "      <td>The Night House</td>\n",
       "      <td>English</td>\n",
       "      <td>1.516366e+07</td>\n",
       "      <td>1</td>\n",
       "    </tr>\n",
       "    <tr>\n",
       "      <th>...</th>\n",
       "      <td>...</td>\n",
       "      <td>...</td>\n",
       "      <td>...</td>\n",
       "      <td>...</td>\n",
       "    </tr>\n",
       "    <tr>\n",
       "      <th>30279</th>\n",
       "      <td>Hronia polla</td>\n",
       "      <td>Greek</td>\n",
       "      <td>2.156000e+03</td>\n",
       "      <td>1</td>\n",
       "    </tr>\n",
       "    <tr>\n",
       "      <th>30280</th>\n",
       "      <td>Scusa ma ti voglio sposare</td>\n",
       "      <td>Italian</td>\n",
       "      <td>1.128503e+07</td>\n",
       "      <td>1</td>\n",
       "    </tr>\n",
       "    <tr>\n",
       "      <th>30282</th>\n",
       "      <td>And the Oskar Goes To..</td>\n",
       "      <td>Telugu</td>\n",
       "      <td>1.163040e+05</td>\n",
       "      <td>2</td>\n",
       "    </tr>\n",
       "    <tr>\n",
       "      <th>30283</th>\n",
       "      <td>London Paris New York</td>\n",
       "      <td>Hindi</td>\n",
       "      <td>1.963170e+05</td>\n",
       "      <td>1</td>\n",
       "    </tr>\n",
       "    <tr>\n",
       "      <th>30285</th>\n",
       "      <td>Jilla</td>\n",
       "      <td>Malayalam</td>\n",
       "      <td>1.105029e+07</td>\n",
       "      <td>2</td>\n",
       "    </tr>\n",
       "  </tbody>\n",
       "</table>\n",
       "<p>21936 rows × 4 columns</p>\n",
       "</div>"
      ],
      "text/plain": [
       "                            title  languages  gross_worldwide  soluong\n",
       "4                         Bóng Ma     French     8.806815e+08        5\n",
       "5                       Halloween    English     2.556149e+08        1\n",
       "8                           Venom      Malay     8.560852e+08        3\n",
       "13                        Skyfall   Japanese     1.108569e+09        5\n",
       "14                The Night House    English     1.516366e+07        1\n",
       "...                           ...        ...              ...      ...\n",
       "30279                Hronia polla      Greek     2.156000e+03        1\n",
       "30280  Scusa ma ti voglio sposare    Italian     1.128503e+07        1\n",
       "30282     And the Oskar Goes To..     Telugu     1.163040e+05        2\n",
       "30283       London Paris New York      Hindi     1.963170e+05        1\n",
       "30285                       Jilla  Malayalam     1.105029e+07        2\n",
       "\n",
       "[21936 rows x 4 columns]"
      ]
     },
     "execution_count": 74,
     "metadata": {},
     "output_type": "execute_result"
    }
   ],
   "source": [
    "result"
   ]
  },
  {
   "cell_type": "code",
   "execution_count": 75,
   "metadata": {
    "ExecuteTime": {
     "end_time": "2021-11-20T06:38:14.817966Z",
     "start_time": "2021-11-20T06:38:14.803592Z"
    },
    "colab": {
     "base_uri": "https://localhost:8080/",
     "height": 110
    },
    "executionInfo": {
     "elapsed": 7,
     "status": "ok",
     "timestamp": 1637156781326,
     "user": {
      "displayName": "Hà Nguyễn Thị Thu",
      "photoUrl": "https://lh3.googleusercontent.com/a-/AOh14GjUhT6EYNAMJqB20eBv8FEbqXf9FuI400MuOQSe=s64",
      "userId": "16701001084542361705"
     },
     "user_tz": -420
    },
    "id": "nvkPNP5dIrzY",
    "outputId": "de44c2e1-8424-4c6f-c8c5-9458066e2d67"
   },
   "outputs": [
    {
     "data": {
      "text/html": [
       "<div>\n",
       "<style scoped>\n",
       "    .dataframe tbody tr th:only-of-type {\n",
       "        vertical-align: middle;\n",
       "    }\n",
       "\n",
       "    .dataframe tbody tr th {\n",
       "        vertical-align: top;\n",
       "    }\n",
       "\n",
       "    .dataframe thead th {\n",
       "        text-align: right;\n",
       "    }\n",
       "</style>\n",
       "<table border=\"1\" class=\"dataframe\">\n",
       "  <thead>\n",
       "    <tr style=\"text-align: right;\">\n",
       "      <th></th>\n",
       "      <th>gross_worldwide</th>\n",
       "      <th>soluong</th>\n",
       "    </tr>\n",
       "  </thead>\n",
       "  <tbody>\n",
       "    <tr>\n",
       "      <th>gross_worldwide</th>\n",
       "      <td>1.00000</td>\n",
       "      <td>0.14025</td>\n",
       "    </tr>\n",
       "    <tr>\n",
       "      <th>soluong</th>\n",
       "      <td>0.14025</td>\n",
       "      <td>1.00000</td>\n",
       "    </tr>\n",
       "  </tbody>\n",
       "</table>\n",
       "</div>"
      ],
      "text/plain": [
       "                 gross_worldwide  soluong\n",
       "gross_worldwide          1.00000  0.14025\n",
       "soluong                  0.14025  1.00000"
      ]
     },
     "execution_count": 75,
     "metadata": {},
     "output_type": "execute_result"
    }
   ],
   "source": [
    "#Kiểm tra số lượng ngôn ngữ có tương quan với doanh thu hay không?\n",
    "result[[\"gross_worldwide\",\"soluong\"]].corr()"
   ]
  },
  {
   "cell_type": "markdown",
   "metadata": {
    "id": "bKiMR-12ZBTf"
   },
   "source": [
    "Số lượng ngôn ngữ có sự tương quan đến doanh thu"
   ]
  },
  {
   "cell_type": "code",
   "execution_count": 76,
   "metadata": {
    "ExecuteTime": {
     "end_time": "2021-11-20T06:38:14.833345Z",
     "start_time": "2021-11-20T06:38:14.819459Z"
    },
    "colab": {
     "base_uri": "https://localhost:8080/"
    },
    "executionInfo": {
     "elapsed": 523,
     "status": "ok",
     "timestamp": 1637159257424,
     "user": {
      "displayName": "Hà Nguyễn Thị Thu",
      "photoUrl": "https://lh3.googleusercontent.com/a-/AOh14GjUhT6EYNAMJqB20eBv8FEbqXf9FuI400MuOQSe=s64",
      "userId": "16701001084542361705"
     },
     "user_tz": -420
    },
    "id": "2sYdtx2NRsxB",
    "outputId": "9789945b-def6-4f46-f49d-92f2e57a463b"
   },
   "outputs": [
    {
     "data": {
      "text/plain": [
       "5183"
      ]
     },
     "execution_count": 76,
     "metadata": {},
     "output_type": "execute_result"
    }
   ],
   "source": [
    "(result['soluong'] > 1).sum()"
   ]
  },
  {
   "cell_type": "code",
   "execution_count": 77,
   "metadata": {
    "ExecuteTime": {
     "end_time": "2021-11-20T06:38:14.848662Z",
     "start_time": "2021-11-20T06:38:14.836819Z"
    },
    "colab": {
     "base_uri": "https://localhost:8080/"
    },
    "executionInfo": {
     "elapsed": 421,
     "status": "ok",
     "timestamp": 1637159165099,
     "user": {
      "displayName": "Hà Nguyễn Thị Thu",
      "photoUrl": "https://lh3.googleusercontent.com/a-/AOh14GjUhT6EYNAMJqB20eBv8FEbqXf9FuI400MuOQSe=s64",
      "userId": "16701001084542361705"
     },
     "user_tz": -420
    },
    "id": "q-__-5r7R5CR",
    "outputId": "c0c74d62-b8f8-4330-d915-15213c46515a"
   },
   "outputs": [
    {
     "data": {
      "text/plain": [
       "16753"
      ]
     },
     "execution_count": 77,
     "metadata": {},
     "output_type": "execute_result"
    }
   ],
   "source": [
    "(result['soluong'] == 1).sum()"
   ]
  },
  {
   "cell_type": "code",
   "execution_count": 78,
   "metadata": {
    "ExecuteTime": {
     "end_time": "2021-11-20T06:38:14.987291Z",
     "start_time": "2021-11-20T06:38:14.850151Z"
    },
    "colab": {
     "base_uri": "https://localhost:8080/",
     "height": 877
    },
    "executionInfo": {
     "elapsed": 572,
     "status": "ok",
     "timestamp": 1637159269125,
     "user": {
      "displayName": "Hà Nguyễn Thị Thu",
      "photoUrl": "https://lh3.googleusercontent.com/a-/AOh14GjUhT6EYNAMJqB20eBv8FEbqXf9FuI400MuOQSe=s64",
      "userId": "16701001084542361705"
     },
     "user_tz": -420
    },
    "id": "-PO3UdNVFx1D",
    "outputId": "6d1a8581-dbd8-4c29-a202-52fbc73e3520"
   },
   "outputs": [
    {
     "data": {
      "image/png": "[encoded data removed]",
      "text/plain": [
       "<Figure size 1080x1080 with 1 Axes>"
      ]
     },
     "metadata": {
      "needs_background": "light"
     },
     "output_type": "display_data"
    }
   ],
   "source": [
    "fig_dims = (15, 15)\n",
    "fig, ax = plt.subplots(figsize=fig_dims)\n",
    "sns.boxplot(y=result[\"gross_worldwide\"], x=result['soluong'] > 1,showfliers=False)\n",
    "plt.ticklabel_format(style='plain', axis='y')\n",
    "plt.show()"
   ]
  },
  {
   "cell_type": "markdown",
   "metadata": {
    "id": "XW8ihlwHY7I1"
   },
   "source": [
    "Việc nhiều hơn một 1 ngữ có thể ảnh hưởng đến doanh thu"
   ]
  },
  {
   "cell_type": "markdown",
   "metadata": {
    "id": "RBQPAGMDGYaB"
   },
   "source": [
    "# certificate"
   ]
  },
  {
   "cell_type": "code",
   "execution_count": 79,
   "metadata": {
    "ExecuteTime": {
     "end_time": "2021-11-20T06:38:15.002654Z",
     "start_time": "2021-11-20T06:38:14.988804Z"
    },
    "colab": {
     "base_uri": "https://localhost:8080/"
    },
    "executionInfo": {
     "elapsed": 316,
     "status": "ok",
     "timestamp": 1637160270036,
     "user": {
      "displayName": "Hà Nguyễn Thị Thu",
      "photoUrl": "https://lh3.googleusercontent.com/a-/AOh14GjUhT6EYNAMJqB20eBv8FEbqXf9FuI400MuOQSe=s64",
      "userId": "16701001084542361705"
     },
     "user_tz": -420
    },
    "id": "6n9sfl5aWwFC",
    "outputId": "7d0861e7-e3b5-42ae-8995-a47c2a12954a"
   },
   "outputs": [
    {
     "data": {
      "text/plain": [
       "Unrated    2850\n",
       "C13        2657\n",
       "C16        1875\n",
       "P           911\n",
       "C18         592\n",
       "Name: certificate, dtype: int64"
      ]
     },
     "execution_count": 79,
     "metadata": {},
     "output_type": "execute_result"
    }
   ],
   "source": [
    "df[\"certificate\"].value_counts()"
   ]
  },
  {
   "cell_type": "code",
   "execution_count": 80,
   "metadata": {
    "ExecuteTime": {
     "end_time": "2021-11-20T06:38:15.155703Z",
     "start_time": "2021-11-20T06:38:15.004144Z"
    },
    "colab": {
     "base_uri": "https://localhost:8080/",
     "height": 279
    },
    "executionInfo": {
     "elapsed": 362,
     "status": "ok",
     "timestamp": 1637158777019,
     "user": {
      "displayName": "Hà Nguyễn Thị Thu",
      "photoUrl": "https://lh3.googleusercontent.com/a-/AOh14GjUhT6EYNAMJqB20eBv8FEbqXf9FuI400MuOQSe=s64",
      "userId": "16701001084542361705"
     },
     "user_tz": -420
    },
    "id": "48NrViGWEoUh",
    "outputId": "221ab15c-d80a-420f-b1d0-62cc39b4e1f8"
   },
   "outputs": [
    {
     "data": {
      "text/plain": [
       "<AxesSubplot:xlabel='certificate', ylabel='gross_worldwide'>"
      ]
     },
     "execution_count": 80,
     "metadata": {},
     "output_type": "execute_result"
    },
    {
     "data": {
      "image/png": "[encoded data removed]",
      "text/plain": [
       "<Figure size 720x720 with 1 Axes>"
      ]
     },
     "metadata": {
      "needs_background": "light"
     },
     "output_type": "display_data"
    }
   ],
   "source": [
    "plt.figure(figsize=(10, 10))\n",
    "sns.boxplot(y=df[\"gross_worldwide\"], x=df[\"certificate\"], showfliers=False)"
   ]
  },
  {
   "cell_type": "code",
   "execution_count": 81,
   "metadata": {
    "ExecuteTime": {
     "end_time": "2021-11-20T06:38:15.263224Z",
     "start_time": "2021-11-20T06:38:15.156694Z"
    },
    "colab": {
     "base_uri": "https://localhost:8080/",
     "height": 279
    },
    "executionInfo": {
     "elapsed": 766,
     "status": "ok",
     "timestamp": 1637156163350,
     "user": {
      "displayName": "Hà Nguyễn Thị Thu",
      "photoUrl": "https://lh3.googleusercontent.com/a-/AOh14GjUhT6EYNAMJqB20eBv8FEbqXf9FuI400MuOQSe=s64",
      "userId": "16701001084542361705"
     },
     "user_tz": -420
    },
    "id": "6bSAIiAmHCev",
    "outputId": "789d650a-3709-432b-9990-b2a7ad0a2e96"
   },
   "outputs": [
    {
     "data": {
      "image/png": "[encoded data removed]",
      "text/plain": [
       "<Figure size 432x288 with 1 Axes>"
      ]
     },
     "metadata": {
      "needs_background": "light"
     },
     "output_type": "display_data"
    }
   ],
   "source": [
    "sns.boxplot( y=df[\"gross_worldwide\"], x=df[\"color\"],showfliers=False)\n",
    "plt.ticklabel_format(style='plain', axis='y')\n",
    "plt.show()"
   ]
  },
  {
   "cell_type": "markdown",
   "metadata": {
    "id": "wXn-qUFcHT0W"
   },
   "source": [
    "# Genres"
   ]
  },
  {
   "cell_type": "code",
   "execution_count": 82,
   "metadata": {
    "ExecuteTime": {
     "end_time": "2021-11-20T06:38:15.278845Z",
     "start_time": "2021-11-20T06:38:15.264716Z"
    },
    "executionInfo": {
     "elapsed": 514,
     "status": "ok",
     "timestamp": 1637157171100,
     "user": {
      "displayName": "Hà Nguyễn Thị Thu",
      "photoUrl": "https://lh3.googleusercontent.com/a-/AOh14GjUhT6EYNAMJqB20eBv8FEbqXf9FuI400MuOQSe=s64",
      "userId": "16701001084542361705"
     },
     "user_tz": -420
    },
    "id": "sQW6cBHoHVOt"
   },
   "outputs": [],
   "source": [
    "df_genres = pd.DataFrame(columns=[\"title\",\"genres\", \"gross_worldwide\"])"
   ]
  },
  {
   "cell_type": "code",
   "execution_count": 83,
   "metadata": {
    "ExecuteTime": {
     "end_time": "2021-11-20T06:39:46.258574Z",
     "start_time": "2021-11-20T06:38:15.279836Z"
    },
    "executionInfo": {
     "elapsed": 156244,
     "status": "ok",
     "timestamp": 1637157328431,
     "user": {
      "displayName": "Hà Nguyễn Thị Thu",
      "photoUrl": "https://lh3.googleusercontent.com/a-/AOh14GjUhT6EYNAMJqB20eBv8FEbqXf9FuI400MuOQSe=s64",
      "userId": "16701001084542361705"
     },
     "user_tz": -420
    },
    "id": "MG7UMS3NHiyI"
   },
   "outputs": [],
   "source": [
    "for i in range(len(df)):\n",
    "    gen = df['genres'].iloc[i]\n",
    "    gen = list(str(gen).split(','))\n",
    "    if len(gen) == 1:\n",
    "        s = pd.Series([df['title'].iloc[i], gen[0], df['gross_worldwide'].iloc[i]], index=[\n",
    "                      \"title\", \"genres\", \"gross_worldwide\"])\n",
    "        df_genres = df_genres.append(s, ignore_index=True)\n",
    "    else:\n",
    "        for j in gen:\n",
    "            if j != \"\":\n",
    "                s = pd.Series([df['title'].iloc[i], j, df['gross_worldwide'].iloc[i]], index=[\n",
    "                              \"title\", \"genres\", \"gross_worldwide\"])\n",
    "                df_genres = df_genres.append(s, ignore_index=True)"
   ]
  },
  {
   "cell_type": "code",
   "execution_count": 84,
   "metadata": {
    "ExecuteTime": {
     "end_time": "2021-11-20T06:39:46.273954Z",
     "start_time": "2021-11-20T06:39:46.260090Z"
    },
    "colab": {
     "base_uri": "https://localhost:8080/",
     "height": 417
    },
    "executionInfo": {
     "elapsed": 355,
     "status": "ok",
     "timestamp": 1637157346115,
     "user": {
      "displayName": "Hà Nguyễn Thị Thu",
      "photoUrl": "https://lh3.googleusercontent.com/a-/AOh14GjUhT6EYNAMJqB20eBv8FEbqXf9FuI400MuOQSe=s64",
      "userId": "16701001084542361705"
     },
     "user_tz": -420
    },
    "id": "vHXs6qtdJg2t",
    "outputId": "64f68f2b-4333-4e0a-cf99-027f0b7fde1d"
   },
   "outputs": [
    {
     "data": {
      "text/html": [
       "<div>\n",
       "<style scoped>\n",
       "    .dataframe tbody tr th:only-of-type {\n",
       "        vertical-align: middle;\n",
       "    }\n",
       "\n",
       "    .dataframe tbody tr th {\n",
       "        vertical-align: top;\n",
       "    }\n",
       "\n",
       "    .dataframe thead th {\n",
       "        text-align: right;\n",
       "    }\n",
       "</style>\n",
       "<table border=\"1\" class=\"dataframe\">\n",
       "  <thead>\n",
       "    <tr style=\"text-align: right;\">\n",
       "      <th></th>\n",
       "      <th>title</th>\n",
       "      <th>genres</th>\n",
       "      <th>gross_worldwide</th>\n",
       "    </tr>\n",
       "  </thead>\n",
       "  <tbody>\n",
       "    <tr>\n",
       "      <th>0</th>\n",
       "      <td>Bóng Ma</td>\n",
       "      <td>Action</td>\n",
       "      <td>880681519.0</td>\n",
       "    </tr>\n",
       "    <tr>\n",
       "      <th>1</th>\n",
       "      <td>Bóng Ma</td>\n",
       "      <td>Adventure</td>\n",
       "      <td>880681519.0</td>\n",
       "    </tr>\n",
       "    <tr>\n",
       "      <th>2</th>\n",
       "      <td>Bóng Ma</td>\n",
       "      <td>Thriller</td>\n",
       "      <td>880681519.0</td>\n",
       "    </tr>\n",
       "    <tr>\n",
       "      <th>3</th>\n",
       "      <td>Halloween</td>\n",
       "      <td>Crime</td>\n",
       "      <td>255614941.0</td>\n",
       "    </tr>\n",
       "    <tr>\n",
       "      <th>4</th>\n",
       "      <td>Halloween</td>\n",
       "      <td>Horror</td>\n",
       "      <td>255614941.0</td>\n",
       "    </tr>\n",
       "    <tr>\n",
       "      <th>...</th>\n",
       "      <td>...</td>\n",
       "      <td>...</td>\n",
       "      <td>...</td>\n",
       "    </tr>\n",
       "    <tr>\n",
       "      <th>47459</th>\n",
       "      <td>Contre toi</td>\n",
       "      <td>Drama</td>\n",
       "      <td>243387.0</td>\n",
       "    </tr>\n",
       "    <tr>\n",
       "      <th>47460</th>\n",
       "      <td>Riaru: Kanzen naru kubinagaryû no hi</td>\n",
       "      <td>Drama</td>\n",
       "      <td>3801975.0</td>\n",
       "    </tr>\n",
       "    <tr>\n",
       "      <th>47461</th>\n",
       "      <td>Riaru: Kanzen naru kubinagaryû no hi</td>\n",
       "      <td>Sci-Fi</td>\n",
       "      <td>3801975.0</td>\n",
       "    </tr>\n",
       "    <tr>\n",
       "      <th>47462</th>\n",
       "      <td>Ashita no Jô</td>\n",
       "      <td>Drama</td>\n",
       "      <td>12208614.0</td>\n",
       "    </tr>\n",
       "    <tr>\n",
       "      <th>47463</th>\n",
       "      <td>Ashita no Jô</td>\n",
       "      <td>Sport</td>\n",
       "      <td>12208614.0</td>\n",
       "    </tr>\n",
       "  </tbody>\n",
       "</table>\n",
       "<p>47464 rows × 3 columns</p>\n",
       "</div>"
      ],
      "text/plain": [
       "                                      title     genres  gross_worldwide\n",
       "0                                   Bóng Ma     Action      880681519.0\n",
       "1                                   Bóng Ma  Adventure      880681519.0\n",
       "2                                   Bóng Ma   Thriller      880681519.0\n",
       "3                                 Halloween      Crime      255614941.0\n",
       "4                                 Halloween     Horror      255614941.0\n",
       "...                                     ...        ...              ...\n",
       "47459                            Contre toi      Drama         243387.0\n",
       "47460  Riaru: Kanzen naru kubinagaryû no hi      Drama        3801975.0\n",
       "47461  Riaru: Kanzen naru kubinagaryû no hi     Sci-Fi        3801975.0\n",
       "47462                          Ashita no Jô      Drama       12208614.0\n",
       "47463                          Ashita no Jô      Sport       12208614.0\n",
       "\n",
       "[47464 rows x 3 columns]"
      ]
     },
     "execution_count": 84,
     "metadata": {},
     "output_type": "execute_result"
    }
   ],
   "source": [
    "df_genres"
   ]
  },
  {
   "cell_type": "code",
   "execution_count": 85,
   "metadata": {
    "ExecuteTime": {
     "end_time": "2021-11-20T06:39:46.412217Z",
     "start_time": "2021-11-20T06:39:46.275938Z"
    },
    "executionInfo": {
     "elapsed": 530,
     "status": "ok",
     "timestamp": 1637158275429,
     "user": {
      "displayName": "Hà Nguyễn Thị Thu",
      "photoUrl": "https://lh3.googleusercontent.com/a-/AOh14GjUhT6EYNAMJqB20eBv8FEbqXf9FuI400MuOQSe=s64",
      "userId": "16701001084542361705"
     },
     "user_tz": -420
    },
    "id": "PsWMjYg0PJGw"
   },
   "outputs": [],
   "source": [
    "df_genres.to_csv(\"df_genres.csv\", encoding = \"utf-8\")"
   ]
  },
  {
   "cell_type": "code",
   "execution_count": 86,
   "metadata": {
    "ExecuteTime": {
     "end_time": "2021-11-20T06:39:46.427706Z",
     "start_time": "2021-11-20T06:39:46.413718Z"
    },
    "colab": {
     "base_uri": "https://localhost:8080/"
    },
    "executionInfo": {
     "elapsed": 346,
     "status": "ok",
     "timestamp": 1637157451498,
     "user": {
      "displayName": "Hà Nguyễn Thị Thu",
      "photoUrl": "https://lh3.googleusercontent.com/a-/AOh14GjUhT6EYNAMJqB20eBv8FEbqXf9FuI400MuOQSe=s64",
      "userId": "16701001084542361705"
     },
     "user_tz": -420
    },
    "id": "JLPJna6yL-le",
    "outputId": "c308b12d-39cf-4d60-804c-da44a49506b5"
   },
   "outputs": [
    {
     "data": {
      "text/plain": [
       "Drama         11450\n",
       "Comedy         7690\n",
       "Thriller       3803\n",
       "Romance        3487\n",
       "Action         3078\n",
       "Crime          2209\n",
       "Adventure      1859\n",
       "Horror         1804\n",
       "nan            1774\n",
       "Family         1656\n",
       "Fantasy        1443\n",
       "Mystery        1435\n",
       "Animation      1159\n",
       "Sci-Fi          981\n",
       "Biography       875\n",
       "History         839\n",
       "War             577\n",
       "Music           512\n",
       "Sport           391\n",
       "Musical         317\n",
       "Western         122\n",
       "News              2\n",
       "Reality-TV        1\n",
       "Name: genres, dtype: int64"
      ]
     },
     "execution_count": 86,
     "metadata": {},
     "output_type": "execute_result"
    }
   ],
   "source": [
    "df_genres['genres'].value_counts()"
   ]
  },
  {
   "cell_type": "code",
   "execution_count": 87,
   "metadata": {
    "ExecuteTime": {
     "end_time": "2021-11-20T06:39:46.658402Z",
     "start_time": "2021-11-20T06:39:46.429195Z"
    },
    "colab": {
     "base_uri": "https://localhost:8080/",
     "height": 638
    },
    "executionInfo": {
     "elapsed": 1123,
     "status": "ok",
     "timestamp": 1637157499463,
     "user": {
      "displayName": "Hà Nguyễn Thị Thu",
      "photoUrl": "https://lh3.googleusercontent.com/a-/AOh14GjUhT6EYNAMJqB20eBv8FEbqXf9FuI400MuOQSe=s64",
      "userId": "16701001084542361705"
     },
     "user_tz": -420
    },
    "id": "yx7du7OXLq5r",
    "outputId": "1f25ccee-8443-4a91-f605-ab1aad3c94f9"
   },
   "outputs": [
    {
     "data": {
      "text/plain": [
       "Text(0.5, 1.0, 'Genres Analysis')"
      ]
     },
     "execution_count": 87,
     "metadata": {},
     "output_type": "execute_result"
    },
    {
     "data": {
      "image/png": "[encoded data removed]",
      "text/plain": [
       "<Figure size 720x720 with 1 Axes>"
      ]
     },
     "metadata": {
      "needs_background": "light"
     },
     "output_type": "display_data"
    }
   ],
   "source": [
    "fig_dims = (10, 10)\n",
    "fig, ax = plt.subplots(figsize=fig_dims)\n",
    "sns.countplot(y=\"genres\",data=df_genres, order=df_genres.genres.value_counts().index[0:23]).set_title('Genres Analysis') "
   ]
  },
  {
   "cell_type": "code",
   "execution_count": 88,
   "metadata": {
    "ExecuteTime": {
     "end_time": "2021-11-20T06:39:47.165971Z",
     "start_time": "2021-11-20T06:39:46.659393Z"
    },
    "colab": {
     "base_uri": "https://localhost:8080/",
     "height": 897
    },
    "executionInfo": {
     "elapsed": 951,
     "status": "ok",
     "timestamp": 1637160354621,
     "user": {
      "displayName": "Hà Nguyễn Thị Thu",
      "photoUrl": "https://lh3.googleusercontent.com/a-/AOh14GjUhT6EYNAMJqB20eBv8FEbqXf9FuI400MuOQSe=s64",
      "userId": "16701001084542361705"
     },
     "user_tz": -420
    },
    "id": "_SPg7iUpMVAK",
    "outputId": "5f642d3f-75cb-4253-d2cc-a71d6977d8b9"
   },
   "outputs": [
    {
     "data": {
      "image/png": "[encoded data removed]",
      "text/plain": [
       "<Figure size 2160x1080 with 1 Axes>"
      ]
     },
     "metadata": {
      "needs_background": "light"
     },
     "output_type": "display_data"
    }
   ],
   "source": [
    "fig_dims = (30, 15)\n",
    "fig, ax = plt.subplots(figsize=fig_dims)\n",
    "sns.boxplot(y=df_genres[\"gross_worldwide\"], x=df_genres['genres'],showfliers=False)\n",
    "plt.ticklabel_format(style='plain', axis='y')\n",
    "plt.show()"
   ]
  },
  {
   "cell_type": "markdown",
   "metadata": {
    "id": "R1a2J6XUM0kl"
   },
   "source": [
    "# aspect_ratio"
   ]
  },
  {
   "cell_type": "code",
   "execution_count": 89,
   "metadata": {
    "ExecuteTime": {
     "end_time": "2021-11-20T06:39:47.181448Z",
     "start_time": "2021-11-20T06:39:47.167450Z"
    },
    "colab": {
     "base_uri": "https://localhost:8080/"
    },
    "executionInfo": {
     "elapsed": 454,
     "status": "ok",
     "timestamp": 1637157701512,
     "user": {
      "displayName": "Hà Nguyễn Thị Thu",
      "photoUrl": "https://lh3.googleusercontent.com/a-/AOh14GjUhT6EYNAMJqB20eBv8FEbqXf9FuI400MuOQSe=s64",
      "userId": "16701001084542361705"
     },
     "user_tz": -420
    },
    "id": "81Yv5MK5M0JZ",
    "outputId": "56c07fac-b1a8-4726-b88e-611bbf7ebf61"
   },
   "outputs": [
    {
     "data": {
      "text/plain": [
       "2.35:1                     5794\n",
       "1.85:1                     2792\n",
       "2.39:1                     1573\n",
       "1.78:1                      711\n",
       "1.66:1                      100\n",
       "1.78:1/(highdefinition)      94\n",
       "1.33:1                       65\n",
       "2.00:1                       53\n",
       "1.37:1                       39\n",
       "2.40:1                       23\n",
       "2.66:1                       22\n",
       "2:1                          22\n",
       "2.20:1                       16\n",
       "1.90:1                       13\n",
       "2:39:1                        9\n",
       "2.55:1                        8\n",
       "4:3                           7\n",
       "1.78:1(originalratio)         7\n",
       "2.4:1                         7\n",
       "1.50:1                        5\n",
       "Name: aspect_ratio, dtype: int64"
      ]
     },
     "execution_count": 89,
     "metadata": {},
     "output_type": "execute_result"
    }
   ],
   "source": [
    "df['aspect_ratio'].value_counts().head(20)"
   ]
  },
  {
   "cell_type": "code",
   "execution_count": 90,
   "metadata": {
    "ExecuteTime": {
     "end_time": "2021-11-20T06:39:47.197069Z",
     "start_time": "2021-11-20T06:39:47.182453Z"
    },
    "executionInfo": {
     "elapsed": 354,
     "status": "ok",
     "timestamp": 1637158078400,
     "user": {
      "displayName": "Hà Nguyễn Thị Thu",
      "photoUrl": "https://lh3.googleusercontent.com/a-/AOh14GjUhT6EYNAMJqB20eBv8FEbqXf9FuI400MuOQSe=s64",
      "userId": "16701001084542361705"
     },
     "user_tz": -420
    },
    "id": "w2QbWIDLOYTh"
   },
   "outputs": [],
   "source": [
    "df_test = df[['aspect_ratio', 'release_date','gross_worldwide']]\n",
    "df_gr = df_test.groupby(['aspect_ratio', 'release_date'], as_index = False).mean()"
   ]
  },
  {
   "cell_type": "code",
   "execution_count": 91,
   "metadata": {
    "ExecuteTime": {
     "end_time": "2021-11-20T06:39:47.243222Z",
     "start_time": "2021-11-20T06:39:47.198064Z"
    },
    "colab": {
     "base_uri": "https://localhost:8080/",
     "height": 596
    },
    "executionInfo": {
     "elapsed": 506,
     "status": "ok",
     "timestamp": 1637158102511,
     "user": {
      "displayName": "Hà Nguyễn Thị Thu",
      "photoUrl": "https://lh3.googleusercontent.com/a-/AOh14GjUhT6EYNAMJqB20eBv8FEbqXf9FuI400MuOQSe=s64",
      "userId": "16701001084542361705"
     },
     "user_tz": -420
    },
    "id": "ExyNMgp9Od0A",
    "outputId": "99d22a88-04eb-4961-d50c-52ce04e341a5"
   },
   "outputs": [
    {
     "data": {
      "text/html": [
       "<div>\n",
       "<style scoped>\n",
       "    .dataframe tbody tr th:only-of-type {\n",
       "        vertical-align: middle;\n",
       "    }\n",
       "\n",
       "    .dataframe tbody tr th {\n",
       "        vertical-align: top;\n",
       "    }\n",
       "\n",
       "    .dataframe thead tr th {\n",
       "        text-align: left;\n",
       "    }\n",
       "\n",
       "    .dataframe thead tr:last-of-type th {\n",
       "        text-align: right;\n",
       "    }\n",
       "</style>\n",
       "<table border=\"1\" class=\"dataframe\">\n",
       "  <thead>\n",
       "    <tr>\n",
       "      <th></th>\n",
       "      <th colspan=\"21\" halign=\"left\">gross_worldwide</th>\n",
       "    </tr>\n",
       "    <tr>\n",
       "      <th>aspect_ratio</th>\n",
       "      <th>1.00:1</th>\n",
       "      <th>1.19:1</th>\n",
       "      <th>1.20:1</th>\n",
       "      <th>1.33:1</th>\n",
       "      <th>1.37:1</th>\n",
       "      <th>1.40:1</th>\n",
       "      <th>1.50:1</th>\n",
       "      <th>1.55:1</th>\n",
       "      <th>1.56:1</th>\n",
       "      <th>1.61:1</th>\n",
       "      <th>...</th>\n",
       "      <th>3.2:1(originalrelease)</th>\n",
       "      <th>3.66:1</th>\n",
       "      <th>3:1</th>\n",
       "      <th>4:3</th>\n",
       "      <th>Anamorphic</th>\n",
       "      <th>CinemaScope</th>\n",
       "      <th>Circular</th>\n",
       "      <th>Stereoscopic3D</th>\n",
       "      <th>tondoscope</th>\n",
       "      <th>überscope</th>\n",
       "    </tr>\n",
       "    <tr>\n",
       "      <th>release_date</th>\n",
       "      <th></th>\n",
       "      <th></th>\n",
       "      <th></th>\n",
       "      <th></th>\n",
       "      <th></th>\n",
       "      <th></th>\n",
       "      <th></th>\n",
       "      <th></th>\n",
       "      <th></th>\n",
       "      <th></th>\n",
       "      <th></th>\n",
       "      <th></th>\n",
       "      <th></th>\n",
       "      <th></th>\n",
       "      <th></th>\n",
       "      <th></th>\n",
       "      <th></th>\n",
       "      <th></th>\n",
       "      <th></th>\n",
       "      <th></th>\n",
       "      <th></th>\n",
       "    </tr>\n",
       "  </thead>\n",
       "  <tbody>\n",
       "    <tr>\n",
       "      <th>2010.0</th>\n",
       "      <td>NaN</td>\n",
       "      <td>NaN</td>\n",
       "      <td>NaN</td>\n",
       "      <td>NaN</td>\n",
       "      <td>NaN</td>\n",
       "      <td>NaN</td>\n",
       "      <td>NaN</td>\n",
       "      <td>NaN</td>\n",
       "      <td>NaN</td>\n",
       "      <td>NaN</td>\n",
       "      <td>...</td>\n",
       "      <td>NaN</td>\n",
       "      <td>NaN</td>\n",
       "      <td>NaN</td>\n",
       "      <td>NaN</td>\n",
       "      <td>NaN</td>\n",
       "      <td>NaN</td>\n",
       "      <td>NaN</td>\n",
       "      <td>NaN</td>\n",
       "      <td>NaN</td>\n",
       "      <td>NaN</td>\n",
       "    </tr>\n",
       "    <tr>\n",
       "      <th>2011.0</th>\n",
       "      <td>NaN</td>\n",
       "      <td>NaN</td>\n",
       "      <td>NaN</td>\n",
       "      <td>5.578429e+06</td>\n",
       "      <td>1.742215e+06</td>\n",
       "      <td>NaN</td>\n",
       "      <td>NaN</td>\n",
       "      <td>NaN</td>\n",
       "      <td>NaN</td>\n",
       "      <td>NaN</td>\n",
       "      <td>...</td>\n",
       "      <td>NaN</td>\n",
       "      <td>NaN</td>\n",
       "      <td>NaN</td>\n",
       "      <td>NaN</td>\n",
       "      <td>NaN</td>\n",
       "      <td>NaN</td>\n",
       "      <td>NaN</td>\n",
       "      <td>NaN</td>\n",
       "      <td>NaN</td>\n",
       "      <td>15298.0</td>\n",
       "    </tr>\n",
       "    <tr>\n",
       "      <th>2012.0</th>\n",
       "      <td>NaN</td>\n",
       "      <td>NaN</td>\n",
       "      <td>NaN</td>\n",
       "      <td>4.462235e+07</td>\n",
       "      <td>2.872556e+05</td>\n",
       "      <td>7699095.0</td>\n",
       "      <td>NaN</td>\n",
       "      <td>NaN</td>\n",
       "      <td>NaN</td>\n",
       "      <td>NaN</td>\n",
       "      <td>...</td>\n",
       "      <td>NaN</td>\n",
       "      <td>NaN</td>\n",
       "      <td>NaN</td>\n",
       "      <td>NaN</td>\n",
       "      <td>NaN</td>\n",
       "      <td>NaN</td>\n",
       "      <td>NaN</td>\n",
       "      <td>NaN</td>\n",
       "      <td>NaN</td>\n",
       "      <td>NaN</td>\n",
       "    </tr>\n",
       "    <tr>\n",
       "      <th>2013.0</th>\n",
       "      <td>NaN</td>\n",
       "      <td>NaN</td>\n",
       "      <td>NaN</td>\n",
       "      <td>4.688500e+04</td>\n",
       "      <td>5.593910e+06</td>\n",
       "      <td>NaN</td>\n",
       "      <td>NaN</td>\n",
       "      <td>NaN</td>\n",
       "      <td>NaN</td>\n",
       "      <td>NaN</td>\n",
       "      <td>...</td>\n",
       "      <td>NaN</td>\n",
       "      <td>7433.0</td>\n",
       "      <td>NaN</td>\n",
       "      <td>NaN</td>\n",
       "      <td>NaN</td>\n",
       "      <td>NaN</td>\n",
       "      <td>NaN</td>\n",
       "      <td>1909712.0</td>\n",
       "      <td>NaN</td>\n",
       "      <td>NaN</td>\n",
       "    </tr>\n",
       "    <tr>\n",
       "      <th>2014.0</th>\n",
       "      <td>NaN</td>\n",
       "      <td>NaN</td>\n",
       "      <td>NaN</td>\n",
       "      <td>9.411144e+07</td>\n",
       "      <td>NaN</td>\n",
       "      <td>NaN</td>\n",
       "      <td>NaN</td>\n",
       "      <td>NaN</td>\n",
       "      <td>NaN</td>\n",
       "      <td>NaN</td>\n",
       "      <td>...</td>\n",
       "      <td>NaN</td>\n",
       "      <td>NaN</td>\n",
       "      <td>NaN</td>\n",
       "      <td>NaN</td>\n",
       "      <td>NaN</td>\n",
       "      <td>9299.0</td>\n",
       "      <td>NaN</td>\n",
       "      <td>NaN</td>\n",
       "      <td>NaN</td>\n",
       "      <td>NaN</td>\n",
       "    </tr>\n",
       "    <tr>\n",
       "      <th>2015.0</th>\n",
       "      <td>NaN</td>\n",
       "      <td>NaN</td>\n",
       "      <td>NaN</td>\n",
       "      <td>4.647330e+05</td>\n",
       "      <td>4.710546e+06</td>\n",
       "      <td>NaN</td>\n",
       "      <td>NaN</td>\n",
       "      <td>NaN</td>\n",
       "      <td>NaN</td>\n",
       "      <td>NaN</td>\n",
       "      <td>...</td>\n",
       "      <td>NaN</td>\n",
       "      <td>NaN</td>\n",
       "      <td>NaN</td>\n",
       "      <td>NaN</td>\n",
       "      <td>NaN</td>\n",
       "      <td>NaN</td>\n",
       "      <td>NaN</td>\n",
       "      <td>NaN</td>\n",
       "      <td>NaN</td>\n",
       "      <td>NaN</td>\n",
       "    </tr>\n",
       "    <tr>\n",
       "      <th>2016.0</th>\n",
       "      <td>NaN</td>\n",
       "      <td>NaN</td>\n",
       "      <td>NaN</td>\n",
       "      <td>2.457792e+05</td>\n",
       "      <td>1.567474e+06</td>\n",
       "      <td>NaN</td>\n",
       "      <td>NaN</td>\n",
       "      <td>232289.0</td>\n",
       "      <td>NaN</td>\n",
       "      <td>NaN</td>\n",
       "      <td>...</td>\n",
       "      <td>NaN</td>\n",
       "      <td>NaN</td>\n",
       "      <td>NaN</td>\n",
       "      <td>NaN</td>\n",
       "      <td>NaN</td>\n",
       "      <td>NaN</td>\n",
       "      <td>70826207.0</td>\n",
       "      <td>NaN</td>\n",
       "      <td>10829.0</td>\n",
       "      <td>NaN</td>\n",
       "    </tr>\n",
       "    <tr>\n",
       "      <th>2017.0</th>\n",
       "      <td>95040.0</td>\n",
       "      <td>NaN</td>\n",
       "      <td>1567686.0</td>\n",
       "      <td>6.329842e+06</td>\n",
       "      <td>2.530057e+05</td>\n",
       "      <td>NaN</td>\n",
       "      <td>504078.0</td>\n",
       "      <td>3592.0</td>\n",
       "      <td>NaN</td>\n",
       "      <td>NaN</td>\n",
       "      <td>...</td>\n",
       "      <td>NaN</td>\n",
       "      <td>NaN</td>\n",
       "      <td>NaN</td>\n",
       "      <td>106436.000000</td>\n",
       "      <td>NaN</td>\n",
       "      <td>1151913.0</td>\n",
       "      <td>NaN</td>\n",
       "      <td>NaN</td>\n",
       "      <td>NaN</td>\n",
       "      <td>NaN</td>\n",
       "    </tr>\n",
       "    <tr>\n",
       "      <th>2018.0</th>\n",
       "      <td>NaN</td>\n",
       "      <td>NaN</td>\n",
       "      <td>NaN</td>\n",
       "      <td>4.756515e+04</td>\n",
       "      <td>3.308988e+06</td>\n",
       "      <td>NaN</td>\n",
       "      <td>158399.0</td>\n",
       "      <td>NaN</td>\n",
       "      <td>14293601.0</td>\n",
       "      <td>NaN</td>\n",
       "      <td>...</td>\n",
       "      <td>NaN</td>\n",
       "      <td>NaN</td>\n",
       "      <td>NaN</td>\n",
       "      <td>58954.000000</td>\n",
       "      <td>NaN</td>\n",
       "      <td>4795.0</td>\n",
       "      <td>NaN</td>\n",
       "      <td>NaN</td>\n",
       "      <td>NaN</td>\n",
       "      <td>NaN</td>\n",
       "    </tr>\n",
       "    <tr>\n",
       "      <th>2019.0</th>\n",
       "      <td>NaN</td>\n",
       "      <td>18124206.0</td>\n",
       "      <td>NaN</td>\n",
       "      <td>4.186724e+05</td>\n",
       "      <td>3.576703e+06</td>\n",
       "      <td>NaN</td>\n",
       "      <td>NaN</td>\n",
       "      <td>151450.0</td>\n",
       "      <td>NaN</td>\n",
       "      <td>52843.0</td>\n",
       "      <td>...</td>\n",
       "      <td>NaN</td>\n",
       "      <td>NaN</td>\n",
       "      <td>1869.0</td>\n",
       "      <td>803.000000</td>\n",
       "      <td>NaN</td>\n",
       "      <td>NaN</td>\n",
       "      <td>NaN</td>\n",
       "      <td>NaN</td>\n",
       "      <td>NaN</td>\n",
       "      <td>NaN</td>\n",
       "    </tr>\n",
       "    <tr>\n",
       "      <th>2020.0</th>\n",
       "      <td>NaN</td>\n",
       "      <td>NaN</td>\n",
       "      <td>NaN</td>\n",
       "      <td>1.007381e+05</td>\n",
       "      <td>4.990754e+05</td>\n",
       "      <td>NaN</td>\n",
       "      <td>115871.0</td>\n",
       "      <td>22051055.0</td>\n",
       "      <td>NaN</td>\n",
       "      <td>NaN</td>\n",
       "      <td>...</td>\n",
       "      <td>2532.0</td>\n",
       "      <td>NaN</td>\n",
       "      <td>NaN</td>\n",
       "      <td>NaN</td>\n",
       "      <td>2073.0</td>\n",
       "      <td>NaN</td>\n",
       "      <td>NaN</td>\n",
       "      <td>NaN</td>\n",
       "      <td>NaN</td>\n",
       "      <td>NaN</td>\n",
       "    </tr>\n",
       "    <tr>\n",
       "      <th>2021.0</th>\n",
       "      <td>NaN</td>\n",
       "      <td>NaN</td>\n",
       "      <td>NaN</td>\n",
       "      <td>5.129000e+03</td>\n",
       "      <td>1.003020e+05</td>\n",
       "      <td>NaN</td>\n",
       "      <td>NaN</td>\n",
       "      <td>NaN</td>\n",
       "      <td>NaN</td>\n",
       "      <td>NaN</td>\n",
       "      <td>...</td>\n",
       "      <td>NaN</td>\n",
       "      <td>NaN</td>\n",
       "      <td>NaN</td>\n",
       "      <td>83746.666667</td>\n",
       "      <td>NaN</td>\n",
       "      <td>NaN</td>\n",
       "      <td>NaN</td>\n",
       "      <td>NaN</td>\n",
       "      <td>NaN</td>\n",
       "      <td>NaN</td>\n",
       "    </tr>\n",
       "  </tbody>\n",
       "</table>\n",
       "<p>12 rows × 77 columns</p>\n",
       "</div>"
      ],
      "text/plain": [
       "             gross_worldwide                                       \\\n",
       "aspect_ratio          1.00:1      1.19:1     1.20:1        1.33:1   \n",
       "release_date                                                        \n",
       "2010.0                   NaN         NaN        NaN           NaN   \n",
       "2011.0                   NaN         NaN        NaN  5.578429e+06   \n",
       "2012.0                   NaN         NaN        NaN  4.462235e+07   \n",
       "2013.0                   NaN         NaN        NaN  4.688500e+04   \n",
       "2014.0                   NaN         NaN        NaN  9.411144e+07   \n",
       "2015.0                   NaN         NaN        NaN  4.647330e+05   \n",
       "2016.0                   NaN         NaN        NaN  2.457792e+05   \n",
       "2017.0               95040.0         NaN  1567686.0  6.329842e+06   \n",
       "2018.0                   NaN         NaN        NaN  4.756515e+04   \n",
       "2019.0                   NaN  18124206.0        NaN  4.186724e+05   \n",
       "2020.0                   NaN         NaN        NaN  1.007381e+05   \n",
       "2021.0                   NaN         NaN        NaN  5.129000e+03   \n",
       "\n",
       "                                                                         \\\n",
       "aspect_ratio        1.37:1     1.40:1    1.50:1      1.55:1      1.56:1   \n",
       "release_date                                                              \n",
       "2010.0                 NaN        NaN       NaN         NaN         NaN   \n",
       "2011.0        1.742215e+06        NaN       NaN         NaN         NaN   \n",
       "2012.0        2.872556e+05  7699095.0       NaN         NaN         NaN   \n",
       "2013.0        5.593910e+06        NaN       NaN         NaN         NaN   \n",
       "2014.0                 NaN        NaN       NaN         NaN         NaN   \n",
       "2015.0        4.710546e+06        NaN       NaN         NaN         NaN   \n",
       "2016.0        1.567474e+06        NaN       NaN    232289.0         NaN   \n",
       "2017.0        2.530057e+05        NaN  504078.0      3592.0         NaN   \n",
       "2018.0        3.308988e+06        NaN  158399.0         NaN  14293601.0   \n",
       "2019.0        3.576703e+06        NaN       NaN    151450.0         NaN   \n",
       "2020.0        4.990754e+05        NaN  115871.0  22051055.0         NaN   \n",
       "2021.0        1.003020e+05        NaN       NaN         NaN         NaN   \n",
       "\n",
       "                       ...                                         \\\n",
       "aspect_ratio   1.61:1  ... 3.2:1(originalrelease)  3.66:1     3:1   \n",
       "release_date           ...                                          \n",
       "2010.0            NaN  ...                    NaN     NaN     NaN   \n",
       "2011.0            NaN  ...                    NaN     NaN     NaN   \n",
       "2012.0            NaN  ...                    NaN     NaN     NaN   \n",
       "2013.0            NaN  ...                    NaN  7433.0     NaN   \n",
       "2014.0            NaN  ...                    NaN     NaN     NaN   \n",
       "2015.0            NaN  ...                    NaN     NaN     NaN   \n",
       "2016.0            NaN  ...                    NaN     NaN     NaN   \n",
       "2017.0            NaN  ...                    NaN     NaN     NaN   \n",
       "2018.0            NaN  ...                    NaN     NaN     NaN   \n",
       "2019.0        52843.0  ...                    NaN     NaN  1869.0   \n",
       "2020.0            NaN  ...                 2532.0     NaN     NaN   \n",
       "2021.0            NaN  ...                    NaN     NaN     NaN   \n",
       "\n",
       "                                                                               \\\n",
       "aspect_ratio            4:3 Anamorphic CinemaScope    Circular Stereoscopic3D   \n",
       "release_date                                                                    \n",
       "2010.0                  NaN        NaN         NaN         NaN            NaN   \n",
       "2011.0                  NaN        NaN         NaN         NaN            NaN   \n",
       "2012.0                  NaN        NaN         NaN         NaN            NaN   \n",
       "2013.0                  NaN        NaN         NaN         NaN      1909712.0   \n",
       "2014.0                  NaN        NaN      9299.0         NaN            NaN   \n",
       "2015.0                  NaN        NaN         NaN         NaN            NaN   \n",
       "2016.0                  NaN        NaN         NaN  70826207.0            NaN   \n",
       "2017.0        106436.000000        NaN   1151913.0         NaN            NaN   \n",
       "2018.0         58954.000000        NaN      4795.0         NaN            NaN   \n",
       "2019.0           803.000000        NaN         NaN         NaN            NaN   \n",
       "2020.0                  NaN     2073.0         NaN         NaN            NaN   \n",
       "2021.0         83746.666667        NaN         NaN         NaN            NaN   \n",
       "\n",
       "                                   \n",
       "aspect_ratio tondoscope überscope  \n",
       "release_date                       \n",
       "2010.0              NaN       NaN  \n",
       "2011.0              NaN   15298.0  \n",
       "2012.0              NaN       NaN  \n",
       "2013.0              NaN       NaN  \n",
       "2014.0              NaN       NaN  \n",
       "2015.0              NaN       NaN  \n",
       "2016.0          10829.0       NaN  \n",
       "2017.0              NaN       NaN  \n",
       "2018.0              NaN       NaN  \n",
       "2019.0              NaN       NaN  \n",
       "2020.0              NaN       NaN  \n",
       "2021.0              NaN       NaN  \n",
       "\n",
       "[12 rows x 77 columns]"
      ]
     },
     "execution_count": 91,
     "metadata": {},
     "output_type": "execute_result"
    }
   ],
   "source": [
    "df_pivot = df_gr.pivot(index = 'release_date', columns = 'aspect_ratio')\n",
    "df_pivot"
   ]
  },
  {
   "cell_type": "code",
   "execution_count": null,
   "metadata": {
    "id": "g7pwYVrPO2NY"
   },
   "outputs": [],
   "source": []
  }
 ],
 "metadata": {
  "colab": {
   "authorship_tag": "ABX9TyO2/mJZPEPrNKVl+hJrrOsb",
   "name": "EDA-Ha.ipynb",
   "provenance": []
  },
  "hide_input": false,
  "kernelspec": {
   "display_name": "Python 3 (ipykernel)",
   "language": "python",
   "name": "python3"
  },
  "language_info": {
   "codemirror_mode": {
    "name": "ipython",
    "version": 3
   },
   "file_extension": ".py",
   "mimetype": "text/x-python",
   "name": "python",
   "nbconvert_exporter": "python",
   "pygments_lexer": "ipython3",
   "version": "3.8.12"
  },
  "toc": {
   "base_numbering": 1,
   "nav_menu": {},
   "number_sections": true,
   "sideBar": true,
   "skip_h1_title": false,
   "title_cell": "Table of Contents",
   "title_sidebar": "Contents",
   "toc_cell": false,
   "toc_position": {
    "height": "calc(100% - 180px)",
    "left": "10px",
    "top": "150px",
    "width": "384px"
   },
   "toc_section_display": true,
   "toc_window_display": true
  }
 },
 "nbformat": 4,
 "nbformat_minor": 1
}
